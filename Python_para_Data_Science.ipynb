{
  "nbformat": 4,
  "nbformat_minor": 0,
  "metadata": {
    "colab": {
      "provenance": [],
      "authorship_tag": "ABX9TyN7RAlYzaA1MZY7HPYpph5A",
      "include_colab_link": true
    },
    "kernelspec": {
      "name": "python3",
      "display_name": "Python 3"
    },
    "language_info": {
      "name": "python"
    }
  },
  "cells": [
    {
      "cell_type": "markdown",
      "metadata": {
        "id": "view-in-github",
        "colab_type": "text"
      },
      "source": [
        "<a href=\"https://colab.research.google.com/github/w2k31984/Python-for-Data-Science/blob/master/Python_para_Data_Science.ipynb\" target=\"_parent\"><img src=\"https://colab.research.google.com/assets/colab-badge.svg\" alt=\"Open In Colab\"/></a>"
      ]
    },
    {
      "cell_type": "markdown",
      "source": [
        "![openinColab.png](data:image/png;base64,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)"
      ],
      "metadata": {
        "id": "4TqjasGM4ALV"
      }
    },
    {
      "cell_type": "markdown",
      "source": [
        "#Python para Data Science.\n",
        "Notebook para el curso de python para Data Science publicado en la plataforma de [Alura Latam](https://app.aluracursos.com/course/python-data-science-primeros-pasos).\n",
        "\n",
        "\n",
        "\n"
      ],
      "metadata": {
        "id": "ykD9sURe2Ghb"
      }
    },
    {
      "cell_type": "markdown",
      "source": [
        "Vamos a ejecutar nuestro primer comando utilizando la primera funcion llamada: [print](https://docs.python.org/3/library/functions.html#print)()."
      ],
      "metadata": {
        "id": "IeEHtXD75eeb"
      }
    },
    {
      "cell_type": "code",
      "source": [
        "#Creamos una variable donde colocaremos el mensaje luego con la funcion print(colocaremos la varible que contiene nuestro mensaje)\n",
        "saludo = \"Hola Mundo!\"\n",
        "print(saludo)"
      ],
      "metadata": {
        "colab": {
          "base_uri": "https://localhost:8080/"
        },
        "id": "XKbNCVeT4xkp",
        "outputId": "883fab3d-bee3-49f0-9535-73d93fdb7479"
      },
      "execution_count": null,
      "outputs": [
        {
          "output_type": "stream",
          "name": "stdout",
          "text": [
            "Hola Mundo!\n"
          ]
        }
      ]
    },
    {
      "cell_type": "code",
      "source": [
        "# Precionamos shift+enter para ejecutar la celda.\n",
        "15"
      ],
      "metadata": {
        "colab": {
          "base_uri": "https://localhost:8080/"
        },
        "id": "F0Pdy-3r6mFD",
        "outputId": "268c8726-ed31-415d-9dde-a5c1bd1d754c"
      },
      "execution_count": null,
      "outputs": [
        {
          "output_type": "execute_result",
          "data": {
            "text/plain": [
              "15"
            ]
          },
          "metadata": {},
          "execution_count": 5
        }
      ]
    },
    {
      "cell_type": "code",
      "source": [
        "#Unicamente colocamos el mensaje dentro de la funcion print.\n",
        "print(\"Mi nombre es Cristian Parada, tengo 40 años de edad y soy un apasionado de la ciencia de datos!\")"
      ],
      "metadata": {
        "colab": {
          "base_uri": "https://localhost:8080/"
        },
        "id": "biGcDIy18Ofj",
        "outputId": "4f206618-9394-4470-d8fb-7ea1afe75859"
      },
      "execution_count": null,
      "outputs": [
        {
          "output_type": "stream",
          "name": "stdout",
          "text": [
            "Mi nombre es Cristian Parada, tengo 40 años de edad y soy un apasionado de la ciencia de datos!\n"
          ]
        }
      ]
    },
    {
      "cell_type": "code",
      "source": [
        "#Imprime la frase \"Escuela de Datos de Alura\"\n",
        "frase= \"Escuela de Datos de Alura\"\n",
        "print(frase)"
      ],
      "metadata": {
        "colab": {
          "base_uri": "https://localhost:8080/"
        },
        "id": "PJVrSBYf9QqE",
        "outputId": "af289cd5-2097-42b1-e565-a84cc2d9b491"
      },
      "execution_count": null,
      "outputs": [
        {
          "output_type": "stream",
          "name": "stdout",
          "text": [
            "Escuela de Datos de Alura\n"
          ]
        }
      ]
    },
    {
      "cell_type": "code",
      "source": [
        "#Imprime tu nombre y tu apellido\n",
        "nombre = \"Cristian\"\n",
        "apellido = \"Parada\"\n",
        "print(nombre, apellido)"
      ],
      "metadata": {
        "colab": {
          "base_uri": "https://localhost:8080/"
        },
        "id": "HpV8tL0K9UJz",
        "outputId": "a7a75ab6-6fec-4a45-8ee8-5ce7a9f1d9f4"
      },
      "execution_count": null,
      "outputs": [
        {
          "output_type": "stream",
          "name": "stdout",
          "text": [
            "Cristian Parada\n"
          ]
        }
      ]
    },
    {
      "cell_type": "code",
      "source": [
        "#Imprimir letra por letra mi nombre\n",
        "nombre = \"Cristian\"\n",
        "\n",
        "for letra in nombre: #Creando un bucle for para poder sacar cada una de las letras de la cadena en la variable nombre.\n",
        "    print(letra)"
      ],
      "metadata": {
        "colab": {
          "base_uri": "https://localhost:8080/"
        },
        "id": "m-jhl-Ex9rVX",
        "outputId": "6676558b-6fba-4481-8fa3-5d4d50b5d99c"
      },
      "execution_count": null,
      "outputs": [
        {
          "output_type": "stream",
          "name": "stdout",
          "text": [
            "C\n",
            "r\n",
            "i\n",
            "s\n",
            "t\n",
            "i\n",
            "a\n",
            "n\n"
          ]
        }
      ]
    },
    {
      "cell_type": "code",
      "source": [
        "#Imprime tu fecha de nacimiento en formato día mes año.\n",
        "dia = 8\n",
        "mes = 9\n",
        "año = 1984\n",
        "print(f\"Mi fecha de cumpleaños es: {dia:02d} {mes:02d} {año}\") #Utilizo la conversion para que salga la fecha con el formato deseado."
      ],
      "metadata": {
        "colab": {
          "base_uri": "https://localhost:8080/"
        },
        "id": "TDEaeC_S-LNU",
        "outputId": "9e6f13de-a5db-4fd1-d58d-93d6fa8167aa"
      },
      "execution_count": null,
      "outputs": [
        {
          "output_type": "stream",
          "name": "stdout",
          "text": [
            "Mi fecha de cumpleaños es: 08 09 1984\n"
          ]
        }
      ]
    },
    {
      "cell_type": "code",
      "source": [
        "#Imprime, en una sola instrucción print, el año actual en el que estás realizando este curso.\n",
        "año_actual = 2025\n",
        "print(f\"El año actual del curso es:\", año_actual) # utilizamos\"f\" antes de las comillas para indicar que se trata de una cadena formateada"
      ],
      "metadata": {
        "colab": {
          "base_uri": "https://localhost:8080/"
        },
        "id": "ZpkF3xoaBF-Q",
        "outputId": "dfa2f180-d284-4319-9e69-c7efb8710727"
      },
      "execution_count": null,
      "outputs": [
        {
          "output_type": "stream",
          "name": "stdout",
          "text": [
            "El año actual del curso es: 2025\n"
          ]
        }
      ]
    },
    {
      "cell_type": "markdown",
      "source": [
        "# Manipulando los datos\n",
        "Vamos aprender sobre las variables en Python, como declararlas y utilizarlas ademas de conocer otros comandos de este lenguaje."
      ],
      "metadata": {
        "id": "d7kwQSSs8ita"
      }
    },
    {
      "cell_type": "markdown",
      "source": [
        "# Variables\n",
        "En Data Science trabajamos con varios tipos de datos, e informaciones entonces es escencial conocer como trabajar con variables.\n",
        "Las variables en python se crean cuando atribuimos un valor a ellas.\n",
        "Para ello colocamos el nombre de la variable y el signo = y el valor que queremos:\n",
        "**nombre_variable= valor de la variable.**"
      ],
      "metadata": {
        "id": "BuKrN8eGGORr"
      }
    },
    {
      "cell_type": "code",
      "source": [
        "5"
      ],
      "metadata": {
        "colab": {
          "base_uri": "https://localhost:8080/"
        },
        "id": "i1czQY138SJZ",
        "outputId": "b99cf215-39eb-4b5c-f394-793955439708"
      },
      "execution_count": null,
      "outputs": [
        {
          "output_type": "execute_result",
          "data": {
            "text/plain": [
              "5"
            ]
          },
          "metadata": {},
          "execution_count": 27
        }
      ]
    },
    {
      "cell_type": "code",
      "source": [
        "id(5) #Identificacion de la direccion de memoria"
      ],
      "metadata": {
        "colab": {
          "base_uri": "https://localhost:8080/"
        },
        "id": "lo2dYEVlHU1e",
        "outputId": "fb0f1348-739b-48af-febc-fd6a51270bfa"
      },
      "execution_count": null,
      "outputs": [
        {
          "output_type": "execute_result",
          "data": {
            "text/plain": [
              "10750984"
            ]
          },
          "metadata": {},
          "execution_count": 28
        }
      ]
    },
    {
      "cell_type": "code",
      "source": [
        "edad = 5"
      ],
      "metadata": {
        "id": "Kje2E3i-HblV"
      },
      "execution_count": null,
      "outputs": []
    },
    {
      "cell_type": "code",
      "source": [
        "#Imprimimos ambas variables para ver la direccion de memoria es la misma al imprimirse.\n",
        "print(id(edad))\n",
        "print(id(5))"
      ],
      "metadata": {
        "colab": {
          "base_uri": "https://localhost:8080/"
        },
        "id": "4MzPAgZAHowD",
        "outputId": "0fcff0a8-b611-4523-e78d-d69a61959eb5"
      },
      "execution_count": null,
      "outputs": [
        {
          "output_type": "stream",
          "name": "stdout",
          "text": [
            "10750984\n",
            "10750984\n"
          ]
        }
      ]
    },
    {
      "cell_type": "code",
      "source": [
        "numerocinco = 5\n",
        "print(id(numerocinco)) #validamos con id para ver que es el mismo espacio de memoria que utiliza."
      ],
      "metadata": {
        "colab": {
          "base_uri": "https://localhost:8080/"
        },
        "id": "u2w-TBIOH-uQ",
        "outputId": "421d1da6-b66d-4b37-8b8b-cf178e238ca5"
      },
      "execution_count": null,
      "outputs": [
        {
          "output_type": "stream",
          "name": "stdout",
          "text": [
            "10750984\n"
          ]
        }
      ]
    },
    {
      "cell_type": "code",
      "source": [
        "nombre = \"Cristian\"\n",
        "id(nombre)\n",
        "print(id(nombre))"
      ],
      "metadata": {
        "colab": {
          "base_uri": "https://localhost:8080/"
        },
        "id": "9UZs-mfmIVGT",
        "outputId": "fb40b0bb-da19-48d4-d80d-883618e6bb39"
      },
      "execution_count": null,
      "outputs": [
        {
          "output_type": "stream",
          "name": "stdout",
          "text": [
            "140493270418992\n"
          ]
        }
      ]
    },
    {
      "cell_type": "markdown",
      "source": [
        "# Comentarios"
      ],
      "metadata": {
        "id": "BWetAe1FJfEv"
      }
    },
    {
      "cell_type": "code",
      "source": [
        "# Este es un comentario de una línea\n",
        "print(10) # Podemos colocar otro comentario en una línea después de un código"
      ],
      "metadata": {
        "colab": {
          "base_uri": "https://localhost:8080/"
        },
        "id": "Zs-sh27rJiRT",
        "outputId": "299286a6-063b-4779-bb3d-78dd31738121"
      },
      "execution_count": null,
      "outputs": [
        {
          "output_type": "stream",
          "name": "stdout",
          "text": [
            "10\n"
          ]
        }
      ]
    },
    {
      "cell_type": "code",
      "source": [
        "'''\n",
        "Este es un comentario\n",
        "de varias líneas.\n",
        "'''"
      ],
      "metadata": {
        "colab": {
          "base_uri": "https://localhost:8080/",
          "height": 35
        },
        "id": "EuI514-bJjuO",
        "outputId": "7adf9186-d527-4f68-9ee9-718f7079821a"
      },
      "execution_count": null,
      "outputs": [
        {
          "output_type": "execute_result",
          "data": {
            "text/plain": [
              "'\\nEste es un comentario\\nde varias líneas.\\n'"
            ],
            "application/vnd.google.colaboratory.intrinsic+json": {
              "type": "string"
            }
          },
          "metadata": {},
          "execution_count": 37
        }
      ]
    },
    {
      "cell_type": "markdown",
      "source": [
        "# Tipos de variables\n",
        "Cada variable contiene una clase especifica con respecto al tipo de objeto al cual esta hace referencia de acuerdo al tipo de dato que le sea atribuido a la variable.\n",
        "Para conocer la clase de cada tipo de elemento utilizamos la funcion [type](https://docs.python.org/3/library/functions.html#type)().\n"
      ],
      "metadata": {
        "id": "_Xe_LQkBG6vx"
      }
    },
    {
      "cell_type": "code",
      "source": [
        "edad = 5"
      ],
      "metadata": {
        "id": "C9kY93rqRYVt"
      },
      "execution_count": null,
      "outputs": []
    },
    {
      "cell_type": "code",
      "source": [
        "type(edad)"
      ],
      "metadata": {
        "colab": {
          "base_uri": "https://localhost:8080/"
        },
        "id": "IaU8l_WnRbQM",
        "outputId": "a5f8ef12-f26b-4b9c-c223-97b4baadf279"
      },
      "execution_count": null,
      "outputs": [
        {
          "output_type": "execute_result",
          "data": {
            "text/plain": [
              "int"
            ]
          },
          "metadata": {},
          "execution_count": 2
        }
      ]
    },
    {
      "cell_type": "code",
      "source": [
        "promedio = 9.5\n",
        "type(promedio)"
      ],
      "metadata": {
        "colab": {
          "base_uri": "https://localhost:8080/"
        },
        "id": "JMccfJGcRfpt",
        "outputId": "e13fdadf-db58-48c7-d3ae-f3f3b3342fcd"
      },
      "execution_count": null,
      "outputs": [
        {
          "output_type": "execute_result",
          "data": {
            "text/plain": [
              "float"
            ]
          },
          "metadata": {},
          "execution_count": 3
        }
      ]
    },
    {
      "cell_type": "code",
      "source": [
        "nombreCompleto = \"Cristian Parada\"\n",
        "type(nombreCompleto)"
      ],
      "metadata": {
        "colab": {
          "base_uri": "https://localhost:8080/"
        },
        "id": "lpF5lIkYeNdf",
        "outputId": "a1a5c5a4-66b0-4d1d-e98f-d413ecdb53e3"
      },
      "execution_count": null,
      "outputs": [
        {
          "output_type": "execute_result",
          "data": {
            "text/plain": [
              "str"
            ]
          },
          "metadata": {},
          "execution_count": 4
        }
      ]
    },
    {
      "cell_type": "code",
      "source": [
        "valor = True\n",
        "type(valor)"
      ],
      "metadata": {
        "colab": {
          "base_uri": "https://localhost:8080/"
        },
        "id": "vlOtML5yge3G",
        "outputId": "5ceff29c-d75d-48b0-8654-c900e6b7e67a"
      },
      "execution_count": null,
      "outputs": [
        {
          "output_type": "execute_result",
          "data": {
            "text/plain": [
              "bool"
            ]
          },
          "metadata": {},
          "execution_count": 5
        }
      ]
    },
    {
      "cell_type": "markdown",
      "source": [
        "#Ejemplo practico\n",
        "'''\n",
        "En un conjunto de datos escolares podemos tener varios tipos de informaciones. Supongamos que tenemos acceso a la ficha de datos de un alumno, ¿como transformamos este nombre en variables de Python?\n",
        "\n",
        "FICHA:\n",
        "\n",
        "\n",
        "*   Nombre del Alumno: Jose David Parada Mendoza\n",
        "*   Edad: 13 años\n",
        "*   Promedio del semestre: 9,25\n",
        "*   Situacion de Aprobacion: Verdadera(Aprobado)\n",
        "\n",
        "\n",
        "\n"
      ],
      "metadata": {
        "id": "MOJuSfSFJooT"
      }
    },
    {
      "cell_type": "code",
      "source": [
        "#Trasnformando a variables de Python\n",
        "nombreAlumno = \"Jose David Parada Mendoza\"\n",
        "edadAlumno = 13\n",
        "promedioSemestre = 9.25\n",
        "aprobado =  True\n",
        "\n",
        "print(nombreAlumno,edadAlumno,promedioSemestre,aprobado)\n",
        "\n",
        "#Viendo el tipo de variable forma 1\n",
        "print(type(nombreAlumno))\n",
        "print(type(edadAlumno))\n",
        "print(type(promedioSemestre))\n",
        "print(type(aprobado))\n",
        "\n",
        "#Viendo el tipo de variable forma 2\n",
        "print(type(nombreAlumno),type(edadAlumno),type(promedioSemestre),type(aprobado))"
      ],
      "metadata": {
        "colab": {
          "base_uri": "https://localhost:8080/"
        },
        "id": "8wurDP0YKXza",
        "outputId": "25e74dd4-2d80-4ecf-b517-8d3c336b97ab"
      },
      "execution_count": null,
      "outputs": [
        {
          "output_type": "stream",
          "name": "stdout",
          "text": [
            "Jose David Parada Mendoza 13 9.25 True\n",
            "<class 'str'>\n",
            "<class 'int'>\n",
            "<class 'float'>\n",
            "<class 'bool'>\n",
            "<class 'str'> <class 'int'> <class 'float'> <class 'bool'>\n"
          ]
        }
      ]
    },
    {
      "cell_type": "markdown",
      "source": [
        "# Variables Numericas\n",
        "Entre los tipos de datos numericos vamos a enfocarnos en los tipos entero y float\n",
        "Tenemos una tabla de informacion sobre los diversos cargos, cantidad de personas empleadas y el salario correspondiente:\n",
        "\n",
        "\n",
        "![image.png](data:image/png;base64,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)\n",
        "\n",
        "Se necesita encontrar los siguientes datos:\n",
        "\n",
        "\n",
        "*   Cantidad total de empleados\n",
        "*   La diferencia entre el salario mas bajo y mas alto.\n",
        "*   El promedio ponderado de los salarios de los empleados del centro educativo.\n",
        "\n"
      ],
      "metadata": {
        "id": "okBYDjI2NamO"
      }
    },
    {
      "cell_type": "code",
      "source": [
        "#Obteniendo variables para calculos\n",
        "c_vigilantes = 5\n",
        "salarioVigilante = 300\n",
        "c_docentes = 16\n",
        "salarioDocente = 500\n",
        "c_coordinadores = 2\n",
        "salarioCoordinador = 600"
      ],
      "metadata": {
        "id": "TSHoJgCfVYeG"
      },
      "execution_count": null,
      "outputs": []
    },
    {
      "cell_type": "code",
      "source": [
        "#Calculando cantidad de empleados\n",
        "cantidadEmpleados = c_vigilantes + c_docentes + c_coordinadores\n",
        "print(f\"La cantidad total de empleados es: {cantidadEmpleados} empleados.\")"
      ],
      "metadata": {
        "colab": {
          "base_uri": "https://localhost:8080/"
        },
        "id": "bCBTTrjXcdfo",
        "outputId": "8fa63831-9a9d-4a71-9872-3872089a2897"
      },
      "execution_count": null,
      "outputs": [
        {
          "output_type": "stream",
          "name": "stdout",
          "text": [
            "La cantidad total de empleados es: 23 empleados.\n"
          ]
        }
      ]
    },
    {
      "cell_type": "code",
      "source": [
        "#Calculando la diferencia de salarios.\n",
        "diferencia_salarios = salarioCoordinador - salarioVigilante\n",
        "print(f\"La diferencia de salarios entre el Coordinador y vigilante es de: {diferencia_salarios} dolares.\")\n"
      ],
      "metadata": {
        "colab": {
          "base_uri": "https://localhost:8080/"
        },
        "id": "mfVw26qBcs0b",
        "outputId": "d13de236-e213-4b20-b67e-34a02e65b5f6"
      },
      "execution_count": null,
      "outputs": [
        {
          "output_type": "stream",
          "name": "stdout",
          "text": [
            "La diferencia de salarios entre el Coordinador y vigilante es de: 300 dolares.\n"
          ]
        }
      ]
    },
    {
      "cell_type": "code",
      "source": [
        "#Calculando el salario promedio ponderado\n",
        "salarioPromedio = (c_vigilantes*salarioVigilante + c_docentes*salarioDocente + c_coordinadores*salarioCoordinador)/cantidadEmpleados\n",
        "print(f\"El salario promedio ponderado de los empleados es de: {round(salarioPromedio,2)} dolares.\") #Utilizamos la funcion round para redondear el resultado y colocamos 2 porque solo queremos 2 digitos la cifra decimal\n",
        "type(salarioPromedio)"
      ],
      "metadata": {
        "colab": {
          "base_uri": "https://localhost:8080/"
        },
        "id": "AQP1349XgvBU",
        "outputId": "edae094f-8c09-4ba8-d216-85662ac34cbe"
      },
      "execution_count": null,
      "outputs": [
        {
          "output_type": "stream",
          "name": "stdout",
          "text": [
            "El salario promedio ponderado de los empleados es de: 465.22 dolares.\n"
          ]
        },
        {
          "output_type": "execute_result",
          "data": {
            "text/plain": [
              "float"
            ]
          },
          "metadata": {},
          "execution_count": 20
        }
      ]
    },
    {
      "cell_type": "markdown",
      "source": [
        "#Cadenas de texto o strings\n",
        "Hacen referencia a un conjunto de caracteres de un texto.\n",
        "Podremos crear cadenas de texto cuando atribuimos un dato a una variable entre comillas simples (' ') o comillas dobles(\" \")\n"
      ],
      "metadata": {
        "id": "ma-ywYmSj737"
      }
    },
    {
      "cell_type": "code",
      "source": [
        "texto = \"Alura\"\n",
        "type(texto)"
      ],
      "metadata": {
        "colab": {
          "base_uri": "https://localhost:8080/"
        },
        "id": "772jG8ZAlFr5",
        "outputId": "54ad19d7-964e-4f6c-fb16-bc081fa5cae2"
      },
      "execution_count": null,
      "outputs": [
        {
          "output_type": "execute_result",
          "data": {
            "text/plain": [
              "str"
            ]
          },
          "metadata": {},
          "execution_count": 21
        }
      ]
    },
    {
      "cell_type": "markdown",
      "source": [
        "Las variables de texto o cadena son objetos que poseen metodos que nos ayudan a formatear dichas cadenas. Los metodos permiten difinir un objeto de acuerdo con la siguiente estructura:\n",
        "\n",
        "objeto.metodo()"
      ],
      "metadata": {
        "id": "yIl44wB0lgoC"
      }
    },
    {
      "cell_type": "markdown",
      "source": [
        "Existen metodos que no necesitan de (), siempre es una buena practica verificar la documentacion para cada caso."
      ],
      "metadata": {
        "id": "j9Hr7S5AmGVi"
      }
    },
    {
      "cell_type": "markdown",
      "source": [
        "#Situacion\n",
        "Recibimos una variable con el nombre de un docente para añadir a los registros del centro educativo, sin embargo antes debemos darle un tratamiento al texto antes de insertar al sistema."
      ],
      "metadata": {
        "id": "V-vlQ2hfmUS0"
      }
    },
    {
      "cell_type": "code",
      "source": [
        "texto = 'Micaela de Sanyos'\n",
        "\n",
        "#Ver en que espacio de memoria quedo almacenado\n",
        "id(texto)"
      ],
      "metadata": {
        "colab": {
          "base_uri": "https://localhost:8080/"
        },
        "id": "O0Dq2ZoNoiN1",
        "outputId": "631ac5c4-104d-4d19-c35c-ab7bc179c3ee"
      },
      "execution_count": null,
      "outputs": [
        {
          "output_type": "execute_result",
          "data": {
            "text/plain": [
              "133934518334560"
            ]
          },
          "metadata": {},
          "execution_count": 27
        }
      ]
    },
    {
      "cell_type": "markdown",
      "source": [
        "El objetivo final es que quede como:\n",
        "'MICAELA DE SANTOS'"
      ],
      "metadata": {
        "id": "dszSGEz7orTR"
      }
    },
    {
      "cell_type": "code",
      "source": [
        "#Utilizamos la funcion str.upper(), la cual convierte minusculas en mayusculas\n",
        "texto.upper()\n"
      ],
      "metadata": {
        "colab": {
          "base_uri": "https://localhost:8080/",
          "height": 35
        },
        "id": "CvGX6VQjl2DE",
        "outputId": "9541adca-cc80-48ec-fdb0-0e365266ea80"
      },
      "execution_count": null,
      "outputs": [
        {
          "output_type": "execute_result",
          "data": {
            "text/plain": [
              "'MICAELA DE SANYOS'"
            ],
            "application/vnd.google.colaboratory.intrinsic+json": {
              "type": "string"
            }
          },
          "metadata": {},
          "execution_count": 28
        }
      ]
    },
    {
      "cell_type": "code",
      "source": [
        "#Utilizamos la funcion str.lower(), la cual convierte el texto en minusculas.\n",
        "texto.lower()"
      ],
      "metadata": {
        "colab": {
          "base_uri": "https://localhost:8080/",
          "height": 35
        },
        "id": "uUAleLoXpsWI",
        "outputId": "132c13cf-1150-448c-8e33-f51ec85f65b9"
      },
      "execution_count": null,
      "outputs": [
        {
          "output_type": "execute_result",
          "data": {
            "text/plain": [
              "'micaela de sanyos'"
            ],
            "application/vnd.google.colaboratory.intrinsic+json": {
              "type": "string"
            }
          },
          "metadata": {},
          "execution_count": 29
        }
      ]
    },
    {
      "cell_type": "code",
      "source": [
        "#Utilizamos la funcion str.strip(), para eliminar espacios en blanco al inicio y final de un string\n",
        "texto.strip()"
      ],
      "metadata": {
        "colab": {
          "base_uri": "https://localhost:8080/",
          "height": 35
        },
        "id": "iOTB7LNeqyeh",
        "outputId": "40833579-48bf-4da6-d363-1d9c5dc25a94"
      },
      "execution_count": null,
      "outputs": [
        {
          "output_type": "execute_result",
          "data": {
            "text/plain": [
              "'Micaela de Sanyos'"
            ],
            "application/vnd.google.colaboratory.intrinsic+json": {
              "type": "string"
            }
          },
          "metadata": {},
          "execution_count": 30
        }
      ]
    },
    {
      "cell_type": "code",
      "source": [
        "#Utilizamos la funcion str.replace(antiguo,nuevo) sustituye las ocurrencias del texto \"antiguo\", en string por el \"nuevo\"\n",
        "texto.replace('y','t')"
      ],
      "metadata": {
        "colab": {
          "base_uri": "https://localhost:8080/",
          "height": 35
        },
        "id": "cX6KJl29rq5j",
        "outputId": "b120ba23-64ed-40b0-cc27-93e7b0cccb5b"
      },
      "execution_count": null,
      "outputs": [
        {
          "output_type": "execute_result",
          "data": {
            "text/plain": [
              "'Micaela de Santos'"
            ],
            "application/vnd.google.colaboratory.intrinsic+json": {
              "type": "string"
            }
          },
          "metadata": {},
          "execution_count": 32
        }
      ]
    },
    {
      "cell_type": "markdown",
      "source": [
        "# Observaciones\n",
        "\n",
        "\n",
        "1.   Los metodos devuelven **transformaciones**, no son ejecutados directamente sobre la variable donde esta almacenado el texto.\n",
        "2.   Adicionalmente, podemos acumular la ejecucion de los metodos.\n",
        "\n"
      ],
      "metadata": {
        "id": "66WZMFMvykRa"
      }
    },
    {
      "cell_type": "markdown",
      "source": [
        "#Captura de Datos\n",
        "Lo hacemos a partir de la funcion  [input](https://docs.python.org/3/library/functions.html#input)()\n",
        "Para capturar debemos atribuir el resultado de esta funcion a una variable:"
      ],
      "metadata": {
        "id": "huo2DomtO-KB"
      }
    },
    {
      "cell_type": "code",
      "source": [
        "nombre = input(\"Ingrese el nombre del alumno: \")\n",
        "type(nombre)"
      ],
      "metadata": {
        "colab": {
          "base_uri": "https://localhost:8080/"
        },
        "id": "YDbhyw4APuTo",
        "outputId": "f1fbbd4a-7848-42e6-df2a-bdfc4d436d4d"
      },
      "execution_count": null,
      "outputs": [
        {
          "name": "stdout",
          "output_type": "stream",
          "text": [
            "Ingrese el nombre del alumno: Alejandra Gonzalez\n"
          ]
        },
        {
          "output_type": "execute_result",
          "data": {
            "text/plain": [
              "str"
            ]
          },
          "metadata": {},
          "execution_count": 2
        }
      ]
    },
    {
      "cell_type": "markdown",
      "source": [
        "La salida de este comando siempre sera una string. Esto quiere decir que aunque capturemos un valor de variable numerica, este sera de tipo cadena o string.\n",
        "Entonces sera necesario convertir el resultado cuando no se desea utilizar el resultado de tipo string\n",
        "Existen funciones para la conversion de valores\n",
        "\n",
        "\n",
        "*   Enteros int(dato para conversion)\n",
        "*   Coma flotante float(dato para conversion)\n",
        "*   String str(dato para conversion)\n",
        "*   Booleano bool(dato para conversion)\n",
        "\n",
        "\n",
        "\n"
      ],
      "metadata": {
        "id": "ZooKNb-qQWDL"
      }
    },
    {
      "cell_type": "code",
      "source": [
        "ano_admision = input(\"Ingrese el año de admision del alumno: \")\n",
        "type(ano_admision)"
      ],
      "metadata": {
        "colab": {
          "base_uri": "https://localhost:8080/"
        },
        "id": "U3ywkwvMRIWU",
        "outputId": "378cec4c-d712-4bb7-ebd8-89f1f24df62a"
      },
      "execution_count": null,
      "outputs": [
        {
          "name": "stdout",
          "output_type": "stream",
          "text": [
            "Ingrese el año de admision del alumno: 2024\n"
          ]
        },
        {
          "output_type": "execute_result",
          "data": {
            "text/plain": [
              "str"
            ]
          },
          "metadata": {},
          "execution_count": 3
        }
      ]
    },
    {
      "cell_type": "code",
      "source": [
        "ano_salida = input(\"Ingrese el año de salida del alumno: \")\n",
        "type(ano_salida)"
      ],
      "metadata": {
        "colab": {
          "base_uri": "https://localhost:8080/"
        },
        "id": "I5N136-cRnKr",
        "outputId": "1d6ae7ba-6a59-4061-f3d1-96fd68bfecfc"
      },
      "execution_count": null,
      "outputs": [
        {
          "name": "stdout",
          "output_type": "stream",
          "text": [
            "Ingrese el año de salida del alumno: 2026\n"
          ]
        },
        {
          "output_type": "execute_result",
          "data": {
            "text/plain": [
              "str"
            ]
          },
          "metadata": {},
          "execution_count": 4
        }
      ]
    },
    {
      "cell_type": "code",
      "source": [
        "#modificamos la entrada de datos o input con int para capturar el dato y sea de tipo numerico.\n",
        "ano_admision = int(input(\"Ingrese el año de admision del alumno: \"))\n",
        "type(ano_admision)"
      ],
      "metadata": {
        "colab": {
          "base_uri": "https://localhost:8080/"
        },
        "id": "rAIKRrkkRsFE",
        "outputId": "f9d62380-2975-416c-b9a2-bff003c7f894"
      },
      "execution_count": null,
      "outputs": [
        {
          "name": "stdout",
          "output_type": "stream",
          "text": [
            "Ingrese el año de admision del alumno: 2023\n"
          ]
        },
        {
          "output_type": "execute_result",
          "data": {
            "text/plain": [
              "int"
            ]
          },
          "metadata": {},
          "execution_count": 5
        }
      ]
    },
    {
      "cell_type": "code",
      "source": [
        "#Nota de admision\n",
        "nota_admision = float(input(\"Ingrese la nota de admision del alumno: \"))\n",
        "type(nota_admision)"
      ],
      "metadata": {
        "id": "E-5cf1r8SSaw",
        "colab": {
          "base_uri": "https://localhost:8080/"
        },
        "outputId": "7a4fc111-4eb0-449f-b29c-74cf13dfa745"
      },
      "execution_count": 8,
      "outputs": [
        {
          "name": "stdout",
          "output_type": "stream",
          "text": [
            "Ingrese la nota de admision del alumno: 8.7\n"
          ]
        },
        {
          "output_type": "execute_result",
          "data": {
            "text/plain": [
              "float"
            ]
          },
          "metadata": {},
          "execution_count": 8
        }
      ]
    },
    {
      "cell_type": "code",
      "source": [
        "#lo mismo hacemos con el año de salida\n",
        "ano_salida = int(input(\"Ingrese el año de salida del alumno: \"))\n",
        "type(ano_salida)"
      ],
      "metadata": {
        "colab": {
          "base_uri": "https://localhost:8080/"
        },
        "id": "ks4JMiyASE0A",
        "outputId": "ba08bbfd-b4a3-4fe5-c1ed-09f900a3c889"
      },
      "execution_count": null,
      "outputs": [
        {
          "name": "stdout",
          "output_type": "stream",
          "text": [
            "Ingrese el año de salida del alumno: 2026\n"
          ]
        },
        {
          "output_type": "execute_result",
          "data": {
            "text/plain": [
              "int"
            ]
          },
          "metadata": {},
          "execution_count": 6
        }
      ]
    },
    {
      "cell_type": "markdown",
      "source": [
        "Para mejorar la presentacion del resultado utilizamos la funcion format.\n",
        "la mas sencilla de utilizar es la f solamente.\n"
      ],
      "metadata": {
        "id": "LttxCfMiSsLE"
      }
    },
    {
      "cell_type": "code",
      "source": [
        "print(f'El año de admision fue: {ano_admision} \\nLa nota de admision fue: {nota_admision}\\n')"
      ],
      "metadata": {
        "colab": {
          "base_uri": "https://localhost:8080/"
        },
        "id": "cb6-Cdh8S1Qy",
        "outputId": "dc1bd791-e280-45e5-a2c3-b21ff201fba6"
      },
      "execution_count": 12,
      "outputs": [
        {
          "output_type": "stream",
          "name": "stdout",
          "text": [
            "El año de admision fue: 2023 \n",
            "La nota de admision fue: 8.7\n",
            "\n"
          ]
        }
      ]
    },
    {
      "cell_type": "code",
      "source": [
        "#Ejercicios:\n",
        "nombre = \"Ana María\"\n",
        "edad = 17\n",
        "print(f\"El nombre de la alumna es: {nombre}\\nSu edad es: {edad} años.\")"
      ],
      "metadata": {
        "id": "7WyM9Ra4SNOB",
        "colab": {
          "base_uri": "https://localhost:8080/"
        },
        "outputId": "aad6d4be-4c78-4e74-c1f3-84b25824c5e2"
      },
      "execution_count": 14,
      "outputs": [
        {
          "output_type": "stream",
          "name": "stdout",
          "text": [
            "El nombre de la alumna es: Ana María\n",
            "Su edad es: 17 años.\n"
          ]
        }
      ]
    },
    {
      "cell_type": "code",
      "source": [
        "nombre_alumno = 'Penélope Camacho'\n",
        "print('Nombre del alumno: %s' %(nombre_alumno))"
      ],
      "metadata": {
        "colab": {
          "base_uri": "https://localhost:8080/"
        },
        "id": "8ybWliwbUWco",
        "outputId": "45cb644a-bc13-46c0-adc3-942da2595d2a"
      },
      "execution_count": 15,
      "outputs": [
        {
          "output_type": "stream",
          "name": "stdout",
          "text": [
            "Nombre del alumno: Penélope Camacho\n"
          ]
        }
      ]
    },
    {
      "cell_type": "code",
      "source": [
        "nombre_alumno = 'Penélope Camacho'\n",
        "edad_alumno = 11\n",
        "media_alumno = 9.95\n",
        "print('Nombre del alumno es %s, tiene %d años y su media es %f.' %(nombre_alumno, edad_alumno, media_alumno))"
      ],
      "metadata": {
        "colab": {
          "base_uri": "https://localhost:8080/"
        },
        "id": "Pmpy1ro5UcZe",
        "outputId": "4794fcf0-c11d-4197-deb0-abf734114543"
      },
      "execution_count": 16,
      "outputs": [
        {
          "output_type": "stream",
          "name": "stdout",
          "text": [
            "Nombre del alumno es Penélope Camacho, tiene 11 años y su media es 9.950000.\n"
          ]
        }
      ]
    },
    {
      "cell_type": "code",
      "source": [
        "print('Nombre del alumno es %s \\nTiene %d años\\nSu media es %.2f.' %(nombre_alumno, edad_alumno, media_alumno))"
      ],
      "metadata": {
        "colab": {
          "base_uri": "https://localhost:8080/"
        },
        "id": "FEV-NFt0Y8qY",
        "outputId": "123383f6-be32-45e3-9489-f6e3e9120eea"
      },
      "execution_count": 18,
      "outputs": [
        {
          "output_type": "stream",
          "name": "stdout",
          "text": [
            "Nombre del alumno es Penélope Camacho \n",
            "Tiene 11 años\n",
            "Su media es 9.95.\n"
          ]
        }
      ]
    },
    {
      "cell_type": "code",
      "source": [
        "x = True\n",
        "print(\"Valor de x: %s\" % str(x))"
      ],
      "metadata": {
        "colab": {
          "base_uri": "https://localhost:8080/"
        },
        "id": "LR_o4hirZKue",
        "outputId": "26795470-be50-4477-dce8-05278837e64e"
      },
      "execution_count": 19,
      "outputs": [
        {
          "output_type": "stream",
          "name": "stdout",
          "text": [
            "Valor de x: True\n"
          ]
        }
      ]
    },
    {
      "cell_type": "markdown",
      "source": [
        "También es posible utilizar el método .format() para formatear cadenas. Es más flexible y permite pasar las variables directamente dentro de la cadena, sin necesidad de operadores %. Los marcadores son simplemente {}. Por ejemplo:"
      ],
      "metadata": {
        "id": "EJ3uJpLwZmgr"
      }
    },
    {
      "cell_type": "code",
      "source": [
        "nombre_alumno = 'Penélope Camacho'\n",
        "print('Nombre del alumno: {}'.format(nombre_alumno))"
      ],
      "metadata": {
        "colab": {
          "base_uri": "https://localhost:8080/"
        },
        "id": "PBx1bMxkZvGC",
        "outputId": "c50c6e36-b8f3-4f1d-cd9f-b281a0f780e5"
      },
      "execution_count": 20,
      "outputs": [
        {
          "output_type": "stream",
          "name": "stdout",
          "text": [
            "Nombre del alumno: Penélope Camacho\n"
          ]
        }
      ]
    },
    {
      "cell_type": "code",
      "source": [
        "nombre_alumno = 'Fabricio Daniel'\n",
        "edad_alumno = 15\n",
        "media_alumno = 9.95\n",
        "print('Nombre del alumno es {} \\nTiene {} años \\nSu media es {}.' .format(nombre_alumno, edad_alumno, media_alumno))"
      ],
      "metadata": {
        "colab": {
          "base_uri": "https://localhost:8080/"
        },
        "id": "iKZCalnXZy6X",
        "outputId": "0b69bdff-dcaf-4672-b8fe-bdc3d8e6f7cb"
      },
      "execution_count": 22,
      "outputs": [
        {
          "output_type": "stream",
          "name": "stdout",
          "text": [
            "Nombre del alumno es Fabricio Daniel \n",
            "Tiene 15 años \n",
            "Su media es 9.95.\n"
          ]
        }
      ]
    },
    {
      "cell_type": "code",
      "source": [
        "# /n es el carácter de tabulación y se utiliza para agregar un espacio de tabulación en el texto. Ejemplo:\n",
        "print(\"Estudiar es un esfuerzo constante,\\nEs como cultivar una planta,\\nNecesitamos dedicación y paciencia,\\nPara ver madurar el fruto.\")"
      ],
      "metadata": {
        "colab": {
          "base_uri": "https://localhost:8080/"
        },
        "id": "pOiQpZzSaIc3",
        "outputId": "f2bfb0f2-d779-48a7-dfa1-571758c4ff62"
      },
      "execution_count": 23,
      "outputs": [
        {
          "output_type": "stream",
          "name": "stdout",
          "text": [
            "Estudiar es un esfuerzo constante,\n",
            "Es como cultivar una planta,\n",
            "Necesitamos dedicación y paciencia,\n",
            "Para ver madurar el fruto.\n"
          ]
        }
      ]
    },
    {
      "cell_type": "code",
      "source": [
        "#\\t es el carácter de tabulación y se utiliza para agregar un espacio de tabulación en el texto. Ejemplo:\n",
        "print('Cantidad\\tCalidad\\n5 muestras\\tAlta\\n3 muestras\\tBaja')"
      ],
      "metadata": {
        "colab": {
          "base_uri": "https://localhost:8080/"
        },
        "id": "_axh8od3aOzA",
        "outputId": "7341f976-f9f1-448a-bf37-d32b3c97019d"
      },
      "execution_count": 25,
      "outputs": [
        {
          "output_type": "stream",
          "name": "stdout",
          "text": [
            "Cantidad\tCalidad\n",
            "5 muestras\tAlta\n",
            "3 muestras\tBaja\n"
          ]
        }
      ]
    },
    {
      "cell_type": "markdown",
      "source": [
        "\\\\ se usa para imprimir una sola barra invertida. Si no se utiliza una doble barra invertida, el código podría generar un error o un resultado inesperado, ya que Python considera \\ como un carácter especial. Usamos esta sintaxis para garantizar que no ocurran errores. Ejemplo:"
      ],
      "metadata": {
        "id": "4IrlN__EcR2B"
      }
    },
    {
      "cell_type": "code",
      "source": [
        "print(\"Ruta del archivo: C:\\\\archivos\\\\documento.csv\")"
      ],
      "metadata": {
        "colab": {
          "base_uri": "https://localhost:8080/"
        },
        "id": "iIml7w05cMOj",
        "outputId": "ff490261-9144-4c72-fedb-d4fe7e220856"
      },
      "execution_count": 26,
      "outputs": [
        {
          "output_type": "stream",
          "name": "stdout",
          "text": [
            "Ruta del archivo: C:\\archivos\\documento.csv\n"
          ]
        }
      ]
    },
    {
      "cell_type": "markdown",
      "source": [
        "\\\" se utiliza para imprimir comillas dobles cuando estamos trabajando con una cadena creada con comillas dobles \" en el interior. Sin embargo, esto no es necesario si la cadena se crea con comillas simples '. Ejemplo:"
      ],
      "metadata": {
        "id": "wZVuOexxcZ9w"
      }
    },
    {
      "cell_type": "code",
      "source": [
        "print(\"Una vez oí: \\\"Los frutos del conocimiento son los más dulces y duraderos de todos.\\\"\")"
      ],
      "metadata": {
        "colab": {
          "base_uri": "https://localhost:8080/"
        },
        "id": "9JNrUdgecXuB",
        "outputId": "1de2466f-1a60-4b80-afce-a73d8ea7f944"
      },
      "execution_count": 27,
      "outputs": [
        {
          "output_type": "stream",
          "name": "stdout",
          "text": [
            "Una vez oí: \"Los frutos del conocimiento son los más dulces y duraderos de todos.\"\n"
          ]
        }
      ]
    },
    {
      "cell_type": "markdown",
      "source": [
        "\\' se utiliza para imprimir comillas simples cuando estamos trabajando con una cadena creada con comillas simples '. Si la cadena se crea con comillas dobles \", esto no es necesario. Ejemplo:"
      ],
      "metadata": {
        "id": "EgoJSOOZcc5n"
      }
    },
    {
      "cell_type": "code",
      "source": [
        "print('Mi profesora una vez dijo: \\'Estudiar es la clave del éxito.\\'')"
      ],
      "metadata": {
        "colab": {
          "base_uri": "https://localhost:8080/"
        },
        "id": "6Od2lah8cgMp",
        "outputId": "4dc7b96d-417b-46e3-d52c-60129fb8653c"
      },
      "execution_count": 28,
      "outputs": [
        {
          "output_type": "stream",
          "name": "stdout",
          "text": [
            "Mi profesora una vez dijo: 'Estudiar es la clave del éxito.'\n"
          ]
        }
      ]
    },
    {
      "cell_type": "markdown",
      "source": [
        "Vamos a practicar el uso de varios tipos de variables y la función input a través de algunas actividades. Resuelve los problemas propuestos en código.\n",
        "\n",
        "Recopilación y muestra de datos\n",
        "\n",
        "1 - Crea un programa que solicite al usuario que escriba su nombre y luego imprima \"Hola, [nombre].\"\n",
        "\n",
        "2 - Crea un programa que solicite al usuario que escriba su nombre y edad, y luego imprima \"Hola, [nombre], tienes [edad] años.\"\n",
        "\n",
        "3 - Crea un programa que solicite al usuario que escriba su nombre, edad y altura en metros, y luego imprima \"Hola, [nombre], tienes [edad] años y mides [altura] metros.\"\n",
        "\n",
        "Calculadora con operadores\n",
        "\n",
        "4 - Crea un programa que solicite dos valores numéricos al usuario y luego imprima la suma de ambos valores.\n",
        "\n",
        "5 - Crea un programa que solicite tres valores numéricos al usuario y luego imprima la suma de los tres valores.\n",
        "\n",
        "6 - Crea un programa que solicite dos valores numéricos al usuario y luego imprima la resta del primero menos el segundo valor.\n",
        "\n",
        "7 - Crea un programa que solicite dos valores numéricos al usuario y luego imprima la multiplicación de los dos valores.\n",
        "\n",
        "8 - Crea un programa que solicite dos valores numéricos, un numerador y un denominador, y realice la división entre los dos valores. Asegúrate de que el valor del denominador no sea igual a 0.\n",
        "\n",
        "9 - Crea un programa que solicite dos valores numéricos, un operador y una potencia, y realice la exponenciación entre estos dos valores.\n",
        "\n",
        "10 - Crea un programa que solicite dos valores numéricos, un numerador y un denominador, y realice la división entera entre los dos valores. Asegúrate de que el valor del denominador no sea igual a 0.\n",
        "\n",
        "11 - Crea un programa que solicite dos valores numéricos, un numerador y un denominador, y devuelva el resto de la división entre los dos valores. Asegúrate de que el valor del denominador no sea igual a 0.\n",
        "\n",
        "12 - Crea un código que solicite las 3 notas de un estudiante e imprima el promedio de las notas.\n",
        "\n",
        "13 - Crea un código que calcule e imprima el promedio ponderado de los números 5, 12, 20 y 15 con pesos respectivamente iguales a 1, 2, 3 y 4.\n",
        "\n",
        "Editando textos\n",
        "\n",
        "14 - Crea una variable llamada \"frase\" y asígnale una cadena de texto de tu elección. Luego, imprime la frase en pantalla.\n",
        "\n",
        "15 - Crea un código que solicite una frase y luego imprima la frase en pantalla.\n",
        "\n",
        "16 - Crea un código que solicite una frase al usuario y luego imprima la misma frase ingresada pero en mayúsculas.\n",
        "\n",
        "17 - Crea un código que solicite una frase al usuario y luego imprima la misma frase ingresada pero en minúsculas.\n",
        "\n",
        "18 - Crea una variable llamada \"frase\" y asígnale una cadena de texto de tu elección. Luego, imprime la frase sin espacios en blanco al principio y al final.\n",
        "\n",
        "19 - Crea un código que solicite una frase al usuario y luego imprima la misma frase sin espacios en blanco al principio y al final.\n",
        "\n",
        "20 - Crea un código que solicite una frase al usuario y luego imprima la misma frase sin espacios en blanco al principio y al final, además de convertirla a minúsculas.\n",
        "\n",
        "21 - Crea un código que solicite una frase al usuario y luego imprima la misma frase con todas las vocales \"e\" reemplazadas por la letra \"f\".\n",
        "\n",
        "22 - Crea un código que solicite una frase al usuario y luego imprima la misma frase con todas las vocales \"a\" reemplazadas por el carácter \"@\".\n",
        "\n",
        "23 - Crea un código que solicite una frase al usuario y luego imprima la misma frase con todas las consonantes \"s\" reemplazadas por el carácter \"$\"."
      ],
      "metadata": {
        "id": "H4-McY81crCT"
      }
    },
    {
      "cell_type": "code",
      "source": [
        "#1 - Crea un programa que solicite al usuario que escriba su nombre y luego imprima \"Hola, [nombre].\"\n",
        "nombre = input(\"Ingrese su nombre: \")\n",
        "print(f\"Hola, {nombre}.\")"
      ],
      "metadata": {
        "colab": {
          "base_uri": "https://localhost:8080/"
        },
        "id": "pGa5LCaDcv0z",
        "outputId": "ae720945-13a6-4676-ebbf-dc7333e23244"
      },
      "execution_count": 29,
      "outputs": [
        {
          "output_type": "stream",
          "name": "stdout",
          "text": [
            "Ingrese su nombre: Cristian Parada\n",
            "Hola, Cristian Parada.\n"
          ]
        }
      ]
    },
    {
      "cell_type": "code",
      "source": [
        "#2 - Crea un programa que solicite al usuario que escriba su nombre y edad, y luego imprima \"Hola, [nombre], tienes [edad] años.\"\n",
        "nombre = input(\"Ingrese su nombre: \")\n",
        "edad = input(\"Ingrese su edad: \")\n",
        "print(f\"Hola, {nombre}\\nTienes: {edad} años.\")"
      ],
      "metadata": {
        "colab": {
          "base_uri": "https://localhost:8080/"
        },
        "id": "QlzelSf2c6Z0",
        "outputId": "bcbf9cae-d99f-4692-f3c1-e2567251bf58"
      },
      "execution_count": 31,
      "outputs": [
        {
          "output_type": "stream",
          "name": "stdout",
          "text": [
            "Ingrese su nombre: Cristian Parada\n",
            "Ingrese su edad: 41\n",
            "Hola, Cristian Parada\n",
            "Tienes: 41 años.\n"
          ]
        }
      ]
    },
    {
      "cell_type": "code",
      "source": [
        "#3 - Crea un programa que solicite al usuario que escriba su nombre, edad y altura en metros, y luego imprima \"Hola, [nombre], tienes [edad] años y mides [altura] metros.\"\n",
        "nombre = input(\"Ingrese su nombre: \")\n",
        "edad = input(\"Ingrese su edad: \")\n",
        "altura = input(\"Ingrese su altura: \")\n",
        "print(f\"Hola, {nombre}\\nTienes: {edad} años\\nY mides: {altura} metros.\")"
      ],
      "metadata": {
        "colab": {
          "base_uri": "https://localhost:8080/"
        },
        "id": "EFZcfRXUdN8d",
        "outputId": "24c9e83b-c7f7-4a9b-80f7-acd24ac67536"
      },
      "execution_count": 32,
      "outputs": [
        {
          "output_type": "stream",
          "name": "stdout",
          "text": [
            "Ingrese su nombre: Cristian Parada\n",
            "Ingrese su edad: 41\n",
            "Ingrese su altura: 1.70\n",
            "Hola, Cristian Parada\n",
            "Tienes: 41 años\n",
            "Y mides: 1.70 metros.\n"
          ]
        }
      ]
    },
    {
      "cell_type": "markdown",
      "source": [
        "#Calculadora con operadores"
      ],
      "metadata": {
        "id": "hqPHxuRRddNf"
      }
    },
    {
      "cell_type": "code",
      "source": [
        "#4 - Crea un programa que solicite dos valores numéricos al usuario y luego imprima la suma de ambos valores.\n",
        "numero1 = int(input(\"Ingrese el primer numero: \"))\n",
        "numero2 = int(input(\"Ingrese el segundo numero: \"))\n",
        "suma = numero1 + numero2\n",
        "print(f\"La suma de los numeros es: {suma}\")"
      ],
      "metadata": {
        "colab": {
          "base_uri": "https://localhost:8080/"
        },
        "id": "Kl7G6YxJdZQ_",
        "outputId": "d2d5a7d5-f122-470e-ff71-c48e1c253b74"
      },
      "execution_count": 33,
      "outputs": [
        {
          "output_type": "stream",
          "name": "stdout",
          "text": [
            "Ingrese el primer numero: 20\n",
            "Ingrese el segundo numero: 10\n",
            "La suma de los numeros es: 30\n"
          ]
        }
      ]
    },
    {
      "cell_type": "code",
      "source": [
        "#5 - Crea un programa que solicite tres valores numéricos al usuario y luego imprima la suma de los tres valores.\n",
        "numero1 = int(input(\"Ingrese el primer numero: \"))\n",
        "numero2 = int(input(\"Ingrese el segundo numero: \"))\n",
        "numero3 = int(input(\"Ingrese el tercer numero: \"))\n",
        "suma = numero1 + numero2 + numero3\n",
        "print(f\"El resultado de la suma es: {suma}\")"
      ],
      "metadata": {
        "colab": {
          "base_uri": "https://localhost:8080/"
        },
        "id": "Hw1eyRGQdooP",
        "outputId": "a2e35f29-5f2e-4bcc-84de-07c34f5bca60"
      },
      "execution_count": 35,
      "outputs": [
        {
          "output_type": "stream",
          "name": "stdout",
          "text": [
            "Ingrese el primer numero: 3\n",
            "Ingrese el segundo numero: 3\n",
            "Ingrese el tercer numero: 3\n",
            "El resultado de la suma es: 9\n"
          ]
        }
      ]
    },
    {
      "cell_type": "code",
      "source": [
        "#6 - Crea un programa que solicite dos valores numéricos al usuario y luego imprima la resta del primero menos el segundo valor.\n",
        "numero1 = int(input(\"Ingrese el primer numero: \"))\n",
        "numero2 = int(input(\"Ingrese el segundo numero: \"))\n",
        "resta = numero1 - numero2\n",
        "print(f\"La resta de los numeros es: {resta}\")"
      ],
      "metadata": {
        "colab": {
          "base_uri": "https://localhost:8080/"
        },
        "id": "by6od_o0d9XL",
        "outputId": "7e352c03-8e93-4690-c80f-19f95862cea0"
      },
      "execution_count": 36,
      "outputs": [
        {
          "output_type": "stream",
          "name": "stdout",
          "text": [
            "Ingrese el primer numero: 15\n",
            "Ingrese el segundo numero: 3\n",
            "La resta de los numeros es: 12\n"
          ]
        }
      ]
    },
    {
      "cell_type": "code",
      "source": [
        "#7 - Crea un programa que solicite dos valores numéricos al usuario y luego imprima la multiplicación de los dos valores.\n",
        "numero1 = int(input(\"Ingrese el primer numero: \"))\n",
        "numero2 = int(input(\"Ingrese el segundo numero: \"))\n",
        "multiplicacion = numero1 * numero2\n",
        "print(f\"La multiplicacion de los numeros es: {multiplicacion}\")"
      ],
      "metadata": {
        "colab": {
          "base_uri": "https://localhost:8080/"
        },
        "id": "G2M68fWHePd7",
        "outputId": "0439b1ed-c4e2-4633-e2d5-5bfa9b6de82a"
      },
      "execution_count": 37,
      "outputs": [
        {
          "output_type": "stream",
          "name": "stdout",
          "text": [
            "Ingrese el primer numero: 2\n",
            "Ingrese el segundo numero: 5\n",
            "La multiplicacion de los numeros es: 10\n"
          ]
        }
      ]
    },
    {
      "cell_type": "code",
      "source": [
        "#8 - Crea un programa que solicite dos valores numéricos, un numerador y un denominador, y realice la división entre los dos valores. Asegúrate de que el valor del denominador no sea igual a 0.\n",
        "numero1 = int(input(\"Ingrese el primer numero: \")) #Numerador\n",
        "numero2 = int(input(\"Ingrese el segundo numero: \")) #Denominador\n",
        "division = numero1 / numero2\n",
        "if numero2 == 0: #Condicion que el numero 2 no puede ser cero.\n",
        "  print(\"No se puede dividir entre 0\")\n",
        "  numero2 = int(input(\"Ingrese el segundo numero: \"))\n",
        "else:\n",
        "  print(f\"La division de los numeros es: {round(division)}\")"
      ],
      "metadata": {
        "colab": {
          "base_uri": "https://localhost:8080/"
        },
        "id": "T8T67yMUeXOq",
        "outputId": "a6cdad48-059e-46b9-ffd7-7b4e43cd2b5f"
      },
      "execution_count": 48,
      "outputs": [
        {
          "name": "stdout",
          "output_type": "stream",
          "text": [
            "Ingrese el primer numero: 4\n",
            "Ingrese el segundo numero: 0\n",
            "No se puede dividir entre 0\n",
            "Ingrese el segundo numero: 3\n"
          ]
        }
      ]
    },
    {
      "cell_type": "code",
      "source": [
        "#9 - Crea un programa que solicite dos valores numéricos, un operador y una potencia, y realice la exponenciación entre estos dos valores.\n",
        "numero1 = int(input(\"Ingrese el primer numero: \"))\n",
        "numero2 = int(input(\"Ingrese el segundo numero: \"))\n",
        "potencia = numero1 ** numero2\n",
        "print(f\"La potencia de los numeros es: {potencia}\")"
      ],
      "metadata": {
        "colab": {
          "base_uri": "https://localhost:8080/"
        },
        "id": "VZ1K3KpXf1Mq",
        "outputId": "43b74412-a4ff-44cd-f934-e4fd238ac72d"
      },
      "execution_count": 49,
      "outputs": [
        {
          "output_type": "stream",
          "name": "stdout",
          "text": [
            "Ingrese el primer numero: 3\n",
            "Ingrese el segundo numero: 4\n",
            "La potencia de los numeros es: 81\n"
          ]
        }
      ]
    },
    {
      "cell_type": "code",
      "source": [
        "#10 - Crea un programa que solicite dos valores numéricos, un numerador y un denominador, y realice la división entera entre los dos valores. Asegúrate de que el valor del denominador no sea igual a 0.\n",
        "numero1 = int(input(\"Ingrese el primer numero: \")) #Numerador\n",
        "numero2 = int(input(\"Ingrese el segundo numero: \")) #Denominador\n",
        "division = numero1 // numero2\n",
        "if numero2 == 0: #Condicion que el numero 2 no puede ser cero.\n",
        "  print(\"No se puede dividir entre 0\")\n",
        "else:\n",
        "  print(f\"El resultado de la division es: {division}\")"
      ],
      "metadata": {
        "colab": {
          "base_uri": "https://localhost:8080/"
        },
        "id": "EOumo_gNf-xl",
        "outputId": "a9b19b42-6d5a-4b62-e0f6-690a119238df"
      },
      "execution_count": 53,
      "outputs": [
        {
          "output_type": "stream",
          "name": "stdout",
          "text": [
            "Ingrese el primer numero: 9\n",
            "Ingrese el segundo numero: 2\n",
            "El resultado de la division es: 4\n"
          ]
        }
      ]
    },
    {
      "cell_type": "code",
      "source": [
        "#11 - Crea un programa que solicite dos valores numéricos, un numerador y un denominador, y devuelva el resto de la división entre los dos valores. Asegúrate de que el valor del denominador no sea igual a 0.\n",
        "numero1 = float(input(\"Ingrese el numerador: \"))\n",
        "numero2 = float(input(\"Ingrese el denominador: \"))\n",
        "division = numero1 % numero2\n",
        "if numero2 == 0:\n",
        "  print(\"No se puede dividir entre 0\")\n",
        "  numero2 = float(input(\"Ingrese el denominador: \"))\n",
        "else:\n",
        "  print(f\"el resultdo de la division es: {division}\")"
      ],
      "metadata": {
        "colab": {
          "base_uri": "https://localhost:8080/"
        },
        "id": "miSfmnwvi4up",
        "outputId": "0dcd11f0-0ac7-42a4-b848-fa5f2433604e"
      },
      "execution_count": 55,
      "outputs": [
        {
          "output_type": "stream",
          "name": "stdout",
          "text": [
            "Ingrese el numerador: 5\n",
            "Ingrese el denominador: 3\n",
            "el resultdo de la division es: 2.0\n"
          ]
        }
      ]
    },
    {
      "cell_type": "code",
      "source": [
        "#12 - Crea un código que solicite las 3 notas de un estudiante e imprima el promedio de las notas.\n",
        "nota1 = float(input(\"Ingrese la primera nota: \"))\n",
        "nota2 = float(input(\"Ingrese la segunda nota: \"))\n",
        "nota3 = float(input(\"Ingrese la tercera nota: \"))\n",
        "promedio = (nota1 + nota2 + nota3)/3\n",
        "print(f\"El promedio de las notas es: {round(promedio,2)}\")"
      ],
      "metadata": {
        "colab": {
          "base_uri": "https://localhost:8080/"
        },
        "id": "w95tTnLRmVAU",
        "outputId": "f4420e18-9b90-416f-bc51-c40bdb1bddbe"
      },
      "execution_count": 56,
      "outputs": [
        {
          "output_type": "stream",
          "name": "stdout",
          "text": [
            "Ingrese la primera nota: 6.7\n",
            "Ingrese la segunda nota: 8.0\n",
            "Ingrese la tercera nota: 9.4\n",
            "El promedio de las notas es: 8.03\n"
          ]
        }
      ]
    },
    {
      "cell_type": "code",
      "source": [
        "#13 - Crea un código que calcule e imprima el promedio ponderado de los números 5, 12, 20 y 15 con pesos respectivamente iguales a 1, 2, 3 y 4.\n",
        "# Definir los números y sus pesos\n",
        "numeros = [5, 12, 20, 15]\n",
        "pesos = [1, 2, 3, 4]\n",
        "\n",
        "# Calcular el promedio ponderado\n",
        "suma_ponderada = sum(n * p for n, p in zip(numeros, pesos))  # Suma de cada número multiplicado por su peso\n",
        "suma_pesos = sum(pesos)  # Suma total de los pesos\n",
        "promedio_ponderado = suma_ponderada / suma_pesos  # Dividir la suma ponderada entre la suma de los pesos\n",
        "\n",
        "# Imprimir el resultado\n",
        "print(f\"El promedio ponderado es: {promedio_ponderado}\")"
      ],
      "metadata": {
        "colab": {
          "base_uri": "https://localhost:8080/"
        },
        "id": "LWEquhAYonYL",
        "outputId": "eb47228f-05c7-40f3-c1e6-7ed275645151"
      },
      "execution_count": 57,
      "outputs": [
        {
          "output_type": "stream",
          "name": "stdout",
          "text": [
            "El promedio ponderado es: 14.9\n"
          ]
        }
      ]
    },
    {
      "cell_type": "markdown",
      "source": [
        "#Editando textos"
      ],
      "metadata": {
        "id": "VmtdJ8zgo90n"
      }
    },
    {
      "cell_type": "code",
      "source": [
        "#14 - Crea una variable llamada \"frase\" y asígnale una cadena de texto de tu elección. Luego, imprime la frase en pantalla.\n",
        "texto = \"Frase\"\n",
        "print(texto.upper())"
      ],
      "metadata": {
        "colab": {
          "base_uri": "https://localhost:8080/"
        },
        "id": "vMiLk0tRo74g",
        "outputId": "eb21ee73-1318-4a10-9993-07588ec8f18c"
      },
      "execution_count": 66,
      "outputs": [
        {
          "output_type": "stream",
          "name": "stdout",
          "text": [
            "FRASE\n"
          ]
        }
      ]
    },
    {
      "cell_type": "code",
      "source": [
        "#15 - Crea un código que solicite una frase y luego imprima la frase en pantalla.\n",
        "frase = input (\"Ingrese una frase: \")\n",
        "print(f\"La frase es: {frase}\")"
      ],
      "metadata": {
        "colab": {
          "base_uri": "https://localhost:8080/"
        },
        "id": "nzwZUGY3tU4C",
        "outputId": "ef2aaddd-f3d8-4e32-ab25-00212ab1c58b"
      },
      "execution_count": 63,
      "outputs": [
        {
          "output_type": "stream",
          "name": "stdout",
          "text": [
            "Ingrese una frase: Ni chicha ni limonada\n",
            "La frase es: Ni chicha ni limonada\n"
          ]
        }
      ]
    },
    {
      "cell_type": "code",
      "source": [
        "#16 - Crea un código que solicite una frase al usuario y luego imprima la misma frase ingresada pero en mayúsculas.\n",
        "frase = input (\"Ingrese una frase: \")\n",
        "print(f\"La frase en mayusculas es: {frase.upper()}\")"
      ],
      "metadata": {
        "colab": {
          "base_uri": "https://localhost:8080/"
        },
        "id": "BRsXlQJVx5ri",
        "outputId": "c65c11d4-bce4-4f00-9a4e-22b09e05bfa5"
      },
      "execution_count": 64,
      "outputs": [
        {
          "output_type": "stream",
          "name": "stdout",
          "text": [
            "Ingrese una frase: Hola amiguitos!\n",
            "La frase en mayusculas es: HOLA AMIGUITOS!\n"
          ]
        }
      ]
    },
    {
      "cell_type": "code",
      "source": [
        "#17 - Crea un código que solicite una frase al usuario y luego imprima la misma frase ingresada pero en minúsculas.\n",
        "frase = input (\"Ingrese una frase: \")\n",
        "print(f\"La frase en minusculas es: {frase.lower()}\")"
      ],
      "metadata": {
        "colab": {
          "base_uri": "https://localhost:8080/"
        },
        "id": "w6aleb_sySnF",
        "outputId": "82283e40-ff7c-4110-c54d-9981e353f137"
      },
      "execution_count": 71,
      "outputs": [
        {
          "output_type": "stream",
          "name": "stdout",
          "text": [
            "Ingrese una frase: Hola como estan?\n",
            "La frase en minusculas es: hola como estan?\n"
          ]
        }
      ]
    },
    {
      "cell_type": "code",
      "source": [
        "#18-19 - Crea una variable llamada \"frase\" y asígnale una cadena de texto de tu elección. Luego, imprime la frase sin espacios en blanco al principio y al final.\n",
        "# Crear la variable \"frase\" y asignarle una cadena de texto\n",
        "frase = input(\"Ingresa la frase que deseas\")\n",
        "\n",
        "# Imprimir la frase sin espacios en blanco al principio y al final\n",
        "print(f\"La frase ingresada es:\\n{frase.strip()}\")"
      ],
      "metadata": {
        "colab": {
          "base_uri": "https://localhost:8080/"
        },
        "id": "DFonflHAy3p9",
        "outputId": "e8eaf4d1-8e59-407d-eb8e-060350e05fea"
      },
      "execution_count": 72,
      "outputs": [
        {
          "output_type": "stream",
          "name": "stdout",
          "text": [
            "Ingresa la frase que deseasHola! ¿Como estan?\n",
            "La frase ingresada es:\n",
            "Hola! ¿Como estan?\n"
          ]
        }
      ]
    },
    {
      "cell_type": "code",
      "source": [
        "#20 - Crea un código que solicite una frase al usuario y luego imprima la misma frase sin espacios en blanco al principio y al final, además de convertirla a minúsculas.\n",
        "frase = input('Escribe una frase: ')\n",
        "print(frase.strip().lower())"
      ],
      "metadata": {
        "colab": {
          "base_uri": "https://localhost:8080/"
        },
        "id": "LtMnHvJdznCc",
        "outputId": "ff0f98cf-1eeb-40cd-892a-1fd451623a63"
      },
      "execution_count": 73,
      "outputs": [
        {
          "output_type": "stream",
          "name": "stdout",
          "text": [
            "Escribe una frase: SE TU MISMO\n",
            "se tu mismo\n"
          ]
        }
      ]
    },
    {
      "cell_type": "code",
      "source": [
        "#21 - Crea un código que solicite una frase al usuario y luego imprima la misma frase con todas las vocales \"e\" reemplazadas por la letra \"f\".\n",
        "frase = input('Escribe una frase: ')\n",
        "print(frase.lower().replace('e','f'))"
      ],
      "metadata": {
        "colab": {
          "base_uri": "https://localhost:8080/"
        },
        "id": "wmy7TAL307-4",
        "outputId": "98eb3d77-2db9-4d08-8b58-2cd9f707edd9"
      },
      "execution_count": 76,
      "outputs": [
        {
          "output_type": "stream",
          "name": "stdout",
          "text": [
            "Escribe una frase: FELICIDAD DE FELIX\n",
            "fflicidad df fflix\n"
          ]
        }
      ]
    },
    {
      "cell_type": "code",
      "source": [
        "#22 - Crea un código que solicite una frase al usuario y luego imprima la misma frase con todas las vocales \"a\" reemplazadas por el carácter \"@\".\n",
        "frase = input('Escribe una frase: ')\n",
        "print(frase.lower().replace('a',chr(64)))"
      ],
      "metadata": {
        "colab": {
          "base_uri": "https://localhost:8080/"
        },
        "id": "G_nCQs8B1Cw9",
        "outputId": "cb324cec-e1d1-4e50-da9a-0a2c64f4c082"
      },
      "execution_count": 75,
      "outputs": [
        {
          "output_type": "stream",
          "name": "stdout",
          "text": [
            "Escribe una frase: FELIZ DIA\n",
            "feliz di@\n"
          ]
        }
      ]
    },
    {
      "cell_type": "code",
      "source": [
        "#23 - Crea un código que solicite una frase al usuario y luego imprima la misma frase con todas las consonantes \"s\" reemplazadas por el carácter \"$\".\n",
        "frase = input('Escribe una frase: ')\n",
        "print(frase.lower().replace('s',chr(36)))"
      ],
      "metadata": {
        "colab": {
          "base_uri": "https://localhost:8080/"
        },
        "id": "rXcAbXuq1N6a",
        "outputId": "7edbd1d0-aeea-4af9-c8a5-ab57b70c4223"
      },
      "execution_count": 77,
      "outputs": [
        {
          "output_type": "stream",
          "name": "stdout",
          "text": [
            "Escribe una frase: SIEMPRE AMIGOS!\n",
            "$iempre amigo$!\n"
          ]
        }
      ]
    },
    {
      "cell_type": "markdown",
      "source": [
        "#Estructuras condicionales"
      ],
      "metadata": {
        "id": "tHkyvkKJ2NrG"
      }
    },
    {
      "cell_type": "code",
      "source": [
        "nombre_alumno = 'Fabricio Daniel'\n",
        "calificacion_ingreso = 9.5\n",
        "ano_ingreso= 2023\n",
        "print('Nombre del alumno es {} \\nCalificacion de Ingreso: {} \\nEl año de ingreso es: {}.' .format(nombre_alumno, calificacion_ingreso, ano_ingreso))"
      ],
      "metadata": {
        "colab": {
          "base_uri": "https://localhost:8080/"
        },
        "id": "4STUH9Me2Qme",
        "outputId": "d24f6050-a598-4a22-fad7-fec04d018b4f"
      },
      "execution_count": 78,
      "outputs": [
        {
          "output_type": "stream",
          "name": "stdout",
          "text": [
            "Nombre del alumno es Fabricio Daniel \n",
            "Calificacion de Ingreso: 9.5 \n",
            "El año de ingreso es: 2023.\n"
          ]
        }
      ]
    },
    {
      "cell_type": "markdown",
      "source": [
        "* La calificacion de aprobacion es entre 7 y 10 == nota de aprobacion >=7\n",
        "* La calificacion de reprobado es menor de 7 == nota de reprobacion < 7\n",
        "\n"
      ],
      "metadata": {
        "id": "9akMWkHs4P2h"
      }
    },
    {
      "cell_type": "markdown",
      "source": [
        "#Condicional IF y ELSE"
      ],
      "metadata": {
        "id": "3ySwN5-94joY"
      }
    },
    {
      "cell_type": "code",
      "source": [
        "#Realizando el ejercicio:\n",
        "calificacion_ingreso= float(input(\"Ingrese la calificacion del alumno:\"))\n",
        "if calificacion_ingreso >= 7:\n",
        "  print(\"El alumno ha aprobado\")\n",
        "else:\n",
        "  print(\"El alumno ha reprobado\")\n",
        "\n"
      ],
      "metadata": {
        "colab": {
          "base_uri": "https://localhost:8080/"
        },
        "id": "ZBHHNSXl3IlJ",
        "outputId": "2b1c1469-4baa-4892-f18a-40d1b5d95d46"
      },
      "execution_count": 83,
      "outputs": [
        {
          "output_type": "stream",
          "name": "stdout",
          "text": [
            "Ingrese la calificacion del alumno:6.9\n",
            "El alumno ha reprobado\n"
          ]
        }
      ]
    },
    {
      "cell_type": "code",
      "source": [
        "#Ejemplo de operadores relacionales\n",
        "edad_maria = int(input('Ingrese la edad de María: '))\n",
        "edad_beatriz = int(input('Ingrese la edad de Beatriz: '))\n",
        "\n",
        "if edad_maria > edad_beatriz:\n",
        "  print('María es mayor que Beatriz.')"
      ],
      "metadata": {
        "colab": {
          "base_uri": "https://localhost:8080/"
        },
        "id": "MIoemDfM5ri9",
        "outputId": "c8125ea6-b7e4-45ac-e022-ddbbf042a0b1"
      },
      "execution_count": 84,
      "outputs": [
        {
          "output_type": "stream",
          "name": "stdout",
          "text": [
            "Ingrese la edad de María: 20\n",
            "Ingrese la edad de Beatriz: 18\n",
            "María es mayor que Beatriz.\n"
          ]
        }
      ]
    },
    {
      "cell_type": "code",
      "source": [
        "#Utilizando >= que\n",
        "empleados_empresa_1 = int(input('Ingrese la cantidad de empleados de la empresa 1: '))\n",
        "empleados_empresa_2 = int(input('Ingrese la cantidad de empleados de la empresa 2: '))\n",
        "\n",
        "if empleados_empresa_1 >= empleados_empresa_2:\n",
        "  print('La empresa 1 tiene una cantidad de empleados mayor o igual a la empresa 2.')"
      ],
      "metadata": {
        "colab": {
          "base_uri": "https://localhost:8080/"
        },
        "id": "YJuQemNv524P",
        "outputId": "e9a9f751-f640-4e95-b2c6-fa388ef3baae"
      },
      "execution_count": 86,
      "outputs": [
        {
          "output_type": "stream",
          "name": "stdout",
          "text": [
            "Ingrese la cantidad de empleados de la empresa 1: 640\n",
            "Ingrese la cantidad de empleados de la empresa 2: 20\n",
            "La empresa 1 tiene una cantidad de empleados mayor o igual a la empresa 2.\n"
          ]
        }
      ]
    },
    {
      "cell_type": "code",
      "source": [
        "#igual\n",
        "libro_1 = input('Ingrese el título del 1° libro: ')\n",
        "libro_2 = input('Ingrese el título del 2° libro: ')\n",
        "\n",
        "if libro_1 == libro_2:\n",
        "  print('Los libros tienen el mismo título.')\n",
        "else :\n",
        "  print ('Los libros tienen títulos diferentes.')"
      ],
      "metadata": {
        "colab": {
          "base_uri": "https://localhost:8080/"
        },
        "id": "GkRepXPS6ML1",
        "outputId": "7bd8c52d-f109-41b5-d6ac-649286fcedd6"
      },
      "execution_count": 90,
      "outputs": [
        {
          "output_type": "stream",
          "name": "stdout",
          "text": [
            "Ingrese el título del 1° libro: La llorona\n",
            "Ingrese el título del 2° libro: La zegua\n",
            "Los libros tienen títulos diferentes.\n"
          ]
        }
      ]
    },
    {
      "cell_type": "code",
      "source": [
        "#Diferente de !=\n",
        "libro_1 = input('Ingrese el título del 1° libro: ')\n",
        "libro_2 = input('Ingrese el título del 2° libro: ')\n",
        "\n",
        "if libro_1 != libro_2:\n",
        "  print('Los libros tienen títulos diferentes.')\n",
        "else:\n",
        "  print('Los libros tienen el mismo título.')"
      ],
      "metadata": {
        "colab": {
          "base_uri": "https://localhost:8080/"
        },
        "id": "xqBoZ6dj6yyM",
        "outputId": "19dd2cf7-3ee4-4f2c-cbdc-2251c1362298"
      },
      "execution_count": 91,
      "outputs": [
        {
          "output_type": "stream",
          "name": "stdout",
          "text": [
            "Ingrese el título del 1° libro: Hernan Cortez\n",
            "Ingrese el título del 2° libro: Pedro Alvarado\n",
            "Los libros tienen títulos diferentes.\n"
          ]
        }
      ]
    },
    {
      "cell_type": "markdown",
      "source": [
        "#Condicion ELIF"
      ],
      "metadata": {
        "id": "4ldPhhyH8-XX"
      }
    },
    {
      "cell_type": "code",
      "source": [
        "calificacion = float(input('Ingrese la calificación del alumno: '))\n",
        "if calificacion >= 9:\n",
        "  print('Excelente')\n",
        "elif calificacion >= 7:\n",
        "  print('Buena')\n",
        "elif calificacion >= 5:\n",
        "  print('Regular')\n",
        "else:\n",
        "  print('Mala')"
      ],
      "metadata": {
        "colab": {
          "base_uri": "https://localhost:8080/"
        },
        "id": "wMUU1X9_893f",
        "outputId": "8e2d16db-9bfa-4eb5-e3a4-0e71993eaedd"
      },
      "execution_count": 94,
      "outputs": [
        {
          "output_type": "stream",
          "name": "stdout",
          "text": [
            "Ingrese la calificación del alumno: 6.8\n",
            "Regular\n"
          ]
        }
      ]
    },
    {
      "cell_type": "markdown",
      "source": [
        "#Operadores logicos integrados(AND, OR, NOT)"
      ],
      "metadata": {
        "id": "M_gTxFNI90jl"
      }
    },
    {
      "cell_type": "code",
      "source": [
        "v = True\n",
        "f = False\n",
        "if v and f:\n",
        "  print('La condicion es verdadera')\n",
        "else:\n",
        "  print('La condicion es falsa')"
      ],
      "metadata": {
        "colab": {
          "base_uri": "https://localhost:8080/"
        },
        "id": "NwGjdXDr98_J",
        "outputId": "b056acf8-a42f-4a85-d3ec-9104efe06f3c"
      },
      "execution_count": 96,
      "outputs": [
        {
          "output_type": "stream",
          "name": "stdout",
          "text": [
            "La condicion es falsa\n"
          ]
        }
      ]
    },
    {
      "cell_type": "code",
      "source": [
        "if f or f:\n",
        "  print('La condicion es verdadera')\n",
        "else:\n",
        "  print('La condicion es falsa')"
      ],
      "metadata": {
        "colab": {
          "base_uri": "https://localhost:8080/"
        },
        "id": "-2O_YsiKAAad",
        "outputId": "f9057eea-cc36-43b6-9606-98c090fe28ca"
      },
      "execution_count": 98,
      "outputs": [
        {
          "output_type": "stream",
          "name": "stdout",
          "text": [
            "La condicion es falsa\n"
          ]
        }
      ]
    },
    {
      "cell_type": "code",
      "source": [
        "if  not f:\n",
        "  print('La condicion es verdadera')\n",
        "else:\n",
        "  print('La condicion es falsa')"
      ],
      "metadata": {
        "colab": {
          "base_uri": "https://localhost:8080/"
        },
        "id": "47fWiZekAOZ2",
        "outputId": "bf6c433d-6fdd-47d2-b8ab-de67e1c53196"
      },
      "execution_count": 99,
      "outputs": [
        {
          "output_type": "stream",
          "name": "stdout",
          "text": [
            "La condicion es verdadera\n"
          ]
        }
      ]
    },
    {
      "cell_type": "code",
      "source": [
        "#Ejemplo practico:\n",
        "lista = [\n",
        "    \"Ana Gómez\",\n",
        "    \"Luis Martínez\",\n",
        "    \"Sofía Rodríguez\",\n",
        "    \"Carlos López\",\n",
        "    \"Valeria Fernández\",\n",
        "    \"Javier Pérez\",\n",
        "    \"Camila Sánchez\",\n",
        "    \"Daniel Díaz\",\n",
        "    \"Lucía Torres\",\n",
        "    \"Miguel Ramírez\",\n",
        "    \"Isabella Flores\",\n",
        "    \"Sebastián Vargas\",\n",
        "    \"Mariana Silva\",\n",
        "    \"Mateo Castro\",\n",
        "    \"Paula Mendoza\",\n",
        "    \"Álvaro Ríos\",\n",
        "    \"Victoria Morales\",\n",
        "    \"Nicolás Ortega\",\n",
        "    \"Andrea Navarro\",\n",
        "    \"Diego Herrera\",\n",
        "    \"Emilia Medina\",\n",
        "    \"Gabriel Guzmán\",\n",
        "    \"Renata Paredes\",\n",
        "    \"Tomás Acosta\",\n",
        "    \"Jimena Aguirre\",\n",
        "    \"Adrián Rojas\",\n",
        "    \"Catalina Vázquez\",\n",
        "    \"Santiago Núñez\",\n",
        "    \"Elena Bravo\",\n",
        "    \"Joaquín Cruz\"\n",
        "]\n",
        "print(\"Lista cargada con exito!\")"
      ],
      "metadata": {
        "colab": {
          "base_uri": "https://localhost:8080/"
        },
        "id": "5JmQDyClBDNB",
        "outputId": "cd28d12f-ad39-4d57-ac72-0d1565137e5a"
      },
      "execution_count": 100,
      "outputs": [
        {
          "output_type": "stream",
          "name": "stdout",
          "text": [
            "Lista cargada con exito!\n"
          ]
        }
      ]
    },
    {
      "cell_type": "code",
      "source": [
        "#Necesitamos verificar dos nombres Camila Sánchez y Andrea Navas en la lista\n",
        "nombre1 = \"Camila Sánchez\"\n",
        "nombre2 = \"Andrea Navas\"\n",
        "#validando si esta en nuestra lista\n",
        "if nombre1 in lista:\n",
        "  print(f\"{nombre1} esta en la lista Aprobo\")\n",
        "else:\n",
        "  print(f\"{nombre1} no esta en la lista Reprobo\")"
      ],
      "metadata": {
        "colab": {
          "base_uri": "https://localhost:8080/"
        },
        "id": "ZmeQb3HCBM3C",
        "outputId": "a0a6dbea-f987-43b7-d1e9-4719d2f596de"
      },
      "execution_count": 104,
      "outputs": [
        {
          "output_type": "stream",
          "name": "stdout",
          "text": [
            "Camila Sánchez esta en la lista\n"
          ]
        }
      ]
    },
    {
      "cell_type": "code",
      "source": [
        "#Validando que no esta en nuestra lista\n",
        "if nombre2 in lista:\n",
        "  print(f\"{nombre2} esta en la lista Aprobo\")\n",
        "else:\n",
        "  print(f\"{nombre2} no esta en la lista Reprobo\")"
      ],
      "metadata": {
        "colab": {
          "base_uri": "https://localhost:8080/"
        },
        "id": "nSx_hFgLB4VD",
        "outputId": "09c904d9-cd0b-4aae-f307-3ee37c50548a"
      },
      "execution_count": 106,
      "outputs": [
        {
          "output_type": "stream",
          "name": "stdout",
          "text": [
            "Andrea Navas no esta en la lista Reprobo\n"
          ]
        }
      ]
    },
    {
      "cell_type": "markdown",
      "source": [
        "#Desafio"
      ],
      "metadata": {
        "id": "oy3CEMJPC6lD"
      }
    },
    {
      "cell_type": "code",
      "source": [
        "#1 - Escribe un programa que pida a la persona usuaria que proporcione dos números y muestre el número más grande.\n",
        "numero1 = int(input(\"Ingrese el primer numero: \"))\n",
        "numero2 = int(input(\"Ingrese el segundo numero: \"))\n",
        "if numero1 > numero2:\n",
        "  print(f\"El numero mayor es: {numero1}\")\n",
        "elif numero1<numero2:\n",
        "  print(f\"El numero mayor es: {numero2}\")\n",
        "else:\n",
        "  print(\"Los numeros son iguales\")\n"
      ],
      "metadata": {
        "colab": {
          "base_uri": "https://localhost:8080/"
        },
        "id": "k17Fn5E_C6Ks",
        "outputId": "8d3a4b33-fb8e-4848-ef6e-ed760a7fe90d"
      },
      "execution_count": 107,
      "outputs": [
        {
          "output_type": "stream",
          "name": "stdout",
          "text": [
            "Ingrese el primer numero: 9\n",
            "Ingrese el segundo numero: 8\n",
            "El numero mayor es: 9\n"
          ]
        }
      ]
    },
    {
      "cell_type": "code",
      "source": [
        "# Recolectamos el porcentaje\n",
        "variación = float(input('Ingrese el porcentaje de crecimiento: '))\n",
        "# Verificamos si el valor es positivo o negativo con una comparación para ver si el número\n",
        "# es mayor o menor que 0\n",
        "if variación > 0:\n",
        "    print(f'Hubo un crecimiento del {variación}%')\n",
        "elif variación < 0:\n",
        "    print(f'Hubo un decrecimiento del {variación}%')\n",
        "else:\n",
        "    print('No hubo crecimiento ni decrecimiento.')"
      ],
      "metadata": {
        "colab": {
          "base_uri": "https://localhost:8080/"
        },
        "id": "3HTNVgO5DsEy",
        "outputId": "6a6a2580-ba90-4fae-d4b0-ca114143fa6c"
      },
      "execution_count": 109,
      "outputs": [
        {
          "output_type": "stream",
          "name": "stdout",
          "text": [
            "Ingrese el porcentaje de crecimiento: 9\n",
            "Hubo un crecimiento del 9.0%\n"
          ]
        }
      ]
    },
    {
      "cell_type": "code",
      "source": [
        "# Recolectamos la letra del usuario en minúsculas\n",
        "letra = input('Ingrese una letra: ').lower()\n",
        "vocales = 'aeiou' # cadena que contiene todas las vocales\n",
        "# Verificamos si la letra está en las vocales con `in`\n",
        "if letra in vocales:\n",
        "    print('La letra es una vocal.')\n",
        "else:\n",
        "    print('La letra es una consonante.')"
      ],
      "metadata": {
        "colab": {
          "base_uri": "https://localhost:8080/"
        },
        "id": "engG0w7jD6ro",
        "outputId": "e9d8ce08-c810-4156-db84-f6be9cc4d714"
      },
      "execution_count": 111,
      "outputs": [
        {
          "output_type": "stream",
          "name": "stdout",
          "text": [
            "Ingrese una letra: A\n",
            "La letra es una vocal.\n"
          ]
        }
      ]
    },
    {
      "cell_type": "code",
      "source": [
        "# Recolectamos los precios de los 3 años\n",
        "precio_ano1 = float(input('Ingrese el precio promedio del automóvil en el primer año: '))\n",
        "precio_ano2 = float(input('Ingrese el precio promedio del automóvil en el segundo año: '))\n",
        "precio_ano3 = float(input('Ingrese el precio promedio del automóvil en el tercer año: '))\n",
        "# Determinamos el valor más alto mediante comparaciones\n",
        "mayor = precio_ano1\n",
        "if precio_ano2 > mayor:\n",
        "  mayor = precio_ano2\n",
        "if precio_ano3 > mayor:\n",
        "  mayor = precio_ano3\n",
        "# Determinamos el valor más bajo mediante comparaciones\n",
        "menor = precio_ano1\n",
        "if precio_ano2 < menor:\n",
        "  menor = precio_ano2\n",
        "if precio_ano3 < menor:\n",
        "  menor = precio_ano3\n",
        "# Mostramos los resultados\n",
        "print(f'El precio más alto fue de USD $ {mayor}.')\n",
        "print(f'El precio más bajo fue de USD $ {menor}.')"
      ],
      "metadata": {
        "colab": {
          "base_uri": "https://localhost:8080/"
        },
        "id": "HT4SoryJEjyi",
        "outputId": "bbf72107-c676-4151-b7d1-36e71a0b6a96"
      },
      "execution_count": 113,
      "outputs": [
        {
          "output_type": "stream",
          "name": "stdout",
          "text": [
            "Ingrese el precio promedio del automóvil en el primer año: 3500\n",
            "Ingrese el precio promedio del automóvil en el segundo año: 4800\n",
            "Ingrese el precio promedio del automóvil en el tercer año: 6400\n",
            "El precio más alto fue de USD $ 6400.0.\n",
            "El precio más bajo fue de USD $ 3500.0.\n"
          ]
        }
      ]
    },
    {
      "cell_type": "code",
      "source": [
        "# Recolectamos el precio de tres productos\n",
        "producto1 = float(input('Ingrese el precio del primer producto: '))\n",
        "producto2 = float(input('Ingrese el precio del segundo producto: '))\n",
        "producto3 = float(input('Ingrese el precio del tercer producto: '))\n",
        "\n",
        "# Usamos el operador lógico `and` para determinar cuál es el precio más bajo entre los 3 productos\n",
        "# ya que esto nos permite hacer una comparación de 3 entradas\n",
        "if producto1 < producto2 and producto1 < producto3:\n",
        "    print('El primer producto es el más barato.')\n",
        "elif producto2 < producto1 and producto2 < producto3:\n",
        "    print('El segundo producto es el más barato.')\n",
        "else:\n",
        "    print('El tercer producto es el más barato.')"
      ],
      "metadata": {
        "colab": {
          "base_uri": "https://localhost:8080/"
        },
        "id": "Q2marZjuE722",
        "outputId": "fa980098-57a0-4c01-af99-2174f377aeaa"
      },
      "execution_count": 114,
      "outputs": [
        {
          "output_type": "stream",
          "name": "stdout",
          "text": [
            "Ingrese el precio del primer producto: 8.50\n",
            "Ingrese el precio del segundo producto: 9.45\n",
            "Ingrese el precio del tercer producto: 3.80\n",
            "El tercer producto es el más barato.\n"
          ]
        }
      ]
    },
    {
      "cell_type": "code",
      "source": [
        "# Recolectamos los 3 números\n",
        "num1 = int(input('Ingrese el primer número: '))\n",
        "num2 = int(input('Ingrese el segundo número: '))\n",
        "num3 = int(input('Ingrese el tercer número: '))\n",
        "\n",
        "# Comparación entre los 3 números\n",
        "if (num1 >= num2) and (num1 >= num3):\n",
        "    print(num1)\n",
        "    if num2 >= num3:\n",
        "        print(num2)\n",
        "        print(num3)\n",
        "    else:\n",
        "        print(num3)\n",
        "        print(num2)\n",
        "elif (num2 >= num1) and (num2 >= num3):\n",
        "    print(num2)\n",
        "    if num1 >= num3:\n",
        "        print(num1)\n",
        "        print(num3)\n",
        "    else:\n",
        "        print(num3)\n",
        "        print(num1)\n",
        "else:\n",
        "    print(num3)\n",
        "    if num1 >= num2:\n",
        "        print(num1)\n",
        "        print(num2)\n",
        "    else:\n",
        "        print(num2)\n",
        "        print(num1)"
      ],
      "metadata": {
        "colab": {
          "base_uri": "https://localhost:8080/"
        },
        "id": "THsUuJouFA1G",
        "outputId": "6cfc0a3e-156f-48d5-abcd-d9b7d45ff452"
      },
      "execution_count": 115,
      "outputs": [
        {
          "output_type": "stream",
          "name": "stdout",
          "text": [
            "Ingrese el primer número: 8\n",
            "Ingrese el segundo número: 2\n",
            "Ingrese el tercer número: 9\n",
            "9\n",
            "8\n",
            "2\n"
          ]
        }
      ]
    },
    {
      "cell_type": "code",
      "source": [
        "# Recolectamos el turno de estudio\n",
        "turno = input('Ingresa en qué turno estudias (mañana, tarde o noche): ')\n",
        "\n",
        "# Comparamos la entrada con todas las opciones y mostramos el resultado.\n",
        "if turno == 'mañana':\n",
        "  print('¡Buenos Días!')\n",
        "elif turno == 'tarde':\n",
        "  print('¡Buenas Tardes!')\n",
        "elif turno == 'noche':\n",
        "  print('¡Buenas Noches!')\n",
        "else:\n",
        "  print('¡Valor Inválido!')"
      ],
      "metadata": {
        "colab": {
          "base_uri": "https://localhost:8080/"
        },
        "id": "umLh825tFFcc",
        "outputId": "04c14393-89c0-4a13-8929-3db085c4b97c"
      },
      "execution_count": 116,
      "outputs": [
        {
          "output_type": "stream",
          "name": "stdout",
          "text": [
            "Ingresa en qué turno estudias (mañana, tarde o noche): noche\n",
            "¡Buenas Noches!\n"
          ]
        }
      ]
    },
    {
      "cell_type": "code",
      "source": [
        "# Recolectamos los datos\n",
        "num = int(input('Ingresa un número: '))\n",
        "\n",
        "# Verificamos si el número es par según el resultado del módulo\n",
        "if num % 2 == 0:\n",
        "    print('El número es par.')\n",
        "else:\n",
        "    print('El número es impar.')"
      ],
      "metadata": {
        "colab": {
          "base_uri": "https://localhost:8080/"
        },
        "id": "SZhdDOHaFKWb",
        "outputId": "d126454a-353b-48c5-e091-72f11b8a78b5"
      },
      "execution_count": 117,
      "outputs": [
        {
          "output_type": "stream",
          "name": "stdout",
          "text": [
            "Ingresa un número: 8\n",
            "El número es par.\n"
          ]
        }
      ]
    },
    {
      "cell_type": "code",
      "source": [
        "# Recolectamos los datos\n",
        "# Recolectamos los datos\n",
        "num = float(input('Ingresa un número: '))\n",
        "# Verificamos si el número es entero o decimal según el resultado del módulo\n",
        "if num % 1 == 0:\n",
        "    print('El número es entero.')\n",
        "else:\n",
        "    print('El número es decimal.')\n"
      ],
      "metadata": {
        "colab": {
          "base_uri": "https://localhost:8080/"
        },
        "id": "riYjQ1j3FN9X",
        "outputId": "e1b0f275-2f8e-4ce1-a7a8-8bba12a7bea0"
      },
      "execution_count": 120,
      "outputs": [
        {
          "output_type": "stream",
          "name": "stdout",
          "text": [
            "Ingresa un número: 2.5\n",
            "El número es decimal.\n"
          ]
        }
      ]
    },
    {
      "cell_type": "code",
      "source": [
        "# Recolectamos los números a operar y solicitamos la operación deseada por el usuario\n",
        "num1 = float(input('Ingrese el primer número: '))\n",
        "num2 = float(input('Ingrese el segundo número: '))\n",
        "operación = input('Ingrese la operación deseada (+, -, *, /): ')\n",
        "\n",
        "# Verificamos la operación seleccionada y realizamos la operación matemática según la elección\n",
        "if operación == '+':\n",
        "    resultado = num1 + num2\n",
        "elif operación == '-':\n",
        "    resultado = num1 - num2\n",
        "elif operación == '*':\n",
        "    resultado = num1 * num2\n",
        "elif operación == '/':\n",
        "    resultado = num1 / num2\n",
        "else: # Especificamos un resultado en caso de que el usuario no ingrese una de las operaciones correctamente.\n",
        "    print('Operación no válida, el resultado de la operación será 0')\n",
        "    resultado = 0\n",
        "\n",
        "# Realizamos las mismas verificaciones que en preguntas anteriores para generar el informe del cálculo entre números\n",
        "if resultado % 1 == 0:\n",
        "    print('El resultado es un número entero.')\n",
        "else:\n",
        "    print('El resultado es un número decimal.')\n",
        "\n",
        "if resultado > 0:\n",
        "    print('El resultado es positivo.')\n",
        "else:\n",
        "    print('El resultado es negativo.')\n",
        "\n",
        "if resultado % 2 == 0:\n",
        "    print('El resultado es un número par.')\n",
        "else:\n",
        "    print('El resultado es un número impar.')"
      ],
      "metadata": {
        "colab": {
          "base_uri": "https://localhost:8080/"
        },
        "id": "hLXRH0qbFYzs",
        "outputId": "afe328bd-d3d6-4761-aa4e-165c1a72205e"
      },
      "execution_count": 123,
      "outputs": [
        {
          "output_type": "stream",
          "name": "stdout",
          "text": [
            "Ingrese el primer número: 20\n",
            "Ingrese el segundo número: 10\n",
            "Ingrese la operación deseada (+, -, *, /): +\n",
            "El resultado es un número entero.\n",
            "El resultado es positivo.\n",
            "El resultado es un número par.\n"
          ]
        }
      ]
    },
    {
      "cell_type": "code",
      "source": [
        "# Recolectamos los lados de un triángulo\n",
        "print('Estamos recopilando los lados de un triángulo.')\n",
        "lado1 = float(input('Ingresa la longitud del primer lado: '))\n",
        "lado2 = float(input('Ingresa la longitud del segundo lado: '))\n",
        "lado3 = float(input('Ingresa la longitud del tercer lado: '))\n",
        "\n",
        "# Verificamos si los lados pueden formar un triángulo\n",
        "if (lado1 + lado2 > lado3) and (lado2 + lado3 > lado1) and (lado1 + lado3 > lado2):\n",
        "    print('¡Los valores pueden formar un triángulo!')\n",
        "    # Comparamos los lados para determinar el tipo de triángulo\n",
        "    if (lado1 == lado2) and (lado2 == lado3):\n",
        "        print('El triángulo es equilátero.')\n",
        "    elif (lado1 != lado2) and (lado2 != lado3) and (lado1 != lado3):\n",
        "        print('El triángulo es escaleno.')\n",
        "    else:\n",
        "        print('El triángulo es isósceles.')\n",
        "else:\n",
        "    print('¡Los valores no pueden formar un triángulo!')"
      ],
      "metadata": {
        "colab": {
          "base_uri": "https://localhost:8080/"
        },
        "id": "m5DFyTSnGLMN",
        "outputId": "2002096e-c055-40b9-f7d4-252dac728752"
      },
      "execution_count": 124,
      "outputs": [
        {
          "output_type": "stream",
          "name": "stdout",
          "text": [
            "Estamos recopilando los lados de un triángulo.\n",
            "Ingresa la longitud del primer lado: 10\n",
            "Ingresa la longitud del segundo lado: 4\n",
            "Ingresa la longitud del tercer lado: 3\n",
            "¡Los valores no pueden formar un triángulo!\n"
          ]
        }
      ]
    },
    {
      "cell_type": "code",
      "source": [
        "# Recolectamos la cantidad de litros y el tipo de combustible,\n",
        "# convirtiendo el carácter en mayúsculas para facilitar nuestro análisis\n",
        "cantidad_litros = float(input('Ingrese la cantidad de litros vendidos: '))\n",
        "tipo_combustible = input('Ingrese el tipo de combustible (E para etanol y D para diésel): ').upper()\n",
        "\n",
        "# Verificamos primero el tipo de combustible\n",
        "if tipo_combustible == 'E':\n",
        "  # Establecemos el precio por litro de etanol\n",
        "  precio_litro = 1.70\n",
        "  # Según la cantidad de litros, establecemos el descuento correspondiente\n",
        "  if cantidad_litros <= 15:\n",
        "    descuento = 0.02\n",
        "  else:\n",
        "    descuento = 0.04\n",
        "elif tipo_combustible == 'D':\n",
        "  # Establecemos el precio por litro de diésel\n",
        "  precio_litro = 2.00\n",
        "  # Según la cantidad de litros, establecemos el descuento correspondiente\n",
        "  if cantidad_litros <= 15:\n",
        "    descuento = 0.03\n",
        "  else:\n",
        "    descuento = 0.05\n",
        "# En caso de error en la especificación del tipo de combustible,\n",
        "# consideramos las entradas como no válidas y establecemos los precios y descuentos en 0\n",
        "else:\n",
        "    print('Entradas no válidas!')\n",
        "    precio_litro = 0\n",
        "    descuento = 0\n",
        "\n",
        "# Calculamos el valor del descuento, seguido del cálculo del precio descontado\n",
        "valor_descuento = precio_litro * cantidad_litros * descuento\n",
        "valor_pagado = precio_litro * cantidad_litros - valor_descuento\n",
        "\n",
        "# Resultado\n",
        "print(f'Valor a pagar por el cliente: USD $ {valor_pagado}')"
      ],
      "metadata": {
        "colab": {
          "base_uri": "https://localhost:8080/"
        },
        "id": "o2gqqtgOGPzy",
        "outputId": "e2d6ed18-128c-4b10-e953-cddd7231a94f"
      },
      "execution_count": 126,
      "outputs": [
        {
          "output_type": "stream",
          "name": "stdout",
          "text": [
            "Ingrese la cantidad de litros vendidos: 780\n",
            "Ingrese el tipo de combustible (E para etanol y D para diésel): D\n",
            "Valor a pagar por el cliente: USD $ 1482.0\n"
          ]
        }
      ]
    },
    {
      "cell_type": "code",
      "source": [
        "# Recolectamos las ventas de los dos años\n",
        "venta_2023 = float(input('Ingrese la cantidad de ventas en 2023: '))\n",
        "venta_2024 = float(input('Ingrese la cantidad de ventas en 2024: '))\n",
        "\n",
        "# Calculamos la variación porcentual entre las ventas de los años 2023 y 2024\n",
        "var_porcentual = 100 * (venta_2024 - venta_2023) / (venta_2023)\n",
        "\n",
        "# Análisis condicional de la variación porcentual para determinar la sugerencia a enviar\n",
        "if var_porcentual > 20:\n",
        "    print('Bonificación para el equipo de ventas.')\n",
        "elif 2 <= var_porcentual <= 20:\n",
        "    print('Pequeña bonificación para el equipo de ventas.')\n",
        "elif -10 <= var_porcentual < 2:\n",
        "    print('Planificación de políticas de incentivo a las ventas.')\n",
        "else:\n",
        "    print('Recorte de gastos.')"
      ],
      "metadata": {
        "colab": {
          "base_uri": "https://localhost:8080/"
        },
        "id": "54aik2qGGfNi",
        "outputId": "b54bec6a-04aa-4ca9-d4a3-cc444d5578ad"
      },
      "execution_count": 127,
      "outputs": [
        {
          "output_type": "stream",
          "name": "stdout",
          "text": [
            "Ingrese la cantidad de ventas en 2023: 18500\n",
            "Ingrese la cantidad de ventas en 2024: 19800\n",
            "Pequeña bonificación para el equipo de ventas.\n"
          ]
        }
      ]
    }
  ]
}