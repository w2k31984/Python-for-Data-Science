{
  "nbformat": 4,
  "nbformat_minor": 0,
  "metadata": {
    "colab": {
      "provenance": [],
      "authorship_tag": "ABX9TyP3104Lq8to8L4aYpeKDZR9",
      "include_colab_link": true
    },
    "kernelspec": {
      "name": "python3",
      "display_name": "Python 3"
    },
    "language_info": {
      "name": "python"
    }
  },
  "cells": [
    {
      "cell_type": "markdown",
      "metadata": {
        "id": "view-in-github",
        "colab_type": "text"
      },
      "source": [
        "<a href=\"https://colab.research.google.com/github/w2k31984/Python-for-Data-Science/blob/master/Python_para_Data_Science.ipynb\" target=\"_parent\"><img src=\"https://colab.research.google.com/assets/colab-badge.svg\" alt=\"Open In Colab\"/></a>"
      ]
    },
    {
      "cell_type": "markdown",
      "source": [
        "![openinColab.png](data:image/png;base64,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)"
      ],
      "metadata": {
        "id": "4TqjasGM4ALV"
      }
    },
    {
      "cell_type": "markdown",
      "source": [
        "#Python para Data Science.\n",
        "Notebook para el curso de python para Data Science publicado en la plataforma de [Alura Latam](https://app.aluracursos.com/course/python-data-science-primeros-pasos).\n",
        "\n",
        "\n",
        "\n"
      ],
      "metadata": {
        "id": "ykD9sURe2Ghb"
      }
    },
    {
      "cell_type": "markdown",
      "source": [
        "Vamos a ejecutar nuestro primer comando utilizando la primera funcion llamada: [print](https://docs.python.org/3/library/functions.html#print)()."
      ],
      "metadata": {
        "id": "IeEHtXD75eeb"
      }
    },
    {
      "cell_type": "code",
      "source": [
        "#Creamos una variable donde colocaremos el mensaje luego con la funcion print(colocaremos la varible que contiene nuestro mensaje)\n",
        "saludo = \"Hola Mundo!\"\n",
        "print(saludo)"
      ],
      "metadata": {
        "colab": {
          "base_uri": "https://localhost:8080/"
        },
        "id": "XKbNCVeT4xkp",
        "outputId": "883fab3d-bee3-49f0-9535-73d93fdb7479"
      },
      "execution_count": 6,
      "outputs": [
        {
          "output_type": "stream",
          "name": "stdout",
          "text": [
            "Hola Mundo!\n"
          ]
        }
      ]
    },
    {
      "cell_type": "code",
      "source": [
        "# Precionamos shift+enter para ejecutar la celda.\n",
        "15"
      ],
      "metadata": {
        "colab": {
          "base_uri": "https://localhost:8080/"
        },
        "id": "F0Pdy-3r6mFD",
        "outputId": "268c8726-ed31-415d-9dde-a5c1bd1d754c"
      },
      "execution_count": 5,
      "outputs": [
        {
          "output_type": "execute_result",
          "data": {
            "text/plain": [
              "15"
            ]
          },
          "metadata": {},
          "execution_count": 5
        }
      ]
    },
    {
      "cell_type": "markdown",
      "source": [],
      "metadata": {
        "id": "Fl8I3t6L49yA"
      }
    }
  ]
}