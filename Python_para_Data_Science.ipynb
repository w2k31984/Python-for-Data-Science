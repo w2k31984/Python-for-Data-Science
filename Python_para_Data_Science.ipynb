{
  "cells": [
    {
      "cell_type": "markdown",
      "metadata": {
        "id": "view-in-github",
        "colab_type": "text"
      },
      "source": [
        "<a href=\"https://colab.research.google.com/github/w2k31984/Python-for-Data-Science/blob/master/Python_para_Data_Science.ipynb\" target=\"_parent\"><img src=\"https://colab.research.google.com/assets/colab-badge.svg\" alt=\"Open In Colab\"/></a>"
      ]
    },
    {
      "cell_type": "markdown",
      "metadata": {
        "id": "4TqjasGM4ALV"
      },
      "source": [
        "![openinColab.png](data:image/png;base64,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)"
      ]
    },
    {
      "cell_type": "markdown",
      "metadata": {
        "id": "ykD9sURe2Ghb"
      },
      "source": [
        "#Python para Data Science.\n",
        "Notebook para el curso de python para Data Science publicado en la plataforma de [Alura Latam](https://app.aluracursos.com/course/python-data-science-primeros-pasos).\n",
        "\n",
        "\n",
        "\n"
      ]
    },
    {
      "cell_type": "markdown",
      "metadata": {
        "id": "IeEHtXD75eeb"
      },
      "source": [
        "Vamos a ejecutar nuestro primer comando utilizando la primera funcion llamada: [print](https://docs.python.org/3/library/functions.html#print)()."
      ]
    },
    {
      "cell_type": "code",
      "execution_count": null,
      "metadata": {
        "colab": {
          "base_uri": "https://localhost:8080/"
        },
        "id": "XKbNCVeT4xkp",
        "outputId": "883fab3d-bee3-49f0-9535-73d93fdb7479"
      },
      "outputs": [
        {
          "name": "stdout",
          "output_type": "stream",
          "text": [
            "Hola Mundo!\n"
          ]
        }
      ],
      "source": [
        "#Creamos una variable donde colocaremos el mensaje luego con la funcion print(colocaremos la varible que contiene nuestro mensaje)\n",
        "saludo = \"Hola Mundo!\"\n",
        "print(saludo)"
      ]
    },
    {
      "cell_type": "code",
      "execution_count": null,
      "metadata": {
        "colab": {
          "base_uri": "https://localhost:8080/"
        },
        "id": "F0Pdy-3r6mFD",
        "outputId": "268c8726-ed31-415d-9dde-a5c1bd1d754c"
      },
      "outputs": [
        {
          "data": {
            "text/plain": [
              "15"
            ]
          },
          "execution_count": 5,
          "metadata": {},
          "output_type": "execute_result"
        }
      ],
      "source": [
        "# Precionamos shift+enter para ejecutar la celda.\n",
        "15"
      ]
    },
    {
      "cell_type": "code",
      "execution_count": null,
      "metadata": {
        "colab": {
          "base_uri": "https://localhost:8080/"
        },
        "id": "biGcDIy18Ofj",
        "outputId": "4f206618-9394-4470-d8fb-7ea1afe75859"
      },
      "outputs": [
        {
          "name": "stdout",
          "output_type": "stream",
          "text": [
            "Mi nombre es Cristian Parada, tengo 40 años de edad y soy un apasionado de la ciencia de datos!\n"
          ]
        }
      ],
      "source": [
        "#Unicamente colocamos el mensaje dentro de la funcion print.\n",
        "print(\"Mi nombre es Cristian Parada, tengo 40 años de edad y soy un apasionado de la ciencia de datos!\")"
      ]
    },
    {
      "cell_type": "code",
      "execution_count": null,
      "metadata": {
        "colab": {
          "base_uri": "https://localhost:8080/"
        },
        "id": "PJVrSBYf9QqE",
        "outputId": "af289cd5-2097-42b1-e565-a84cc2d9b491"
      },
      "outputs": [
        {
          "name": "stdout",
          "output_type": "stream",
          "text": [
            "Escuela de Datos de Alura\n"
          ]
        }
      ],
      "source": [
        "#Imprime la frase \"Escuela de Datos de Alura\"\n",
        "frase= \"Escuela de Datos de Alura\"\n",
        "print(frase)"
      ]
    },
    {
      "cell_type": "code",
      "execution_count": null,
      "metadata": {
        "colab": {
          "base_uri": "https://localhost:8080/"
        },
        "id": "HpV8tL0K9UJz",
        "outputId": "a7a75ab6-6fec-4a45-8ee8-5ce7a9f1d9f4"
      },
      "outputs": [
        {
          "name": "stdout",
          "output_type": "stream",
          "text": [
            "Cristian Parada\n"
          ]
        }
      ],
      "source": [
        "#Imprime tu nombre y tu apellido\n",
        "nombre = \"Cristian\"\n",
        "apellido = \"Parada\"\n",
        "print(nombre, apellido)"
      ]
    },
    {
      "cell_type": "code",
      "execution_count": null,
      "metadata": {
        "colab": {
          "base_uri": "https://localhost:8080/"
        },
        "id": "m-jhl-Ex9rVX",
        "outputId": "6676558b-6fba-4481-8fa3-5d4d50b5d99c"
      },
      "outputs": [
        {
          "name": "stdout",
          "output_type": "stream",
          "text": [
            "C\n",
            "r\n",
            "i\n",
            "s\n",
            "t\n",
            "i\n",
            "a\n",
            "n\n"
          ]
        }
      ],
      "source": [
        "#Imprimir letra por letra mi nombre\n",
        "nombre = \"Cristian\"\n",
        "\n",
        "for letra in nombre: #Creando un bucle for para poder sacar cada una de las letras de la cadena en la variable nombre.\n",
        "    print(letra)"
      ]
    },
    {
      "cell_type": "code",
      "execution_count": null,
      "metadata": {
        "colab": {
          "base_uri": "https://localhost:8080/"
        },
        "id": "TDEaeC_S-LNU",
        "outputId": "9e6f13de-a5db-4fd1-d58d-93d6fa8167aa"
      },
      "outputs": [
        {
          "name": "stdout",
          "output_type": "stream",
          "text": [
            "Mi fecha de cumpleaños es: 08 09 1984\n"
          ]
        }
      ],
      "source": [
        "#Imprime tu fecha de nacimiento en formato día mes año.\n",
        "dia = 8\n",
        "mes = 9\n",
        "año = 1984\n",
        "print(f\"Mi fecha de cumpleaños es: {dia:02d} {mes:02d} {año}\") #Utilizo la conversion para que salga la fecha con el formato deseado."
      ]
    },
    {
      "cell_type": "code",
      "execution_count": null,
      "metadata": {
        "colab": {
          "base_uri": "https://localhost:8080/"
        },
        "id": "ZpkF3xoaBF-Q",
        "outputId": "dfa2f180-d284-4319-9e69-c7efb8710727"
      },
      "outputs": [
        {
          "name": "stdout",
          "output_type": "stream",
          "text": [
            "El año actual del curso es: 2025\n"
          ]
        }
      ],
      "source": [
        "#Imprime, en una sola instrucción print, el año actual en el que estás realizando este curso.\n",
        "año_actual = 2025\n",
        "print(f\"El año actual del curso es:\", año_actual) # utilizamos\"f\" antes de las comillas para indicar que se trata de una cadena formateada"
      ]
    },
    {
      "cell_type": "markdown",
      "metadata": {
        "id": "d7kwQSSs8ita"
      },
      "source": [
        "# Manipulando los datos\n",
        "Vamos aprender sobre las variables en Python, como declararlas y utilizarlas ademas de conocer otros comandos de este lenguaje."
      ]
    },
    {
      "cell_type": "markdown",
      "metadata": {
        "id": "BuKrN8eGGORr"
      },
      "source": [
        "# Variables\n",
        "En Data Science trabajamos con varios tipos de datos, e informaciones entonces es escencial conocer como trabajar con variables.\n",
        "Las variables en python se crean cuando atribuimos un valor a ellas.\n",
        "Para ello colocamos el nombre de la variable y el signo = y el valor que queremos:\n",
        "**nombre_variable= valor de la variable.**"
      ]
    },
    {
      "cell_type": "code",
      "execution_count": null,
      "metadata": {
        "colab": {
          "base_uri": "https://localhost:8080/"
        },
        "id": "i1czQY138SJZ",
        "outputId": "b99cf215-39eb-4b5c-f394-793955439708"
      },
      "outputs": [
        {
          "data": {
            "text/plain": [
              "5"
            ]
          },
          "execution_count": 27,
          "metadata": {},
          "output_type": "execute_result"
        }
      ],
      "source": [
        "5"
      ]
    },
    {
      "cell_type": "code",
      "execution_count": null,
      "metadata": {
        "colab": {
          "base_uri": "https://localhost:8080/"
        },
        "id": "lo2dYEVlHU1e",
        "outputId": "fb0f1348-739b-48af-febc-fd6a51270bfa"
      },
      "outputs": [
        {
          "data": {
            "text/plain": [
              "10750984"
            ]
          },
          "execution_count": 28,
          "metadata": {},
          "output_type": "execute_result"
        }
      ],
      "source": [
        "id(5) #Identificacion de la direccion de memoria"
      ]
    },
    {
      "cell_type": "code",
      "execution_count": null,
      "metadata": {
        "id": "Kje2E3i-HblV"
      },
      "outputs": [],
      "source": [
        "edad = 5"
      ]
    },
    {
      "cell_type": "code",
      "execution_count": null,
      "metadata": {
        "colab": {
          "base_uri": "https://localhost:8080/"
        },
        "id": "4MzPAgZAHowD",
        "outputId": "0fcff0a8-b611-4523-e78d-d69a61959eb5"
      },
      "outputs": [
        {
          "name": "stdout",
          "output_type": "stream",
          "text": [
            "10750984\n",
            "10750984\n"
          ]
        }
      ],
      "source": [
        "#Imprimimos ambas variables para ver la direccion de memoria es la misma al imprimirse.\n",
        "print(id(edad))\n",
        "print(id(5))"
      ]
    },
    {
      "cell_type": "code",
      "execution_count": null,
      "metadata": {
        "colab": {
          "base_uri": "https://localhost:8080/"
        },
        "id": "u2w-TBIOH-uQ",
        "outputId": "421d1da6-b66d-4b37-8b8b-cf178e238ca5"
      },
      "outputs": [
        {
          "name": "stdout",
          "output_type": "stream",
          "text": [
            "10750984\n"
          ]
        }
      ],
      "source": [
        "numerocinco = 5\n",
        "print(id(numerocinco)) #validamos con id para ver que es el mismo espacio de memoria que utiliza."
      ]
    },
    {
      "cell_type": "code",
      "execution_count": null,
      "metadata": {
        "colab": {
          "base_uri": "https://localhost:8080/"
        },
        "id": "9UZs-mfmIVGT",
        "outputId": "fb40b0bb-da19-48d4-d80d-883618e6bb39"
      },
      "outputs": [
        {
          "name": "stdout",
          "output_type": "stream",
          "text": [
            "140493270418992\n"
          ]
        }
      ],
      "source": [
        "nombre = \"Cristian\"\n",
        "id(nombre)\n",
        "print(id(nombre))"
      ]
    },
    {
      "cell_type": "markdown",
      "metadata": {
        "id": "BWetAe1FJfEv"
      },
      "source": [
        "# Comentarios"
      ]
    },
    {
      "cell_type": "code",
      "execution_count": null,
      "metadata": {
        "colab": {
          "base_uri": "https://localhost:8080/"
        },
        "id": "Zs-sh27rJiRT",
        "outputId": "299286a6-063b-4779-bb3d-78dd31738121"
      },
      "outputs": [
        {
          "name": "stdout",
          "output_type": "stream",
          "text": [
            "10\n"
          ]
        }
      ],
      "source": [
        "# Este es un comentario de una línea\n",
        "print(10) # Podemos colocar otro comentario en una línea después de un código"
      ]
    },
    {
      "cell_type": "code",
      "execution_count": null,
      "metadata": {
        "colab": {
          "base_uri": "https://localhost:8080/",
          "height": 35
        },
        "id": "EuI514-bJjuO",
        "outputId": "7adf9186-d527-4f68-9ee9-718f7079821a"
      },
      "outputs": [
        {
          "data": {
            "application/vnd.google.colaboratory.intrinsic+json": {
              "type": "string"
            },
            "text/plain": [
              "'\\nEste es un comentario\\nde varias líneas.\\n'"
            ]
          },
          "execution_count": 37,
          "metadata": {},
          "output_type": "execute_result"
        }
      ],
      "source": [
        "'''\n",
        "Este es un comentario\n",
        "de varias líneas.\n",
        "'''"
      ]
    },
    {
      "cell_type": "markdown",
      "metadata": {
        "id": "_Xe_LQkBG6vx"
      },
      "source": [
        "# Tipos de variables\n",
        "Cada variable contiene una clase especifica con respecto al tipo de objeto al cual esta hace referencia de acuerdo al tipo de dato que le sea atribuido a la variable.\n",
        "Para conocer la clase de cada tipo de elemento utilizamos la funcion [type](https://docs.python.org/3/library/functions.html#type)().\n"
      ]
    },
    {
      "cell_type": "code",
      "execution_count": null,
      "metadata": {
        "id": "C9kY93rqRYVt"
      },
      "outputs": [],
      "source": [
        "edad = 5"
      ]
    },
    {
      "cell_type": "code",
      "execution_count": null,
      "metadata": {
        "colab": {
          "base_uri": "https://localhost:8080/"
        },
        "id": "IaU8l_WnRbQM",
        "outputId": "a5f8ef12-f26b-4b9c-c223-97b4baadf279"
      },
      "outputs": [
        {
          "data": {
            "text/plain": [
              "int"
            ]
          },
          "execution_count": 2,
          "metadata": {},
          "output_type": "execute_result"
        }
      ],
      "source": [
        "type(edad)"
      ]
    },
    {
      "cell_type": "code",
      "execution_count": null,
      "metadata": {
        "colab": {
          "base_uri": "https://localhost:8080/"
        },
        "id": "JMccfJGcRfpt",
        "outputId": "e13fdadf-db58-48c7-d3ae-f3f3b3342fcd"
      },
      "outputs": [
        {
          "data": {
            "text/plain": [
              "float"
            ]
          },
          "execution_count": 3,
          "metadata": {},
          "output_type": "execute_result"
        }
      ],
      "source": [
        "promedio = 9.5\n",
        "type(promedio)"
      ]
    },
    {
      "cell_type": "code",
      "execution_count": null,
      "metadata": {
        "colab": {
          "base_uri": "https://localhost:8080/"
        },
        "id": "lpF5lIkYeNdf",
        "outputId": "a1a5c5a4-66b0-4d1d-e98f-d413ecdb53e3"
      },
      "outputs": [
        {
          "data": {
            "text/plain": [
              "str"
            ]
          },
          "execution_count": 4,
          "metadata": {},
          "output_type": "execute_result"
        }
      ],
      "source": [
        "nombreCompleto = \"Cristian Parada\"\n",
        "type(nombreCompleto)"
      ]
    },
    {
      "cell_type": "code",
      "execution_count": null,
      "metadata": {
        "colab": {
          "base_uri": "https://localhost:8080/"
        },
        "id": "vlOtML5yge3G",
        "outputId": "5ceff29c-d75d-48b0-8654-c900e6b7e67a"
      },
      "outputs": [
        {
          "data": {
            "text/plain": [
              "bool"
            ]
          },
          "execution_count": 5,
          "metadata": {},
          "output_type": "execute_result"
        }
      ],
      "source": [
        "valor = True\n",
        "type(valor)"
      ]
    },
    {
      "cell_type": "markdown",
      "metadata": {
        "id": "MOJuSfSFJooT"
      },
      "source": [
        "#Ejemplo practico\n",
        "'''\n",
        "En un conjunto de datos escolares podemos tener varios tipos de informaciones. Supongamos que tenemos acceso a la ficha de datos de un alumno, ¿como transformamos este nombre en variables de Python?\n",
        "\n",
        "FICHA:\n",
        "\n",
        "\n",
        "*   Nombre del Alumno: Jose David Parada Mendoza\n",
        "*   Edad: 13 años\n",
        "*   Promedio del semestre: 9,25\n",
        "*   Situacion de Aprobacion: Verdadera(Aprobado)\n",
        "\n",
        "\n",
        "\n"
      ]
    },
    {
      "cell_type": "code",
      "execution_count": null,
      "metadata": {
        "colab": {
          "base_uri": "https://localhost:8080/"
        },
        "id": "8wurDP0YKXza",
        "outputId": "25e74dd4-2d80-4ecf-b517-8d3c336b97ab"
      },
      "outputs": [
        {
          "name": "stdout",
          "output_type": "stream",
          "text": [
            "Jose David Parada Mendoza 13 9.25 True\n",
            "<class 'str'>\n",
            "<class 'int'>\n",
            "<class 'float'>\n",
            "<class 'bool'>\n",
            "<class 'str'> <class 'int'> <class 'float'> <class 'bool'>\n"
          ]
        }
      ],
      "source": [
        "#Trasnformando a variables de Python\n",
        "nombreAlumno = \"Jose David Parada Mendoza\"\n",
        "edadAlumno = 13\n",
        "promedioSemestre = 9.25\n",
        "aprobado =  True\n",
        "\n",
        "print(nombreAlumno,edadAlumno,promedioSemestre,aprobado)\n",
        "\n",
        "#Viendo el tipo de variable forma 1\n",
        "print(type(nombreAlumno))\n",
        "print(type(edadAlumno))\n",
        "print(type(promedioSemestre))\n",
        "print(type(aprobado))\n",
        "\n",
        "#Viendo el tipo de variable forma 2\n",
        "print(type(nombreAlumno),type(edadAlumno),type(promedioSemestre),type(aprobado))"
      ]
    },
    {
      "cell_type": "markdown",
      "metadata": {
        "id": "okBYDjI2NamO"
      },
      "source": [
        "# Variables Numericas\n",
        "Entre los tipos de datos numericos vamos a enfocarnos en los tipos entero y float\n",
        "Tenemos una tabla de informacion sobre los diversos cargos, cantidad de personas empleadas y el salario correspondiente:\n",
        "\n",
        "\n",
        "![image.png](data:image/png;base64,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)\n",
        "\n",
        "Se necesita encontrar los siguientes datos:\n",
        "\n",
        "\n",
        "*   Cantidad total de empleados\n",
        "*   La diferencia entre el salario mas bajo y mas alto.\n",
        "*   El promedio ponderado de los salarios de los empleados del centro educativo.\n",
        "\n"
      ]
    },
    {
      "cell_type": "code",
      "execution_count": null,
      "metadata": {
        "id": "TSHoJgCfVYeG"
      },
      "outputs": [],
      "source": [
        "#Obteniendo variables para calculos\n",
        "c_vigilantes = 5\n",
        "salarioVigilante = 300\n",
        "c_docentes = 16\n",
        "salarioDocente = 500\n",
        "c_coordinadores = 2\n",
        "salarioCoordinador = 600"
      ]
    },
    {
      "cell_type": "code",
      "execution_count": null,
      "metadata": {
        "colab": {
          "base_uri": "https://localhost:8080/"
        },
        "id": "bCBTTrjXcdfo",
        "outputId": "8fa63831-9a9d-4a71-9872-3872089a2897"
      },
      "outputs": [
        {
          "name": "stdout",
          "output_type": "stream",
          "text": [
            "La cantidad total de empleados es: 23 empleados.\n"
          ]
        }
      ],
      "source": [
        "#Calculando cantidad de empleados\n",
        "cantidadEmpleados = c_vigilantes + c_docentes + c_coordinadores\n",
        "print(f\"La cantidad total de empleados es: {cantidadEmpleados} empleados.\")"
      ]
    },
    {
      "cell_type": "code",
      "execution_count": null,
      "metadata": {
        "colab": {
          "base_uri": "https://localhost:8080/"
        },
        "id": "mfVw26qBcs0b",
        "outputId": "d13de236-e213-4b20-b67e-34a02e65b5f6"
      },
      "outputs": [
        {
          "name": "stdout",
          "output_type": "stream",
          "text": [
            "La diferencia de salarios entre el Coordinador y vigilante es de: 300 dolares.\n"
          ]
        }
      ],
      "source": [
        "#Calculando la diferencia de salarios.\n",
        "diferencia_salarios = salarioCoordinador - salarioVigilante\n",
        "print(f\"La diferencia de salarios entre el Coordinador y vigilante es de: {diferencia_salarios} dolares.\")\n"
      ]
    },
    {
      "cell_type": "code",
      "execution_count": null,
      "metadata": {
        "colab": {
          "base_uri": "https://localhost:8080/"
        },
        "id": "AQP1349XgvBU",
        "outputId": "edae094f-8c09-4ba8-d216-85662ac34cbe"
      },
      "outputs": [
        {
          "name": "stdout",
          "output_type": "stream",
          "text": [
            "El salario promedio ponderado de los empleados es de: 465.22 dolares.\n"
          ]
        },
        {
          "data": {
            "text/plain": [
              "float"
            ]
          },
          "execution_count": 20,
          "metadata": {},
          "output_type": "execute_result"
        }
      ],
      "source": [
        "#Calculando el salario promedio ponderado\n",
        "salarioPromedio = (c_vigilantes*salarioVigilante + c_docentes*salarioDocente + c_coordinadores*salarioCoordinador)/cantidadEmpleados\n",
        "print(f\"El salario promedio ponderado de los empleados es de: {round(salarioPromedio,2)} dolares.\") #Utilizamos la funcion round para redondear el resultado y colocamos 2 porque solo queremos 2 digitos la cifra decimal\n",
        "type(salarioPromedio)"
      ]
    },
    {
      "cell_type": "markdown",
      "metadata": {
        "id": "ma-ywYmSj737"
      },
      "source": [
        "#Cadenas de texto o strings\n",
        "Hacen referencia a un conjunto de caracteres de un texto.\n",
        "Podremos crear cadenas de texto cuando atribuimos un dato a una variable entre comillas simples (' ') o comillas dobles(\" \")\n"
      ]
    },
    {
      "cell_type": "code",
      "execution_count": null,
      "metadata": {
        "colab": {
          "base_uri": "https://localhost:8080/"
        },
        "id": "772jG8ZAlFr5",
        "outputId": "54ad19d7-964e-4f6c-fb16-bc081fa5cae2"
      },
      "outputs": [
        {
          "data": {
            "text/plain": [
              "str"
            ]
          },
          "execution_count": 21,
          "metadata": {},
          "output_type": "execute_result"
        }
      ],
      "source": [
        "texto = \"Alura\"\n",
        "type(texto)"
      ]
    },
    {
      "cell_type": "markdown",
      "metadata": {
        "id": "yIl44wB0lgoC"
      },
      "source": [
        "Las variables de texto o cadena son objetos que poseen metodos que nos ayudan a formatear dichas cadenas. Los metodos permiten difinir un objeto de acuerdo con la siguiente estructura:\n",
        "\n",
        "objeto.metodo()"
      ]
    },
    {
      "cell_type": "markdown",
      "metadata": {
        "id": "j9Hr7S5AmGVi"
      },
      "source": [
        "Existen metodos que no necesitan de (), siempre es una buena practica verificar la documentacion para cada caso."
      ]
    },
    {
      "cell_type": "markdown",
      "metadata": {
        "id": "V-vlQ2hfmUS0"
      },
      "source": [
        "#Situacion\n",
        "Recibimos una variable con el nombre de un docente para añadir a los registros del centro educativo, sin embargo antes debemos darle un tratamiento al texto antes de insertar al sistema."
      ]
    },
    {
      "cell_type": "code",
      "execution_count": null,
      "metadata": {
        "colab": {
          "base_uri": "https://localhost:8080/"
        },
        "id": "O0Dq2ZoNoiN1",
        "outputId": "631ac5c4-104d-4d19-c35c-ab7bc179c3ee"
      },
      "outputs": [
        {
          "data": {
            "text/plain": [
              "133934518334560"
            ]
          },
          "execution_count": 27,
          "metadata": {},
          "output_type": "execute_result"
        }
      ],
      "source": [
        "texto = 'Micaela de Sanyos'\n",
        "\n",
        "#Ver en que espacio de memoria quedo almacenado\n",
        "id(texto)"
      ]
    },
    {
      "cell_type": "markdown",
      "metadata": {
        "id": "dszSGEz7orTR"
      },
      "source": [
        "El objetivo final es que quede como:\n",
        "'MICAELA DE SANTOS'"
      ]
    },
    {
      "cell_type": "code",
      "execution_count": null,
      "metadata": {
        "colab": {
          "base_uri": "https://localhost:8080/",
          "height": 35
        },
        "id": "CvGX6VQjl2DE",
        "outputId": "9541adca-cc80-48ec-fdb0-0e365266ea80"
      },
      "outputs": [
        {
          "data": {
            "application/vnd.google.colaboratory.intrinsic+json": {
              "type": "string"
            },
            "text/plain": [
              "'MICAELA DE SANYOS'"
            ]
          },
          "execution_count": 28,
          "metadata": {},
          "output_type": "execute_result"
        }
      ],
      "source": [
        "#Utilizamos la funcion str.upper(), la cual convierte minusculas en mayusculas\n",
        "texto.upper()\n"
      ]
    },
    {
      "cell_type": "code",
      "execution_count": null,
      "metadata": {
        "colab": {
          "base_uri": "https://localhost:8080/",
          "height": 35
        },
        "id": "uUAleLoXpsWI",
        "outputId": "132c13cf-1150-448c-8e33-f51ec85f65b9"
      },
      "outputs": [
        {
          "data": {
            "application/vnd.google.colaboratory.intrinsic+json": {
              "type": "string"
            },
            "text/plain": [
              "'micaela de sanyos'"
            ]
          },
          "execution_count": 29,
          "metadata": {},
          "output_type": "execute_result"
        }
      ],
      "source": [
        "#Utilizamos la funcion str.lower(), la cual convierte el texto en minusculas.\n",
        "texto.lower()"
      ]
    },
    {
      "cell_type": "code",
      "execution_count": null,
      "metadata": {
        "colab": {
          "base_uri": "https://localhost:8080/",
          "height": 35
        },
        "id": "iOTB7LNeqyeh",
        "outputId": "40833579-48bf-4da6-d363-1d9c5dc25a94"
      },
      "outputs": [
        {
          "data": {
            "application/vnd.google.colaboratory.intrinsic+json": {
              "type": "string"
            },
            "text/plain": [
              "'Micaela de Sanyos'"
            ]
          },
          "execution_count": 30,
          "metadata": {},
          "output_type": "execute_result"
        }
      ],
      "source": [
        "#Utilizamos la funcion str.strip(), para eliminar espacios en blanco al inicio y final de un string\n",
        "texto.strip()"
      ]
    },
    {
      "cell_type": "code",
      "execution_count": null,
      "metadata": {
        "colab": {
          "base_uri": "https://localhost:8080/",
          "height": 35
        },
        "id": "cX6KJl29rq5j",
        "outputId": "b120ba23-64ed-40b0-cc27-93e7b0cccb5b"
      },
      "outputs": [
        {
          "data": {
            "application/vnd.google.colaboratory.intrinsic+json": {
              "type": "string"
            },
            "text/plain": [
              "'Micaela de Santos'"
            ]
          },
          "execution_count": 32,
          "metadata": {},
          "output_type": "execute_result"
        }
      ],
      "source": [
        "#Utilizamos la funcion str.replace(antiguo,nuevo) sustituye las ocurrencias del texto \"antiguo\", en string por el \"nuevo\"\n",
        "texto.replace('y','t')"
      ]
    },
    {
      "cell_type": "markdown",
      "metadata": {
        "id": "66WZMFMvykRa"
      },
      "source": [
        "# Observaciones\n",
        "\n",
        "\n",
        "1.   Los metodos devuelven **transformaciones**, no son ejecutados directamente sobre la variable donde esta almacenado el texto.\n",
        "2.   Adicionalmente, podemos acumular la ejecucion de los metodos.\n",
        "\n"
      ]
    },
    {
      "cell_type": "markdown",
      "metadata": {
        "id": "huo2DomtO-KB"
      },
      "source": [
        "#Captura de Datos\n",
        "Lo hacemos a partir de la funcion  [input](https://docs.python.org/3/library/functions.html#input)()\n",
        "Para capturar debemos atribuir el resultado de esta funcion a una variable:"
      ]
    },
    {
      "cell_type": "code",
      "execution_count": null,
      "metadata": {
        "colab": {
          "base_uri": "https://localhost:8080/"
        },
        "id": "YDbhyw4APuTo",
        "outputId": "f1fbbd4a-7848-42e6-df2a-bdfc4d436d4d"
      },
      "outputs": [
        {
          "name": "stdout",
          "output_type": "stream",
          "text": [
            "Ingrese el nombre del alumno: Alejandra Gonzalez\n"
          ]
        },
        {
          "data": {
            "text/plain": [
              "str"
            ]
          },
          "execution_count": 2,
          "metadata": {},
          "output_type": "execute_result"
        }
      ],
      "source": [
        "nombre = input(\"Ingrese el nombre del alumno: \")\n",
        "type(nombre)"
      ]
    },
    {
      "cell_type": "markdown",
      "metadata": {
        "id": "ZooKNb-qQWDL"
      },
      "source": [
        "La salida de este comando siempre sera una string. Esto quiere decir que aunque capturemos un valor de variable numerica, este sera de tipo cadena o string.\n",
        "Entonces sera necesario convertir el resultado cuando no se desea utilizar el resultado de tipo string\n",
        "Existen funciones para la conversion de valores\n",
        "\n",
        "\n",
        "*   Enteros int(dato para conversion)\n",
        "*   Coma flotante float(dato para conversion)\n",
        "*   String str(dato para conversion)\n",
        "*   Booleano bool(dato para conversion)\n",
        "\n",
        "\n",
        "\n"
      ]
    },
    {
      "cell_type": "code",
      "execution_count": null,
      "metadata": {
        "colab": {
          "base_uri": "https://localhost:8080/"
        },
        "id": "U3ywkwvMRIWU",
        "outputId": "378cec4c-d712-4bb7-ebd8-89f1f24df62a"
      },
      "outputs": [
        {
          "name": "stdout",
          "output_type": "stream",
          "text": [
            "Ingrese el año de admision del alumno: 2024\n"
          ]
        },
        {
          "data": {
            "text/plain": [
              "str"
            ]
          },
          "execution_count": 3,
          "metadata": {},
          "output_type": "execute_result"
        }
      ],
      "source": [
        "ano_admision = input(\"Ingrese el año de admision del alumno: \")\n",
        "type(ano_admision)"
      ]
    },
    {
      "cell_type": "code",
      "execution_count": null,
      "metadata": {
        "colab": {
          "base_uri": "https://localhost:8080/"
        },
        "id": "I5N136-cRnKr",
        "outputId": "1d6ae7ba-6a59-4061-f3d1-96fd68bfecfc"
      },
      "outputs": [
        {
          "name": "stdout",
          "output_type": "stream",
          "text": [
            "Ingrese el año de salida del alumno: 2026\n"
          ]
        },
        {
          "data": {
            "text/plain": [
              "str"
            ]
          },
          "execution_count": 4,
          "metadata": {},
          "output_type": "execute_result"
        }
      ],
      "source": [
        "ano_salida = input(\"Ingrese el año de salida del alumno: \")\n",
        "type(ano_salida)"
      ]
    },
    {
      "cell_type": "code",
      "execution_count": null,
      "metadata": {
        "colab": {
          "base_uri": "https://localhost:8080/"
        },
        "id": "rAIKRrkkRsFE",
        "outputId": "f9d62380-2975-416c-b9a2-bff003c7f894"
      },
      "outputs": [
        {
          "name": "stdout",
          "output_type": "stream",
          "text": [
            "Ingrese el año de admision del alumno: 2023\n"
          ]
        },
        {
          "data": {
            "text/plain": [
              "int"
            ]
          },
          "execution_count": 5,
          "metadata": {},
          "output_type": "execute_result"
        }
      ],
      "source": [
        "#modificamos la entrada de datos o input con int para capturar el dato y sea de tipo numerico.\n",
        "ano_admision = int(input(\"Ingrese el año de admision del alumno: \"))\n",
        "type(ano_admision)"
      ]
    },
    {
      "cell_type": "code",
      "execution_count": null,
      "metadata": {
        "colab": {
          "base_uri": "https://localhost:8080/"
        },
        "id": "E-5cf1r8SSaw",
        "outputId": "7a4fc111-4eb0-449f-b29c-74cf13dfa745"
      },
      "outputs": [
        {
          "name": "stdout",
          "output_type": "stream",
          "text": [
            "Ingrese la nota de admision del alumno: 8.7\n"
          ]
        },
        {
          "data": {
            "text/plain": [
              "float"
            ]
          },
          "execution_count": 8,
          "metadata": {},
          "output_type": "execute_result"
        }
      ],
      "source": [
        "#Nota de admision\n",
        "nota_admision = float(input(\"Ingrese la nota de admision del alumno: \"))\n",
        "type(nota_admision)"
      ]
    },
    {
      "cell_type": "code",
      "execution_count": null,
      "metadata": {
        "colab": {
          "base_uri": "https://localhost:8080/"
        },
        "id": "ks4JMiyASE0A",
        "outputId": "ba08bbfd-b4a3-4fe5-c1ed-09f900a3c889"
      },
      "outputs": [
        {
          "name": "stdout",
          "output_type": "stream",
          "text": [
            "Ingrese el año de salida del alumno: 2026\n"
          ]
        },
        {
          "data": {
            "text/plain": [
              "int"
            ]
          },
          "execution_count": 6,
          "metadata": {},
          "output_type": "execute_result"
        }
      ],
      "source": [
        "#lo mismo hacemos con el año de salida\n",
        "ano_salida = int(input(\"Ingrese el año de salida del alumno: \"))\n",
        "type(ano_salida)"
      ]
    },
    {
      "cell_type": "markdown",
      "metadata": {
        "id": "LttxCfMiSsLE"
      },
      "source": [
        "Para mejorar la presentacion del resultado utilizamos la funcion format.\n",
        "la mas sencilla de utilizar es la f solamente.\n"
      ]
    },
    {
      "cell_type": "code",
      "execution_count": null,
      "metadata": {
        "colab": {
          "base_uri": "https://localhost:8080/"
        },
        "id": "cb6-Cdh8S1Qy",
        "outputId": "dc1bd791-e280-45e5-a2c3-b21ff201fba6"
      },
      "outputs": [
        {
          "name": "stdout",
          "output_type": "stream",
          "text": [
            "El año de admision fue: 2023 \n",
            "La nota de admision fue: 8.7\n",
            "\n"
          ]
        }
      ],
      "source": [
        "print(f'El año de admision fue: {ano_admision} \\nLa nota de admision fue: {nota_admision}\\n')"
      ]
    },
    {
      "cell_type": "code",
      "execution_count": null,
      "metadata": {
        "colab": {
          "base_uri": "https://localhost:8080/"
        },
        "id": "7WyM9Ra4SNOB",
        "outputId": "aad6d4be-4c78-4e74-c1f3-84b25824c5e2"
      },
      "outputs": [
        {
          "name": "stdout",
          "output_type": "stream",
          "text": [
            "El nombre de la alumna es: Ana María\n",
            "Su edad es: 17 años.\n"
          ]
        }
      ],
      "source": [
        "#Ejercicios:\n",
        "nombre = \"Ana María\"\n",
        "edad = 17\n",
        "print(f\"El nombre de la alumna es: {nombre}\\nSu edad es: {edad} años.\")"
      ]
    },
    {
      "cell_type": "code",
      "execution_count": null,
      "metadata": {
        "colab": {
          "base_uri": "https://localhost:8080/"
        },
        "id": "8ybWliwbUWco",
        "outputId": "45cb644a-bc13-46c0-adc3-942da2595d2a"
      },
      "outputs": [
        {
          "name": "stdout",
          "output_type": "stream",
          "text": [
            "Nombre del alumno: Penélope Camacho\n"
          ]
        }
      ],
      "source": [
        "nombre_alumno = 'Penélope Camacho'\n",
        "print('Nombre del alumno: %s' %(nombre_alumno))"
      ]
    },
    {
      "cell_type": "code",
      "execution_count": null,
      "metadata": {
        "colab": {
          "base_uri": "https://localhost:8080/"
        },
        "id": "Pmpy1ro5UcZe",
        "outputId": "4794fcf0-c11d-4197-deb0-abf734114543"
      },
      "outputs": [
        {
          "name": "stdout",
          "output_type": "stream",
          "text": [
            "Nombre del alumno es Penélope Camacho, tiene 11 años y su media es 9.950000.\n"
          ]
        }
      ],
      "source": [
        "nombre_alumno = 'Penélope Camacho'\n",
        "edad_alumno = 11\n",
        "media_alumno = 9.95\n",
        "print('Nombre del alumno es %s, tiene %d años y su media es %f.' %(nombre_alumno, edad_alumno, media_alumno))"
      ]
    },
    {
      "cell_type": "code",
      "execution_count": null,
      "metadata": {
        "colab": {
          "base_uri": "https://localhost:8080/"
        },
        "id": "FEV-NFt0Y8qY",
        "outputId": "123383f6-be32-45e3-9489-f6e3e9120eea"
      },
      "outputs": [
        {
          "name": "stdout",
          "output_type": "stream",
          "text": [
            "Nombre del alumno es Penélope Camacho \n",
            "Tiene 11 años\n",
            "Su media es 9.95.\n"
          ]
        }
      ],
      "source": [
        "print('Nombre del alumno es %s \\nTiene %d años\\nSu media es %.2f.' %(nombre_alumno, edad_alumno, media_alumno))"
      ]
    },
    {
      "cell_type": "code",
      "execution_count": null,
      "metadata": {
        "colab": {
          "base_uri": "https://localhost:8080/"
        },
        "id": "LR_o4hirZKue",
        "outputId": "26795470-be50-4477-dce8-05278837e64e"
      },
      "outputs": [
        {
          "name": "stdout",
          "output_type": "stream",
          "text": [
            "Valor de x: True\n"
          ]
        }
      ],
      "source": [
        "x = True\n",
        "print(\"Valor de x: %s\" % str(x))"
      ]
    },
    {
      "cell_type": "markdown",
      "metadata": {
        "id": "EJ3uJpLwZmgr"
      },
      "source": [
        "También es posible utilizar el método .format() para formatear cadenas. Es más flexible y permite pasar las variables directamente dentro de la cadena, sin necesidad de operadores %. Los marcadores son simplemente {}. Por ejemplo:"
      ]
    },
    {
      "cell_type": "code",
      "execution_count": null,
      "metadata": {
        "colab": {
          "base_uri": "https://localhost:8080/"
        },
        "id": "PBx1bMxkZvGC",
        "outputId": "c50c6e36-b8f3-4f1d-cd9f-b281a0f780e5"
      },
      "outputs": [
        {
          "name": "stdout",
          "output_type": "stream",
          "text": [
            "Nombre del alumno: Penélope Camacho\n"
          ]
        }
      ],
      "source": [
        "nombre_alumno = 'Penélope Camacho'\n",
        "print('Nombre del alumno: {}'.format(nombre_alumno))"
      ]
    },
    {
      "cell_type": "code",
      "execution_count": null,
      "metadata": {
        "colab": {
          "base_uri": "https://localhost:8080/"
        },
        "id": "iKZCalnXZy6X",
        "outputId": "0b69bdff-dcaf-4672-b8fe-bdc3d8e6f7cb"
      },
      "outputs": [
        {
          "name": "stdout",
          "output_type": "stream",
          "text": [
            "Nombre del alumno es Fabricio Daniel \n",
            "Tiene 15 años \n",
            "Su media es 9.95.\n"
          ]
        }
      ],
      "source": [
        "nombre_alumno = 'Fabricio Daniel'\n",
        "edad_alumno = 15\n",
        "media_alumno = 9.95\n",
        "print('Nombre del alumno es {} \\nTiene {} años \\nSu media es {}.' .format(nombre_alumno, edad_alumno, media_alumno))"
      ]
    },
    {
      "cell_type": "code",
      "execution_count": null,
      "metadata": {
        "colab": {
          "base_uri": "https://localhost:8080/"
        },
        "id": "pOiQpZzSaIc3",
        "outputId": "f2bfb0f2-d779-48a7-dfa1-571758c4ff62"
      },
      "outputs": [
        {
          "name": "stdout",
          "output_type": "stream",
          "text": [
            "Estudiar es un esfuerzo constante,\n",
            "Es como cultivar una planta,\n",
            "Necesitamos dedicación y paciencia,\n",
            "Para ver madurar el fruto.\n"
          ]
        }
      ],
      "source": [
        "# /n es el carácter de tabulación y se utiliza para agregar un espacio de tabulación en el texto. Ejemplo:\n",
        "print(\"Estudiar es un esfuerzo constante,\\nEs como cultivar una planta,\\nNecesitamos dedicación y paciencia,\\nPara ver madurar el fruto.\")"
      ]
    },
    {
      "cell_type": "code",
      "execution_count": null,
      "metadata": {
        "colab": {
          "base_uri": "https://localhost:8080/"
        },
        "id": "_axh8od3aOzA",
        "outputId": "7341f976-f9f1-448a-bf37-d32b3c97019d"
      },
      "outputs": [
        {
          "name": "stdout",
          "output_type": "stream",
          "text": [
            "Cantidad\tCalidad\n",
            "5 muestras\tAlta\n",
            "3 muestras\tBaja\n"
          ]
        }
      ],
      "source": [
        "#\\t es el carácter de tabulación y se utiliza para agregar un espacio de tabulación en el texto. Ejemplo:\n",
        "print('Cantidad\\tCalidad\\n5 muestras\\tAlta\\n3 muestras\\tBaja')"
      ]
    },
    {
      "cell_type": "markdown",
      "metadata": {
        "id": "4IrlN__EcR2B"
      },
      "source": [
        "\\\\ se usa para imprimir una sola barra invertida. Si no se utiliza una doble barra invertida, el código podría generar un error o un resultado inesperado, ya que Python considera \\ como un carácter especial. Usamos esta sintaxis para garantizar que no ocurran errores. Ejemplo:"
      ]
    },
    {
      "cell_type": "code",
      "execution_count": null,
      "metadata": {
        "colab": {
          "base_uri": "https://localhost:8080/"
        },
        "id": "iIml7w05cMOj",
        "outputId": "ff490261-9144-4c72-fedb-d4fe7e220856"
      },
      "outputs": [
        {
          "name": "stdout",
          "output_type": "stream",
          "text": [
            "Ruta del archivo: C:\\archivos\\documento.csv\n"
          ]
        }
      ],
      "source": [
        "print(\"Ruta del archivo: C:\\\\archivos\\\\documento.csv\")"
      ]
    },
    {
      "cell_type": "markdown",
      "metadata": {
        "id": "wZVuOexxcZ9w"
      },
      "source": [
        "\\\" se utiliza para imprimir comillas dobles cuando estamos trabajando con una cadena creada con comillas dobles \" en el interior. Sin embargo, esto no es necesario si la cadena se crea con comillas simples '. Ejemplo:"
      ]
    },
    {
      "cell_type": "code",
      "execution_count": null,
      "metadata": {
        "colab": {
          "base_uri": "https://localhost:8080/"
        },
        "id": "9JNrUdgecXuB",
        "outputId": "1de2466f-1a60-4b80-afce-a73d8ea7f944"
      },
      "outputs": [
        {
          "name": "stdout",
          "output_type": "stream",
          "text": [
            "Una vez oí: \"Los frutos del conocimiento son los más dulces y duraderos de todos.\"\n"
          ]
        }
      ],
      "source": [
        "print(\"Una vez oí: \\\"Los frutos del conocimiento son los más dulces y duraderos de todos.\\\"\")"
      ]
    },
    {
      "cell_type": "markdown",
      "metadata": {
        "id": "EgoJSOOZcc5n"
      },
      "source": [
        "\\' se utiliza para imprimir comillas simples cuando estamos trabajando con una cadena creada con comillas simples '. Si la cadena se crea con comillas dobles \", esto no es necesario. Ejemplo:"
      ]
    },
    {
      "cell_type": "code",
      "execution_count": null,
      "metadata": {
        "colab": {
          "base_uri": "https://localhost:8080/"
        },
        "id": "6Od2lah8cgMp",
        "outputId": "4dc7b96d-417b-46e3-d52c-60129fb8653c"
      },
      "outputs": [
        {
          "name": "stdout",
          "output_type": "stream",
          "text": [
            "Mi profesora una vez dijo: 'Estudiar es la clave del éxito.'\n"
          ]
        }
      ],
      "source": [
        "print('Mi profesora una vez dijo: \\'Estudiar es la clave del éxito.\\'')"
      ]
    },
    {
      "cell_type": "markdown",
      "metadata": {
        "id": "H4-McY81crCT"
      },
      "source": [
        "Vamos a practicar el uso de varios tipos de variables y la función input a través de algunas actividades. Resuelve los problemas propuestos en código.\n",
        "\n",
        "Recopilación y muestra de datos\n",
        "\n",
        "1 - Crea un programa que solicite al usuario que escriba su nombre y luego imprima \"Hola, [nombre].\"\n",
        "\n",
        "2 - Crea un programa que solicite al usuario que escriba su nombre y edad, y luego imprima \"Hola, [nombre], tienes [edad] años.\"\n",
        "\n",
        "3 - Crea un programa que solicite al usuario que escriba su nombre, edad y altura en metros, y luego imprima \"Hola, [nombre], tienes [edad] años y mides [altura] metros.\"\n",
        "\n",
        "Calculadora con operadores\n",
        "\n",
        "4 - Crea un programa que solicite dos valores numéricos al usuario y luego imprima la suma de ambos valores.\n",
        "\n",
        "5 - Crea un programa que solicite tres valores numéricos al usuario y luego imprima la suma de los tres valores.\n",
        "\n",
        "6 - Crea un programa que solicite dos valores numéricos al usuario y luego imprima la resta del primero menos el segundo valor.\n",
        "\n",
        "7 - Crea un programa que solicite dos valores numéricos al usuario y luego imprima la multiplicación de los dos valores.\n",
        "\n",
        "8 - Crea un programa que solicite dos valores numéricos, un numerador y un denominador, y realice la división entre los dos valores. Asegúrate de que el valor del denominador no sea igual a 0.\n",
        "\n",
        "9 - Crea un programa que solicite dos valores numéricos, un operador y una potencia, y realice la exponenciación entre estos dos valores.\n",
        "\n",
        "10 - Crea un programa que solicite dos valores numéricos, un numerador y un denominador, y realice la división entera entre los dos valores. Asegúrate de que el valor del denominador no sea igual a 0.\n",
        "\n",
        "11 - Crea un programa que solicite dos valores numéricos, un numerador y un denominador, y devuelva el resto de la división entre los dos valores. Asegúrate de que el valor del denominador no sea igual a 0.\n",
        "\n",
        "12 - Crea un código que solicite las 3 notas de un estudiante e imprima el promedio de las notas.\n",
        "\n",
        "13 - Crea un código que calcule e imprima el promedio ponderado de los números 5, 12, 20 y 15 con pesos respectivamente iguales a 1, 2, 3 y 4.\n",
        "\n",
        "Editando textos\n",
        "\n",
        "14 - Crea una variable llamada \"frase\" y asígnale una cadena de texto de tu elección. Luego, imprime la frase en pantalla.\n",
        "\n",
        "15 - Crea un código que solicite una frase y luego imprima la frase en pantalla.\n",
        "\n",
        "16 - Crea un código que solicite una frase al usuario y luego imprima la misma frase ingresada pero en mayúsculas.\n",
        "\n",
        "17 - Crea un código que solicite una frase al usuario y luego imprima la misma frase ingresada pero en minúsculas.\n",
        "\n",
        "18 - Crea una variable llamada \"frase\" y asígnale una cadena de texto de tu elección. Luego, imprime la frase sin espacios en blanco al principio y al final.\n",
        "\n",
        "19 - Crea un código que solicite una frase al usuario y luego imprima la misma frase sin espacios en blanco al principio y al final.\n",
        "\n",
        "20 - Crea un código que solicite una frase al usuario y luego imprima la misma frase sin espacios en blanco al principio y al final, además de convertirla a minúsculas.\n",
        "\n",
        "21 - Crea un código que solicite una frase al usuario y luego imprima la misma frase con todas las vocales \"e\" reemplazadas por la letra \"f\".\n",
        "\n",
        "22 - Crea un código que solicite una frase al usuario y luego imprima la misma frase con todas las vocales \"a\" reemplazadas por el carácter \"@\".\n",
        "\n",
        "23 - Crea un código que solicite una frase al usuario y luego imprima la misma frase con todas las consonantes \"s\" reemplazadas por el carácter \"$\"."
      ]
    },
    {
      "cell_type": "code",
      "execution_count": null,
      "metadata": {
        "colab": {
          "base_uri": "https://localhost:8080/"
        },
        "id": "pGa5LCaDcv0z",
        "outputId": "ae720945-13a6-4676-ebbf-dc7333e23244"
      },
      "outputs": [
        {
          "name": "stdout",
          "output_type": "stream",
          "text": [
            "Ingrese su nombre: Cristian Parada\n",
            "Hola, Cristian Parada.\n"
          ]
        }
      ],
      "source": [
        "#1 - Crea un programa que solicite al usuario que escriba su nombre y luego imprima \"Hola, [nombre].\"\n",
        "nombre = input(\"Ingrese su nombre: \")\n",
        "print(f\"Hola, {nombre}.\")"
      ]
    },
    {
      "cell_type": "code",
      "execution_count": null,
      "metadata": {
        "colab": {
          "base_uri": "https://localhost:8080/"
        },
        "id": "QlzelSf2c6Z0",
        "outputId": "bcbf9cae-d99f-4692-f3c1-e2567251bf58"
      },
      "outputs": [
        {
          "name": "stdout",
          "output_type": "stream",
          "text": [
            "Ingrese su nombre: Cristian Parada\n",
            "Ingrese su edad: 41\n",
            "Hola, Cristian Parada\n",
            "Tienes: 41 años.\n"
          ]
        }
      ],
      "source": [
        "#2 - Crea un programa que solicite al usuario que escriba su nombre y edad, y luego imprima \"Hola, [nombre], tienes [edad] años.\"\n",
        "nombre = input(\"Ingrese su nombre: \")\n",
        "edad = input(\"Ingrese su edad: \")\n",
        "print(f\"Hola, {nombre}\\nTienes: {edad} años.\")"
      ]
    },
    {
      "cell_type": "code",
      "execution_count": null,
      "metadata": {
        "colab": {
          "base_uri": "https://localhost:8080/"
        },
        "id": "EFZcfRXUdN8d",
        "outputId": "24c9e83b-c7f7-4a9b-80f7-acd24ac67536"
      },
      "outputs": [
        {
          "name": "stdout",
          "output_type": "stream",
          "text": [
            "Ingrese su nombre: Cristian Parada\n",
            "Ingrese su edad: 41\n",
            "Ingrese su altura: 1.70\n",
            "Hola, Cristian Parada\n",
            "Tienes: 41 años\n",
            "Y mides: 1.70 metros.\n"
          ]
        }
      ],
      "source": [
        "#3 - Crea un programa que solicite al usuario que escriba su nombre, edad y altura en metros, y luego imprima \"Hola, [nombre], tienes [edad] años y mides [altura] metros.\"\n",
        "nombre = input(\"Ingrese su nombre: \")\n",
        "edad = input(\"Ingrese su edad: \")\n",
        "altura = input(\"Ingrese su altura: \")\n",
        "print(f\"Hola, {nombre}\\nTienes: {edad} años\\nY mides: {altura} metros.\")"
      ]
    },
    {
      "cell_type": "markdown",
      "metadata": {
        "id": "hqPHxuRRddNf"
      },
      "source": [
        "#Calculadora con operadores"
      ]
    },
    {
      "cell_type": "code",
      "execution_count": null,
      "metadata": {
        "colab": {
          "base_uri": "https://localhost:8080/"
        },
        "id": "Kl7G6YxJdZQ_",
        "outputId": "d2d5a7d5-f122-470e-ff71-c48e1c253b74"
      },
      "outputs": [
        {
          "name": "stdout",
          "output_type": "stream",
          "text": [
            "Ingrese el primer numero: 20\n",
            "Ingrese el segundo numero: 10\n",
            "La suma de los numeros es: 30\n"
          ]
        }
      ],
      "source": [
        "#4 - Crea un programa que solicite dos valores numéricos al usuario y luego imprima la suma de ambos valores.\n",
        "numero1 = int(input(\"Ingrese el primer numero: \"))\n",
        "numero2 = int(input(\"Ingrese el segundo numero: \"))\n",
        "suma = numero1 + numero2\n",
        "print(f\"La suma de los numeros es: {suma}\")"
      ]
    },
    {
      "cell_type": "code",
      "execution_count": null,
      "metadata": {
        "colab": {
          "base_uri": "https://localhost:8080/"
        },
        "id": "Hw1eyRGQdooP",
        "outputId": "a2e35f29-5f2e-4bcc-84de-07c34f5bca60"
      },
      "outputs": [
        {
          "name": "stdout",
          "output_type": "stream",
          "text": [
            "Ingrese el primer numero: 3\n",
            "Ingrese el segundo numero: 3\n",
            "Ingrese el tercer numero: 3\n",
            "El resultado de la suma es: 9\n"
          ]
        }
      ],
      "source": [
        "#5 - Crea un programa que solicite tres valores numéricos al usuario y luego imprima la suma de los tres valores.\n",
        "numero1 = int(input(\"Ingrese el primer numero: \"))\n",
        "numero2 = int(input(\"Ingrese el segundo numero: \"))\n",
        "numero3 = int(input(\"Ingrese el tercer numero: \"))\n",
        "suma = numero1 + numero2 + numero3\n",
        "print(f\"El resultado de la suma es: {suma}\")"
      ]
    },
    {
      "cell_type": "code",
      "execution_count": null,
      "metadata": {
        "colab": {
          "base_uri": "https://localhost:8080/"
        },
        "id": "by6od_o0d9XL",
        "outputId": "7e352c03-8e93-4690-c80f-19f95862cea0"
      },
      "outputs": [
        {
          "name": "stdout",
          "output_type": "stream",
          "text": [
            "Ingrese el primer numero: 15\n",
            "Ingrese el segundo numero: 3\n",
            "La resta de los numeros es: 12\n"
          ]
        }
      ],
      "source": [
        "#6 - Crea un programa que solicite dos valores numéricos al usuario y luego imprima la resta del primero menos el segundo valor.\n",
        "numero1 = int(input(\"Ingrese el primer numero: \"))\n",
        "numero2 = int(input(\"Ingrese el segundo numero: \"))\n",
        "resta = numero1 - numero2\n",
        "print(f\"La resta de los numeros es: {resta}\")"
      ]
    },
    {
      "cell_type": "code",
      "execution_count": null,
      "metadata": {
        "colab": {
          "base_uri": "https://localhost:8080/"
        },
        "id": "G2M68fWHePd7",
        "outputId": "0439b1ed-c4e2-4633-e2d5-5bfa9b6de82a"
      },
      "outputs": [
        {
          "name": "stdout",
          "output_type": "stream",
          "text": [
            "Ingrese el primer numero: 2\n",
            "Ingrese el segundo numero: 5\n",
            "La multiplicacion de los numeros es: 10\n"
          ]
        }
      ],
      "source": [
        "#7 - Crea un programa que solicite dos valores numéricos al usuario y luego imprima la multiplicación de los dos valores.\n",
        "numero1 = int(input(\"Ingrese el primer numero: \"))\n",
        "numero2 = int(input(\"Ingrese el segundo numero: \"))\n",
        "multiplicacion = numero1 * numero2\n",
        "print(f\"La multiplicacion de los numeros es: {multiplicacion}\")"
      ]
    },
    {
      "cell_type": "code",
      "execution_count": null,
      "metadata": {
        "colab": {
          "base_uri": "https://localhost:8080/"
        },
        "id": "T8T67yMUeXOq",
        "outputId": "a6cdad48-059e-46b9-ffd7-7b4e43cd2b5f"
      },
      "outputs": [
        {
          "name": "stdout",
          "output_type": "stream",
          "text": [
            "Ingrese el primer numero: 4\n",
            "Ingrese el segundo numero: 0\n",
            "No se puede dividir entre 0\n",
            "Ingrese el segundo numero: 3\n"
          ]
        }
      ],
      "source": [
        "#8 - Crea un programa que solicite dos valores numéricos, un numerador y un denominador, y realice la división entre los dos valores. Asegúrate de que el valor del denominador no sea igual a 0.\n",
        "numero1 = int(input(\"Ingrese el primer numero: \")) #Numerador\n",
        "numero2 = int(input(\"Ingrese el segundo numero: \")) #Denominador\n",
        "division = numero1 / numero2\n",
        "if numero2 == 0: #Condicion que el numero 2 no puede ser cero.\n",
        "  print(\"No se puede dividir entre 0\")\n",
        "  numero2 = int(input(\"Ingrese el segundo numero: \"))\n",
        "else:\n",
        "  print(f\"La division de los numeros es: {round(division)}\")"
      ]
    },
    {
      "cell_type": "code",
      "execution_count": null,
      "metadata": {
        "colab": {
          "base_uri": "https://localhost:8080/"
        },
        "id": "VZ1K3KpXf1Mq",
        "outputId": "43b74412-a4ff-44cd-f934-e4fd238ac72d"
      },
      "outputs": [
        {
          "name": "stdout",
          "output_type": "stream",
          "text": [
            "Ingrese el primer numero: 3\n",
            "Ingrese el segundo numero: 4\n",
            "La potencia de los numeros es: 81\n"
          ]
        }
      ],
      "source": [
        "#9 - Crea un programa que solicite dos valores numéricos, un operador y una potencia, y realice la exponenciación entre estos dos valores.\n",
        "numero1 = int(input(\"Ingrese el primer numero: \"))\n",
        "numero2 = int(input(\"Ingrese el segundo numero: \"))\n",
        "potencia = numero1 ** numero2\n",
        "print(f\"La potencia de los numeros es: {potencia}\")"
      ]
    },
    {
      "cell_type": "code",
      "execution_count": null,
      "metadata": {
        "colab": {
          "base_uri": "https://localhost:8080/"
        },
        "id": "EOumo_gNf-xl",
        "outputId": "a9b19b42-6d5a-4b62-e0f6-690a119238df"
      },
      "outputs": [
        {
          "name": "stdout",
          "output_type": "stream",
          "text": [
            "Ingrese el primer numero: 9\n",
            "Ingrese el segundo numero: 2\n",
            "El resultado de la division es: 4\n"
          ]
        }
      ],
      "source": [
        "#10 - Crea un programa que solicite dos valores numéricos, un numerador y un denominador, y realice la división entera entre los dos valores. Asegúrate de que el valor del denominador no sea igual a 0.\n",
        "numero1 = int(input(\"Ingrese el primer numero: \")) #Numerador\n",
        "numero2 = int(input(\"Ingrese el segundo numero: \")) #Denominador\n",
        "division = numero1 // numero2\n",
        "if numero2 == 0: #Condicion que el numero 2 no puede ser cero.\n",
        "  print(\"No se puede dividir entre 0\")\n",
        "else:\n",
        "  print(f\"El resultado de la division es: {division}\")"
      ]
    },
    {
      "cell_type": "code",
      "execution_count": null,
      "metadata": {
        "colab": {
          "base_uri": "https://localhost:8080/"
        },
        "id": "miSfmnwvi4up",
        "outputId": "0dcd11f0-0ac7-42a4-b848-fa5f2433604e"
      },
      "outputs": [
        {
          "name": "stdout",
          "output_type": "stream",
          "text": [
            "Ingrese el numerador: 5\n",
            "Ingrese el denominador: 3\n",
            "el resultdo de la division es: 2.0\n"
          ]
        }
      ],
      "source": [
        "#11 - Crea un programa que solicite dos valores numéricos, un numerador y un denominador, y devuelva el resto de la división entre los dos valores. Asegúrate de que el valor del denominador no sea igual a 0.\n",
        "numero1 = float(input(\"Ingrese el numerador: \"))\n",
        "numero2 = float(input(\"Ingrese el denominador: \"))\n",
        "division = numero1 % numero2\n",
        "if numero2 == 0:\n",
        "  print(\"No se puede dividir entre 0\")\n",
        "  numero2 = float(input(\"Ingrese el denominador: \"))\n",
        "else:\n",
        "  print(f\"el resultdo de la division es: {division}\")"
      ]
    },
    {
      "cell_type": "code",
      "execution_count": null,
      "metadata": {
        "colab": {
          "base_uri": "https://localhost:8080/"
        },
        "id": "w95tTnLRmVAU",
        "outputId": "f4420e18-9b90-416f-bc51-c40bdb1bddbe"
      },
      "outputs": [
        {
          "name": "stdout",
          "output_type": "stream",
          "text": [
            "Ingrese la primera nota: 6.7\n",
            "Ingrese la segunda nota: 8.0\n",
            "Ingrese la tercera nota: 9.4\n",
            "El promedio de las notas es: 8.03\n"
          ]
        }
      ],
      "source": [
        "#12 - Crea un código que solicite las 3 notas de un estudiante e imprima el promedio de las notas.\n",
        "nota1 = float(input(\"Ingrese la primera nota: \"))\n",
        "nota2 = float(input(\"Ingrese la segunda nota: \"))\n",
        "nota3 = float(input(\"Ingrese la tercera nota: \"))\n",
        "promedio = (nota1 + nota2 + nota3)/3\n",
        "print(f\"El promedio de las notas es: {round(promedio,2)}\")"
      ]
    },
    {
      "cell_type": "code",
      "execution_count": null,
      "metadata": {
        "colab": {
          "base_uri": "https://localhost:8080/"
        },
        "id": "LWEquhAYonYL",
        "outputId": "eb47228f-05c7-40f3-c1e6-7ed275645151"
      },
      "outputs": [
        {
          "name": "stdout",
          "output_type": "stream",
          "text": [
            "El promedio ponderado es: 14.9\n"
          ]
        }
      ],
      "source": [
        "#13 - Crea un código que calcule e imprima el promedio ponderado de los números 5, 12, 20 y 15 con pesos respectivamente iguales a 1, 2, 3 y 4.\n",
        "# Definir los números y sus pesos\n",
        "numeros = [5, 12, 20, 15]\n",
        "pesos = [1, 2, 3, 4]\n",
        "\n",
        "# Calcular el promedio ponderado\n",
        "suma_ponderada = sum(n * p for n, p in zip(numeros, pesos))  # Suma de cada número multiplicado por su peso\n",
        "suma_pesos = sum(pesos)  # Suma total de los pesos\n",
        "promedio_ponderado = suma_ponderada / suma_pesos  # Dividir la suma ponderada entre la suma de los pesos\n",
        "\n",
        "# Imprimir el resultado\n",
        "print(f\"El promedio ponderado es: {promedio_ponderado}\")"
      ]
    },
    {
      "cell_type": "markdown",
      "metadata": {
        "id": "VmtdJ8zgo90n"
      },
      "source": [
        "#Editando textos"
      ]
    },
    {
      "cell_type": "code",
      "execution_count": null,
      "metadata": {
        "colab": {
          "base_uri": "https://localhost:8080/"
        },
        "id": "vMiLk0tRo74g",
        "outputId": "eb21ee73-1318-4a10-9993-07588ec8f18c"
      },
      "outputs": [
        {
          "name": "stdout",
          "output_type": "stream",
          "text": [
            "FRASE\n"
          ]
        }
      ],
      "source": [
        "#14 - Crea una variable llamada \"frase\" y asígnale una cadena de texto de tu elección. Luego, imprime la frase en pantalla.\n",
        "texto = \"Frase\"\n",
        "print(texto.upper())"
      ]
    },
    {
      "cell_type": "code",
      "execution_count": null,
      "metadata": {
        "colab": {
          "base_uri": "https://localhost:8080/"
        },
        "id": "nzwZUGY3tU4C",
        "outputId": "ef2aaddd-f3d8-4e32-ab25-00212ab1c58b"
      },
      "outputs": [
        {
          "name": "stdout",
          "output_type": "stream",
          "text": [
            "Ingrese una frase: Ni chicha ni limonada\n",
            "La frase es: Ni chicha ni limonada\n"
          ]
        }
      ],
      "source": [
        "#15 - Crea un código que solicite una frase y luego imprima la frase en pantalla.\n",
        "frase = input (\"Ingrese una frase: \")\n",
        "print(f\"La frase es: {frase}\")"
      ]
    },
    {
      "cell_type": "code",
      "execution_count": null,
      "metadata": {
        "colab": {
          "base_uri": "https://localhost:8080/"
        },
        "id": "BRsXlQJVx5ri",
        "outputId": "c65c11d4-bce4-4f00-9a4e-22b09e05bfa5"
      },
      "outputs": [
        {
          "name": "stdout",
          "output_type": "stream",
          "text": [
            "Ingrese una frase: Hola amiguitos!\n",
            "La frase en mayusculas es: HOLA AMIGUITOS!\n"
          ]
        }
      ],
      "source": [
        "#16 - Crea un código que solicite una frase al usuario y luego imprima la misma frase ingresada pero en mayúsculas.\n",
        "frase = input (\"Ingrese una frase: \")\n",
        "print(f\"La frase en mayusculas es: {frase.upper()}\")"
      ]
    },
    {
      "cell_type": "code",
      "execution_count": null,
      "metadata": {
        "colab": {
          "base_uri": "https://localhost:8080/"
        },
        "id": "w6aleb_sySnF",
        "outputId": "82283e40-ff7c-4110-c54d-9981e353f137"
      },
      "outputs": [
        {
          "name": "stdout",
          "output_type": "stream",
          "text": [
            "Ingrese una frase: Hola como estan?\n",
            "La frase en minusculas es: hola como estan?\n"
          ]
        }
      ],
      "source": [
        "#17 - Crea un código que solicite una frase al usuario y luego imprima la misma frase ingresada pero en minúsculas.\n",
        "frase = input (\"Ingrese una frase: \")\n",
        "print(f\"La frase en minusculas es: {frase.lower()}\")"
      ]
    },
    {
      "cell_type": "code",
      "execution_count": null,
      "metadata": {
        "colab": {
          "base_uri": "https://localhost:8080/"
        },
        "id": "DFonflHAy3p9",
        "outputId": "e8eaf4d1-8e59-407d-eb8e-060350e05fea"
      },
      "outputs": [
        {
          "name": "stdout",
          "output_type": "stream",
          "text": [
            "Ingresa la frase que deseasHola! ¿Como estan?\n",
            "La frase ingresada es:\n",
            "Hola! ¿Como estan?\n"
          ]
        }
      ],
      "source": [
        "#18-19 - Crea una variable llamada \"frase\" y asígnale una cadena de texto de tu elección. Luego, imprime la frase sin espacios en blanco al principio y al final.\n",
        "# Crear la variable \"frase\" y asignarle una cadena de texto\n",
        "frase = input(\"Ingresa la frase que deseas\")\n",
        "\n",
        "# Imprimir la frase sin espacios en blanco al principio y al final\n",
        "print(f\"La frase ingresada es:\\n{frase.strip()}\")"
      ]
    },
    {
      "cell_type": "code",
      "execution_count": null,
      "metadata": {
        "colab": {
          "base_uri": "https://localhost:8080/"
        },
        "id": "LtMnHvJdznCc",
        "outputId": "ff0f98cf-1eeb-40cd-892a-1fd451623a63"
      },
      "outputs": [
        {
          "name": "stdout",
          "output_type": "stream",
          "text": [
            "Escribe una frase: SE TU MISMO\n",
            "se tu mismo\n"
          ]
        }
      ],
      "source": [
        "#20 - Crea un código que solicite una frase al usuario y luego imprima la misma frase sin espacios en blanco al principio y al final, además de convertirla a minúsculas.\n",
        "frase = input('Escribe una frase: ')\n",
        "print(frase.strip().lower())"
      ]
    },
    {
      "cell_type": "code",
      "execution_count": null,
      "metadata": {
        "colab": {
          "base_uri": "https://localhost:8080/"
        },
        "id": "wmy7TAL307-4",
        "outputId": "98eb3d77-2db9-4d08-8b58-2cd9f707edd9"
      },
      "outputs": [
        {
          "name": "stdout",
          "output_type": "stream",
          "text": [
            "Escribe una frase: FELICIDAD DE FELIX\n",
            "fflicidad df fflix\n"
          ]
        }
      ],
      "source": [
        "#21 - Crea un código que solicite una frase al usuario y luego imprima la misma frase con todas las vocales \"e\" reemplazadas por la letra \"f\".\n",
        "frase = input('Escribe una frase: ')\n",
        "print(frase.lower().replace('e','f'))"
      ]
    },
    {
      "cell_type": "code",
      "execution_count": null,
      "metadata": {
        "colab": {
          "base_uri": "https://localhost:8080/"
        },
        "id": "G_nCQs8B1Cw9",
        "outputId": "cb324cec-e1d1-4e50-da9a-0a2c64f4c082"
      },
      "outputs": [
        {
          "name": "stdout",
          "output_type": "stream",
          "text": [
            "Escribe una frase: FELIZ DIA\n",
            "feliz di@\n"
          ]
        }
      ],
      "source": [
        "#22 - Crea un código que solicite una frase al usuario y luego imprima la misma frase con todas las vocales \"a\" reemplazadas por el carácter \"@\".\n",
        "frase = input('Escribe una frase: ')\n",
        "print(frase.lower().replace('a',chr(64)))"
      ]
    },
    {
      "cell_type": "code",
      "execution_count": null,
      "metadata": {
        "colab": {
          "base_uri": "https://localhost:8080/"
        },
        "id": "rXcAbXuq1N6a",
        "outputId": "7edbd1d0-aeea-4af9-c8a5-ab57b70c4223"
      },
      "outputs": [
        {
          "name": "stdout",
          "output_type": "stream",
          "text": [
            "Escribe una frase: SIEMPRE AMIGOS!\n",
            "$iempre amigo$!\n"
          ]
        }
      ],
      "source": [
        "#23 - Crea un código que solicite una frase al usuario y luego imprima la misma frase con todas las consonantes \"s\" reemplazadas por el carácter \"$\".\n",
        "frase = input('Escribe una frase: ')\n",
        "print(frase.lower().replace('s',chr(36)))"
      ]
    },
    {
      "cell_type": "markdown",
      "metadata": {
        "id": "tHkyvkKJ2NrG"
      },
      "source": [
        "#Estructuras condicionales"
      ]
    },
    {
      "cell_type": "code",
      "execution_count": null,
      "metadata": {
        "colab": {
          "base_uri": "https://localhost:8080/"
        },
        "id": "4STUH9Me2Qme",
        "outputId": "d24f6050-a598-4a22-fad7-fec04d018b4f"
      },
      "outputs": [
        {
          "name": "stdout",
          "output_type": "stream",
          "text": [
            "Nombre del alumno es Fabricio Daniel \n",
            "Calificacion de Ingreso: 9.5 \n",
            "El año de ingreso es: 2023.\n"
          ]
        }
      ],
      "source": [
        "nombre_alumno = 'Fabricio Daniel'\n",
        "calificacion_ingreso = 9.5\n",
        "ano_ingreso= 2023\n",
        "print('Nombre del alumno es {} \\nCalificacion de Ingreso: {} \\nEl año de ingreso es: {}.' .format(nombre_alumno, calificacion_ingreso, ano_ingreso))"
      ]
    },
    {
      "cell_type": "markdown",
      "metadata": {
        "id": "9akMWkHs4P2h"
      },
      "source": [
        "* La calificacion de aprobacion es entre 7 y 10 == nota de aprobacion >=7\n",
        "* La calificacion de reprobado es menor de 7 == nota de reprobacion < 7\n",
        "\n"
      ]
    },
    {
      "cell_type": "markdown",
      "metadata": {
        "id": "3ySwN5-94joY"
      },
      "source": [
        "#Condicional IF y ELSE"
      ]
    },
    {
      "cell_type": "code",
      "execution_count": null,
      "metadata": {
        "colab": {
          "base_uri": "https://localhost:8080/"
        },
        "id": "ZBHHNSXl3IlJ",
        "outputId": "2b1c1469-4baa-4892-f18a-40d1b5d95d46"
      },
      "outputs": [
        {
          "name": "stdout",
          "output_type": "stream",
          "text": [
            "Ingrese la calificacion del alumno:6.9\n",
            "El alumno ha reprobado\n"
          ]
        }
      ],
      "source": [
        "#Realizando el ejercicio:\n",
        "calificacion_ingreso= float(input(\"Ingrese la calificacion del alumno:\"))\n",
        "if calificacion_ingreso >= 7:\n",
        "  print(\"El alumno ha aprobado\")\n",
        "else:\n",
        "  print(\"El alumno ha reprobado\")\n",
        "\n"
      ]
    },
    {
      "cell_type": "code",
      "execution_count": null,
      "metadata": {
        "colab": {
          "base_uri": "https://localhost:8080/"
        },
        "id": "MIoemDfM5ri9",
        "outputId": "c8125ea6-b7e4-45ac-e022-ddbbf042a0b1"
      },
      "outputs": [
        {
          "name": "stdout",
          "output_type": "stream",
          "text": [
            "Ingrese la edad de María: 20\n",
            "Ingrese la edad de Beatriz: 18\n",
            "María es mayor que Beatriz.\n"
          ]
        }
      ],
      "source": [
        "#Ejemplo de operadores relacionales\n",
        "edad_maria = int(input('Ingrese la edad de María: '))\n",
        "edad_beatriz = int(input('Ingrese la edad de Beatriz: '))\n",
        "\n",
        "if edad_maria > edad_beatriz:\n",
        "  print('María es mayor que Beatriz.')"
      ]
    },
    {
      "cell_type": "code",
      "execution_count": null,
      "metadata": {
        "colab": {
          "base_uri": "https://localhost:8080/"
        },
        "id": "YJuQemNv524P",
        "outputId": "e9a9f751-f640-4e95-b2c6-fa388ef3baae"
      },
      "outputs": [
        {
          "name": "stdout",
          "output_type": "stream",
          "text": [
            "Ingrese la cantidad de empleados de la empresa 1: 640\n",
            "Ingrese la cantidad de empleados de la empresa 2: 20\n",
            "La empresa 1 tiene una cantidad de empleados mayor o igual a la empresa 2.\n"
          ]
        }
      ],
      "source": [
        "#Utilizando >= que\n",
        "empleados_empresa_1 = int(input('Ingrese la cantidad de empleados de la empresa 1: '))\n",
        "empleados_empresa_2 = int(input('Ingrese la cantidad de empleados de la empresa 2: '))\n",
        "\n",
        "if empleados_empresa_1 >= empleados_empresa_2:\n",
        "  print('La empresa 1 tiene una cantidad de empleados mayor o igual a la empresa 2.')"
      ]
    },
    {
      "cell_type": "code",
      "execution_count": null,
      "metadata": {
        "colab": {
          "base_uri": "https://localhost:8080/"
        },
        "id": "GkRepXPS6ML1",
        "outputId": "7bd8c52d-f109-41b5-d6ac-649286fcedd6"
      },
      "outputs": [
        {
          "name": "stdout",
          "output_type": "stream",
          "text": [
            "Ingrese el título del 1° libro: La llorona\n",
            "Ingrese el título del 2° libro: La zegua\n",
            "Los libros tienen títulos diferentes.\n"
          ]
        }
      ],
      "source": [
        "#igual\n",
        "libro_1 = input('Ingrese el título del 1° libro: ')\n",
        "libro_2 = input('Ingrese el título del 2° libro: ')\n",
        "\n",
        "if libro_1 == libro_2:\n",
        "  print('Los libros tienen el mismo título.')\n",
        "else :\n",
        "  print ('Los libros tienen títulos diferentes.')"
      ]
    },
    {
      "cell_type": "code",
      "execution_count": null,
      "metadata": {
        "colab": {
          "base_uri": "https://localhost:8080/"
        },
        "id": "xqBoZ6dj6yyM",
        "outputId": "19dd2cf7-3ee4-4f2c-cbdc-2251c1362298"
      },
      "outputs": [
        {
          "name": "stdout",
          "output_type": "stream",
          "text": [
            "Ingrese el título del 1° libro: Hernan Cortez\n",
            "Ingrese el título del 2° libro: Pedro Alvarado\n",
            "Los libros tienen títulos diferentes.\n"
          ]
        }
      ],
      "source": [
        "#Diferente de !=\n",
        "libro_1 = input('Ingrese el título del 1° libro: ')\n",
        "libro_2 = input('Ingrese el título del 2° libro: ')\n",
        "\n",
        "if libro_1 != libro_2:\n",
        "  print('Los libros tienen títulos diferentes.')\n",
        "else:\n",
        "  print('Los libros tienen el mismo título.')"
      ]
    },
    {
      "cell_type": "markdown",
      "metadata": {
        "id": "4ldPhhyH8-XX"
      },
      "source": [
        "#Condicion ELIF"
      ]
    },
    {
      "cell_type": "code",
      "execution_count": null,
      "metadata": {
        "colab": {
          "base_uri": "https://localhost:8080/"
        },
        "id": "wMUU1X9_893f",
        "outputId": "8e2d16db-9bfa-4eb5-e3a4-0e71993eaedd"
      },
      "outputs": [
        {
          "name": "stdout",
          "output_type": "stream",
          "text": [
            "Ingrese la calificación del alumno: 6.8\n",
            "Regular\n"
          ]
        }
      ],
      "source": [
        "calificacion = float(input('Ingrese la calificación del alumno: '))\n",
        "if calificacion >= 9:\n",
        "  print('Excelente')\n",
        "elif calificacion >= 7:\n",
        "  print('Buena')\n",
        "elif calificacion >= 5:\n",
        "  print('Regular')\n",
        "else:\n",
        "  print('Mala')"
      ]
    },
    {
      "cell_type": "markdown",
      "metadata": {
        "id": "M_gTxFNI90jl"
      },
      "source": [
        "#Operadores logicos integrados(AND, OR, NOT)"
      ]
    },
    {
      "cell_type": "code",
      "execution_count": null,
      "metadata": {
        "colab": {
          "base_uri": "https://localhost:8080/"
        },
        "id": "NwGjdXDr98_J",
        "outputId": "b056acf8-a42f-4a85-d3ec-9104efe06f3c"
      },
      "outputs": [
        {
          "name": "stdout",
          "output_type": "stream",
          "text": [
            "La condicion es falsa\n"
          ]
        }
      ],
      "source": [
        "v = True\n",
        "f = False\n",
        "if v and f:\n",
        "  print('La condicion es verdadera')\n",
        "else:\n",
        "  print('La condicion es falsa')"
      ]
    },
    {
      "cell_type": "code",
      "execution_count": null,
      "metadata": {
        "colab": {
          "base_uri": "https://localhost:8080/"
        },
        "id": "-2O_YsiKAAad",
        "outputId": "f9057eea-cc36-43b6-9606-98c090fe28ca"
      },
      "outputs": [
        {
          "name": "stdout",
          "output_type": "stream",
          "text": [
            "La condicion es falsa\n"
          ]
        }
      ],
      "source": [
        "if f or f:\n",
        "  print('La condicion es verdadera')\n",
        "else:\n",
        "  print('La condicion es falsa')"
      ]
    },
    {
      "cell_type": "code",
      "execution_count": null,
      "metadata": {
        "colab": {
          "base_uri": "https://localhost:8080/"
        },
        "id": "47fWiZekAOZ2",
        "outputId": "bf6c433d-6fdd-47d2-b8ab-de67e1c53196"
      },
      "outputs": [
        {
          "name": "stdout",
          "output_type": "stream",
          "text": [
            "La condicion es verdadera\n"
          ]
        }
      ],
      "source": [
        "if  not f:\n",
        "  print('La condicion es verdadera')\n",
        "else:\n",
        "  print('La condicion es falsa')"
      ]
    },
    {
      "cell_type": "code",
      "execution_count": null,
      "metadata": {
        "colab": {
          "base_uri": "https://localhost:8080/"
        },
        "id": "5JmQDyClBDNB",
        "outputId": "cd28d12f-ad39-4d57-ac72-0d1565137e5a"
      },
      "outputs": [
        {
          "name": "stdout",
          "output_type": "stream",
          "text": [
            "Lista cargada con exito!\n"
          ]
        }
      ],
      "source": [
        "#Ejemplo practico:\n",
        "lista = [\n",
        "    \"Ana Gómez\",\n",
        "    \"Luis Martínez\",\n",
        "    \"Sofía Rodríguez\",\n",
        "    \"Carlos López\",\n",
        "    \"Valeria Fernández\",\n",
        "    \"Javier Pérez\",\n",
        "    \"Camila Sánchez\",\n",
        "    \"Daniel Díaz\",\n",
        "    \"Lucía Torres\",\n",
        "    \"Miguel Ramírez\",\n",
        "    \"Isabella Flores\",\n",
        "    \"Sebastián Vargas\",\n",
        "    \"Mariana Silva\",\n",
        "    \"Mateo Castro\",\n",
        "    \"Paula Mendoza\",\n",
        "    \"Álvaro Ríos\",\n",
        "    \"Victoria Morales\",\n",
        "    \"Nicolás Ortega\",\n",
        "    \"Andrea Navarro\",\n",
        "    \"Diego Herrera\",\n",
        "    \"Emilia Medina\",\n",
        "    \"Gabriel Guzmán\",\n",
        "    \"Renata Paredes\",\n",
        "    \"Tomás Acosta\",\n",
        "    \"Jimena Aguirre\",\n",
        "    \"Adrián Rojas\",\n",
        "    \"Catalina Vázquez\",\n",
        "    \"Santiago Núñez\",\n",
        "    \"Elena Bravo\",\n",
        "    \"Joaquín Cruz\"\n",
        "]\n",
        "print(\"Lista cargada con exito!\")"
      ]
    },
    {
      "cell_type": "code",
      "execution_count": null,
      "metadata": {
        "colab": {
          "base_uri": "https://localhost:8080/"
        },
        "id": "ZmeQb3HCBM3C",
        "outputId": "a0a6dbea-f987-43b7-d1e9-4719d2f596de"
      },
      "outputs": [
        {
          "name": "stdout",
          "output_type": "stream",
          "text": [
            "Camila Sánchez esta en la lista\n"
          ]
        }
      ],
      "source": [
        "#Necesitamos verificar dos nombres Camila Sánchez y Andrea Navas en la lista\n",
        "nombre1 = \"Camila Sánchez\"\n",
        "nombre2 = \"Andrea Navas\"\n",
        "#validando si esta en nuestra lista\n",
        "if nombre1 in lista:\n",
        "  print(f\"{nombre1} esta en la lista Aprobo\")\n",
        "else:\n",
        "  print(f\"{nombre1} no esta en la lista Reprobo\")"
      ]
    },
    {
      "cell_type": "code",
      "execution_count": null,
      "metadata": {
        "colab": {
          "base_uri": "https://localhost:8080/"
        },
        "id": "nSx_hFgLB4VD",
        "outputId": "09c904d9-cd0b-4aae-f307-3ee37c50548a"
      },
      "outputs": [
        {
          "name": "stdout",
          "output_type": "stream",
          "text": [
            "Andrea Navas no esta en la lista Reprobo\n"
          ]
        }
      ],
      "source": [
        "#Validando que no esta en nuestra lista\n",
        "if nombre2 in lista:\n",
        "  print(f\"{nombre2} esta en la lista Aprobo\")\n",
        "else:\n",
        "  print(f\"{nombre2} no esta en la lista Reprobo\")"
      ]
    },
    {
      "cell_type": "markdown",
      "metadata": {
        "id": "oy3CEMJPC6lD"
      },
      "source": [
        "#Desafio"
      ]
    },
    {
      "cell_type": "code",
      "execution_count": null,
      "metadata": {
        "colab": {
          "base_uri": "https://localhost:8080/"
        },
        "id": "k17Fn5E_C6Ks",
        "outputId": "8d3a4b33-fb8e-4848-ef6e-ed760a7fe90d"
      },
      "outputs": [
        {
          "name": "stdout",
          "output_type": "stream",
          "text": [
            "Ingrese el primer numero: 9\n",
            "Ingrese el segundo numero: 8\n",
            "El numero mayor es: 9\n"
          ]
        }
      ],
      "source": [
        "#1 - Escribe un programa que pida a la persona usuaria que proporcione dos números y muestre el número más grande.\n",
        "numero1 = int(input(\"Ingrese el primer numero: \"))\n",
        "numero2 = int(input(\"Ingrese el segundo numero: \"))\n",
        "if numero1 > numero2:\n",
        "  print(f\"El numero mayor es: {numero1}\")\n",
        "elif numero1<numero2:\n",
        "  print(f\"El numero mayor es: {numero2}\")\n",
        "else:\n",
        "  print(\"Los numeros son iguales\")\n"
      ]
    },
    {
      "cell_type": "code",
      "execution_count": null,
      "metadata": {
        "colab": {
          "base_uri": "https://localhost:8080/"
        },
        "id": "3HTNVgO5DsEy",
        "outputId": "6a6a2580-ba90-4fae-d4b0-ca114143fa6c"
      },
      "outputs": [
        {
          "name": "stdout",
          "output_type": "stream",
          "text": [
            "Ingrese el porcentaje de crecimiento: 9\n",
            "Hubo un crecimiento del 9.0%\n"
          ]
        }
      ],
      "source": [
        "# Recolectamos el porcentaje\n",
        "variación = float(input('Ingrese el porcentaje de crecimiento: '))\n",
        "# Verificamos si el valor es positivo o negativo con una comparación para ver si el número\n",
        "# es mayor o menor que 0\n",
        "if variación > 0:\n",
        "    print(f'Hubo un crecimiento del {variación}%')\n",
        "elif variación < 0:\n",
        "    print(f'Hubo un decrecimiento del {variación}%')\n",
        "else:\n",
        "    print('No hubo crecimiento ni decrecimiento.')"
      ]
    },
    {
      "cell_type": "code",
      "execution_count": null,
      "metadata": {
        "colab": {
          "base_uri": "https://localhost:8080/"
        },
        "id": "engG0w7jD6ro",
        "outputId": "e9d8ce08-c810-4156-db84-f6be9cc4d714"
      },
      "outputs": [
        {
          "name": "stdout",
          "output_type": "stream",
          "text": [
            "Ingrese una letra: A\n",
            "La letra es una vocal.\n"
          ]
        }
      ],
      "source": [
        "# Recolectamos la letra del usuario en minúsculas\n",
        "letra = input('Ingrese una letra: ').lower()\n",
        "vocales = 'aeiou' # cadena que contiene todas las vocales\n",
        "# Verificamos si la letra está en las vocales con `in`\n",
        "if letra in vocales:\n",
        "    print('La letra es una vocal.')\n",
        "else:\n",
        "    print('La letra es una consonante.')"
      ]
    },
    {
      "cell_type": "code",
      "execution_count": null,
      "metadata": {
        "colab": {
          "base_uri": "https://localhost:8080/"
        },
        "id": "HT4SoryJEjyi",
        "outputId": "bbf72107-c676-4151-b7d1-36e71a0b6a96"
      },
      "outputs": [
        {
          "name": "stdout",
          "output_type": "stream",
          "text": [
            "Ingrese el precio promedio del automóvil en el primer año: 3500\n",
            "Ingrese el precio promedio del automóvil en el segundo año: 4800\n",
            "Ingrese el precio promedio del automóvil en el tercer año: 6400\n",
            "El precio más alto fue de USD $ 6400.0.\n",
            "El precio más bajo fue de USD $ 3500.0.\n"
          ]
        }
      ],
      "source": [
        "# Recolectamos los precios de los 3 años\n",
        "precio_ano1 = float(input('Ingrese el precio promedio del automóvil en el primer año: '))\n",
        "precio_ano2 = float(input('Ingrese el precio promedio del automóvil en el segundo año: '))\n",
        "precio_ano3 = float(input('Ingrese el precio promedio del automóvil en el tercer año: '))\n",
        "# Determinamos el valor más alto mediante comparaciones\n",
        "mayor = precio_ano1\n",
        "if precio_ano2 > mayor:\n",
        "  mayor = precio_ano2\n",
        "if precio_ano3 > mayor:\n",
        "  mayor = precio_ano3\n",
        "# Determinamos el valor más bajo mediante comparaciones\n",
        "menor = precio_ano1\n",
        "if precio_ano2 < menor:\n",
        "  menor = precio_ano2\n",
        "if precio_ano3 < menor:\n",
        "  menor = precio_ano3\n",
        "# Mostramos los resultados\n",
        "print(f'El precio más alto fue de USD $ {mayor}.')\n",
        "print(f'El precio más bajo fue de USD $ {menor}.')"
      ]
    },
    {
      "cell_type": "code",
      "execution_count": null,
      "metadata": {
        "colab": {
          "base_uri": "https://localhost:8080/"
        },
        "id": "Q2marZjuE722",
        "outputId": "fa980098-57a0-4c01-af99-2174f377aeaa"
      },
      "outputs": [
        {
          "name": "stdout",
          "output_type": "stream",
          "text": [
            "Ingrese el precio del primer producto: 8.50\n",
            "Ingrese el precio del segundo producto: 9.45\n",
            "Ingrese el precio del tercer producto: 3.80\n",
            "El tercer producto es el más barato.\n"
          ]
        }
      ],
      "source": [
        "# Recolectamos el precio de tres productos\n",
        "producto1 = float(input('Ingrese el precio del primer producto: '))\n",
        "producto2 = float(input('Ingrese el precio del segundo producto: '))\n",
        "producto3 = float(input('Ingrese el precio del tercer producto: '))\n",
        "\n",
        "# Usamos el operador lógico `and` para determinar cuál es el precio más bajo entre los 3 productos\n",
        "# ya que esto nos permite hacer una comparación de 3 entradas\n",
        "if producto1 < producto2 and producto1 < producto3:\n",
        "    print('El primer producto es el más barato.')\n",
        "elif producto2 < producto1 and producto2 < producto3:\n",
        "    print('El segundo producto es el más barato.')\n",
        "else:\n",
        "    print('El tercer producto es el más barato.')"
      ]
    },
    {
      "cell_type": "code",
      "execution_count": null,
      "metadata": {
        "colab": {
          "base_uri": "https://localhost:8080/"
        },
        "id": "THsUuJouFA1G",
        "outputId": "6cfc0a3e-156f-48d5-abcd-d9b7d45ff452"
      },
      "outputs": [
        {
          "name": "stdout",
          "output_type": "stream",
          "text": [
            "Ingrese el primer número: 8\n",
            "Ingrese el segundo número: 2\n",
            "Ingrese el tercer número: 9\n",
            "9\n",
            "8\n",
            "2\n"
          ]
        }
      ],
      "source": [
        "# Recolectamos los 3 números\n",
        "num1 = int(input('Ingrese el primer número: '))\n",
        "num2 = int(input('Ingrese el segundo número: '))\n",
        "num3 = int(input('Ingrese el tercer número: '))\n",
        "\n",
        "# Comparación entre los 3 números\n",
        "if (num1 >= num2) and (num1 >= num3):\n",
        "    print(num1)\n",
        "    if num2 >= num3:\n",
        "        print(num2)\n",
        "        print(num3)\n",
        "    else:\n",
        "        print(num3)\n",
        "        print(num2)\n",
        "elif (num2 >= num1) and (num2 >= num3):\n",
        "    print(num2)\n",
        "    if num1 >= num3:\n",
        "        print(num1)\n",
        "        print(num3)\n",
        "    else:\n",
        "        print(num3)\n",
        "        print(num1)\n",
        "else:\n",
        "    print(num3)\n",
        "    if num1 >= num2:\n",
        "        print(num1)\n",
        "        print(num2)\n",
        "    else:\n",
        "        print(num2)\n",
        "        print(num1)"
      ]
    },
    {
      "cell_type": "code",
      "execution_count": null,
      "metadata": {
        "colab": {
          "base_uri": "https://localhost:8080/"
        },
        "id": "umLh825tFFcc",
        "outputId": "04c14393-89c0-4a13-8929-3db085c4b97c"
      },
      "outputs": [
        {
          "name": "stdout",
          "output_type": "stream",
          "text": [
            "Ingresa en qué turno estudias (mañana, tarde o noche): noche\n",
            "¡Buenas Noches!\n"
          ]
        }
      ],
      "source": [
        "# Recolectamos el turno de estudio\n",
        "turno = input('Ingresa en qué turno estudias (mañana, tarde o noche): ')\n",
        "\n",
        "# Comparamos la entrada con todas las opciones y mostramos el resultado.\n",
        "if turno == 'mañana':\n",
        "  print('¡Buenos Días!')\n",
        "elif turno == 'tarde':\n",
        "  print('¡Buenas Tardes!')\n",
        "elif turno == 'noche':\n",
        "  print('¡Buenas Noches!')\n",
        "else:\n",
        "  print('¡Valor Inválido!')"
      ]
    },
    {
      "cell_type": "code",
      "execution_count": null,
      "metadata": {
        "colab": {
          "base_uri": "https://localhost:8080/"
        },
        "id": "SZhdDOHaFKWb",
        "outputId": "d126454a-353b-48c5-e091-72f11b8a78b5"
      },
      "outputs": [
        {
          "name": "stdout",
          "output_type": "stream",
          "text": [
            "Ingresa un número: 8\n",
            "El número es par.\n"
          ]
        }
      ],
      "source": [
        "# Recolectamos los datos\n",
        "num = int(input('Ingresa un número: '))\n",
        "\n",
        "# Verificamos si el número es par según el resultado del módulo\n",
        "if num % 2 == 0:\n",
        "    print('El número es par.')\n",
        "else:\n",
        "    print('El número es impar.')"
      ]
    },
    {
      "cell_type": "code",
      "execution_count": null,
      "metadata": {
        "colab": {
          "base_uri": "https://localhost:8080/"
        },
        "id": "riYjQ1j3FN9X",
        "outputId": "e1b0f275-2f8e-4ce1-a7a8-8bba12a7bea0"
      },
      "outputs": [
        {
          "name": "stdout",
          "output_type": "stream",
          "text": [
            "Ingresa un número: 2.5\n",
            "El número es decimal.\n"
          ]
        }
      ],
      "source": [
        "# Recolectamos los datos\n",
        "# Recolectamos los datos\n",
        "num = float(input('Ingresa un número: '))\n",
        "# Verificamos si el número es entero o decimal según el resultado del módulo\n",
        "if num % 1 == 0:\n",
        "    print('El número es entero.')\n",
        "else:\n",
        "    print('El número es decimal.')\n"
      ]
    },
    {
      "cell_type": "code",
      "execution_count": null,
      "metadata": {
        "colab": {
          "base_uri": "https://localhost:8080/"
        },
        "id": "hLXRH0qbFYzs",
        "outputId": "afe328bd-d3d6-4761-aa4e-165c1a72205e"
      },
      "outputs": [
        {
          "name": "stdout",
          "output_type": "stream",
          "text": [
            "Ingrese el primer número: 20\n",
            "Ingrese el segundo número: 10\n",
            "Ingrese la operación deseada (+, -, *, /): +\n",
            "El resultado es un número entero.\n",
            "El resultado es positivo.\n",
            "El resultado es un número par.\n"
          ]
        }
      ],
      "source": [
        "# Recolectamos los números a operar y solicitamos la operación deseada por el usuario\n",
        "num1 = float(input('Ingrese el primer número: '))\n",
        "num2 = float(input('Ingrese el segundo número: '))\n",
        "operación = input('Ingrese la operación deseada (+, -, *, /): ')\n",
        "\n",
        "# Verificamos la operación seleccionada y realizamos la operación matemática según la elección\n",
        "if operación == '+':\n",
        "    resultado = num1 + num2\n",
        "elif operación == '-':\n",
        "    resultado = num1 - num2\n",
        "elif operación == '*':\n",
        "    resultado = num1 * num2\n",
        "elif operación == '/':\n",
        "    resultado = num1 / num2\n",
        "else: # Especificamos un resultado en caso de que el usuario no ingrese una de las operaciones correctamente.\n",
        "    print('Operación no válida, el resultado de la operación será 0')\n",
        "    resultado = 0\n",
        "\n",
        "# Realizamos las mismas verificaciones que en preguntas anteriores para generar el informe del cálculo entre números\n",
        "if resultado % 1 == 0:\n",
        "    print('El resultado es un número entero.')\n",
        "else:\n",
        "    print('El resultado es un número decimal.')\n",
        "\n",
        "if resultado > 0:\n",
        "    print('El resultado es positivo.')\n",
        "else:\n",
        "    print('El resultado es negativo.')\n",
        "\n",
        "if resultado % 2 == 0:\n",
        "    print('El resultado es un número par.')\n",
        "else:\n",
        "    print('El resultado es un número impar.')"
      ]
    },
    {
      "cell_type": "code",
      "execution_count": null,
      "metadata": {
        "colab": {
          "base_uri": "https://localhost:8080/"
        },
        "id": "m5DFyTSnGLMN",
        "outputId": "2002096e-c055-40b9-f7d4-252dac728752"
      },
      "outputs": [
        {
          "name": "stdout",
          "output_type": "stream",
          "text": [
            "Estamos recopilando los lados de un triángulo.\n",
            "Ingresa la longitud del primer lado: 10\n",
            "Ingresa la longitud del segundo lado: 4\n",
            "Ingresa la longitud del tercer lado: 3\n",
            "¡Los valores no pueden formar un triángulo!\n"
          ]
        }
      ],
      "source": [
        "# Recolectamos los lados de un triángulo\n",
        "print('Estamos recopilando los lados de un triángulo.')\n",
        "lado1 = float(input('Ingresa la longitud del primer lado: '))\n",
        "lado2 = float(input('Ingresa la longitud del segundo lado: '))\n",
        "lado3 = float(input('Ingresa la longitud del tercer lado: '))\n",
        "\n",
        "# Verificamos si los lados pueden formar un triángulo\n",
        "if (lado1 + lado2 > lado3) and (lado2 + lado3 > lado1) and (lado1 + lado3 > lado2):\n",
        "    print('¡Los valores pueden formar un triángulo!')\n",
        "    # Comparamos los lados para determinar el tipo de triángulo\n",
        "    if (lado1 == lado2) and (lado2 == lado3):\n",
        "        print('El triángulo es equilátero.')\n",
        "    elif (lado1 != lado2) and (lado2 != lado3) and (lado1 != lado3):\n",
        "        print('El triángulo es escaleno.')\n",
        "    else:\n",
        "        print('El triángulo es isósceles.')\n",
        "else:\n",
        "    print('¡Los valores no pueden formar un triángulo!')"
      ]
    },
    {
      "cell_type": "code",
      "execution_count": null,
      "metadata": {
        "colab": {
          "base_uri": "https://localhost:8080/"
        },
        "id": "o2gqqtgOGPzy",
        "outputId": "e2d6ed18-128c-4b10-e953-cddd7231a94f"
      },
      "outputs": [
        {
          "name": "stdout",
          "output_type": "stream",
          "text": [
            "Ingrese la cantidad de litros vendidos: 780\n",
            "Ingrese el tipo de combustible (E para etanol y D para diésel): D\n",
            "Valor a pagar por el cliente: USD $ 1482.0\n"
          ]
        }
      ],
      "source": [
        "# Recolectamos la cantidad de litros y el tipo de combustible,\n",
        "# convirtiendo el carácter en mayúsculas para facilitar nuestro análisis\n",
        "cantidad_litros = float(input('Ingrese la cantidad de litros vendidos: '))\n",
        "tipo_combustible = input('Ingrese el tipo de combustible (E para etanol y D para diésel): ').upper()\n",
        "\n",
        "# Verificamos primero el tipo de combustible\n",
        "if tipo_combustible == 'E':\n",
        "  # Establecemos el precio por litro de etanol\n",
        "  precio_litro = 1.70\n",
        "  # Según la cantidad de litros, establecemos el descuento correspondiente\n",
        "  if cantidad_litros <= 15:\n",
        "    descuento = 0.02\n",
        "  else:\n",
        "    descuento = 0.04\n",
        "elif tipo_combustible == 'D':\n",
        "  # Establecemos el precio por litro de diésel\n",
        "  precio_litro = 2.00\n",
        "  # Según la cantidad de litros, establecemos el descuento correspondiente\n",
        "  if cantidad_litros <= 15:\n",
        "    descuento = 0.03\n",
        "  else:\n",
        "    descuento = 0.05\n",
        "# En caso de error en la especificación del tipo de combustible,\n",
        "# consideramos las entradas como no válidas y establecemos los precios y descuentos en 0\n",
        "else:\n",
        "    print('Entradas no válidas!')\n",
        "    precio_litro = 0\n",
        "    descuento = 0\n",
        "\n",
        "# Calculamos el valor del descuento, seguido del cálculo del precio descontado\n",
        "valor_descuento = precio_litro * cantidad_litros * descuento\n",
        "valor_pagado = precio_litro * cantidad_litros - valor_descuento\n",
        "\n",
        "# Resultado\n",
        "print(f'Valor a pagar por el cliente: USD $ {valor_pagado}')"
      ]
    },
    {
      "cell_type": "code",
      "execution_count": null,
      "metadata": {
        "colab": {
          "base_uri": "https://localhost:8080/"
        },
        "id": "54aik2qGGfNi",
        "outputId": "b54bec6a-04aa-4ca9-d4a3-cc444d5578ad"
      },
      "outputs": [
        {
          "name": "stdout",
          "output_type": "stream",
          "text": [
            "Ingrese la cantidad de ventas en 2023: 18500\n",
            "Ingrese la cantidad de ventas en 2024: 19800\n",
            "Pequeña bonificación para el equipo de ventas.\n"
          ]
        }
      ],
      "source": [
        "# Recolectamos las ventas de los dos años\n",
        "venta_2023 = float(input('Ingrese la cantidad de ventas en 2023: '))\n",
        "venta_2024 = float(input('Ingrese la cantidad de ventas en 2024: '))\n",
        "\n",
        "# Calculamos la variación porcentual entre las ventas de los años 2023 y 2024\n",
        "var_porcentual = 100 * (venta_2024 - venta_2023) / (venta_2023)\n",
        "\n",
        "# Análisis condicional de la variación porcentual para determinar la sugerencia a enviar\n",
        "if var_porcentual > 20:\n",
        "    print('Bonificación para el equipo de ventas.')\n",
        "elif 2 <= var_porcentual <= 20:\n",
        "    print('Pequeña bonificación para el equipo de ventas.')\n",
        "elif -10 <= var_porcentual < 2:\n",
        "    print('Planificación de políticas de incentivo a las ventas.')\n",
        "else:\n",
        "    print('Recorte de gastos.')"
      ]
    },
    {
      "cell_type": "markdown",
      "metadata": {
        "id": "iigcGc6lHea1"
      },
      "source": [
        "#Estructuras de repeticion\n",
        "Cuando tenemos que ejecutar un mismo bloque de comandos durante varias ocaciones no es practico realizarlo a mano.<br>\n",
        "**Situacion:** Imprimir el promedio de 2 calificaciones de **3 estudiantes**:"
      ]
    },
    {
      "cell_type": "code",
      "execution_count": null,
      "metadata": {
        "colab": {
          "base_uri": "https://localhost:8080/"
        },
        "id": "zXxwfh6QHgyB",
        "outputId": "d9330dbe-9705-4d7f-a840-f76ccfaa08d2"
      },
      "outputs": [
        {
          "name": "stdout",
          "output_type": "stream",
          "text": [
            "Ingrese la calificacion 1: 9.8\n",
            "Ingrese la calificacion 2: 4.5\n",
            "El promedio es: 7.15\n"
          ]
        }
      ],
      "source": [
        "calificacion1 = float(input(\"Ingrese la calificacion 1: \"))\n",
        "calificacion2 = float(input(\"Ingrese la calificacion 2: \"))\n",
        "promedio = (calificacion1 + calificacion2) / 2\n",
        "print(f\"El promedio es: {round(promedio,2) }\")"
      ]
    },
    {
      "cell_type": "markdown",
      "metadata": {
        "id": "w0n_y7QYK0n-"
      },
      "source": [
        "#While\n",
        "Es una estructura de repeticion en Python que permite ejecutar un bloque de codigo repetidamente mientras que una determinada condicion sea verdadera."
      ]
    },
    {
      "cell_type": "code",
      "execution_count": null,
      "metadata": {
        "colab": {
          "base_uri": "https://localhost:8080/"
        },
        "id": "NbsjCi72KUDC",
        "outputId": "1e7d6311-790b-4f1d-a6a3-92e5c1df6ca0"
      },
      "outputs": [
        {
          "output_type": "stream",
          "name": "stdout",
          "text": [
            "1\n",
            "2\n",
            "3\n",
            "4\n",
            "5\n",
            "6\n",
            "7\n",
            "8\n",
            "9\n",
            "10\n"
          ]
        }
      ],
      "source": [
        "#Se crea un contador que cuente de 1 a 10\n",
        "contador = 1\n",
        "while contador <= 10:\n",
        "    print(contador)\n",
        "    #contador = contador + 1\n",
        "    contador +=1"
      ]
    },
    {
      "cell_type": "code",
      "source": [
        "#Haciendo esta estructura para colectar las calificaciones de 3 alumnos\n",
        "#inicializamos la variable contador en 1\n",
        "contador = 1\n",
        "while contador  <= 3:\n",
        "  calificacion1 = float(input(\"Ingrese la calificacion 1: \"))\n",
        "  calificacion2 = float(input(\"Ingrese la calificacion 2: \"))\n",
        "  calificacion3 = float(input(\"Ingrese la calificacion 3: \"))\n",
        "#Calculamos el promedio en otra variable\n",
        "  promedio = (calificacion1 + calificacion2 + calificacion3) / 3\n",
        "\n",
        "  print(f\"El promedio es: {round(promedio,2) }\")\n",
        "  contador += 1\n",
        "\n",
        "\n"
      ],
      "metadata": {
        "id": "J23APPz4Pd1k",
        "colab": {
          "base_uri": "https://localhost:8080/"
        },
        "outputId": "32c6e228-4b27-45df-d333-eb8d9e6d1b25"
      },
      "execution_count": null,
      "outputs": [
        {
          "output_type": "stream",
          "name": "stdout",
          "text": [
            "Ingrese la calificacion 1: 6.8\n",
            "Ingrese la calificacion 2: 7.5\n",
            "Ingrese la calificacion 3: 9.0\n",
            "El promedio es: 7.77\n",
            "Ingrese la calificacion 1: 8.0\n",
            "Ingrese la calificacion 2: 3.0\n",
            "Ingrese la calificacion 3: 9.0\n",
            "El promedio es: 6.67\n",
            "Ingrese la calificacion 1: 9.0\n",
            "Ingrese la calificacion 2: 8.5\n",
            "Ingrese la calificacion 3: 0\n",
            "El promedio es: 5.83\n"
          ]
        }
      ]
    },
    {
      "cell_type": "markdown",
      "source": [
        "#Operadores de atribucion\n"
      ],
      "metadata": {
        "id": "veyVSyxDkM72"
      }
    },
    {
      "cell_type": "markdown",
      "source": [
        "| Operador | Descripción | Ejemplo |\n",
        "|----------|-------------|---------|\n",
        "| -=       | Resta un valor de la variable precio | `precio -= 5` |\n",
        "| *=       | Multiplica un valor por la variable precio | `precio *= 3` |\n",
        "| /=       | Divide la variable por un valor precio | `precio /= 2` |\n",
        "| //=      | Realiza una división entera de la variable por un valor precio | `precio //= 6` |\n",
        "| %=       | Calcula el resto de la división del valor en la variable y asigna el resultado a la variable precio | `precio %= 5` |"
      ],
      "metadata": {
        "id": "oSUsP2kRkY8U"
      }
    },
    {
      "cell_type": "code",
      "source": [
        "#Utilizando el operador suma +=\n",
        "precio = 2.00\n",
        "precio += 3\n",
        "print(f\"EL precio es de: {round(precio,2) }\")"
      ],
      "metadata": {
        "colab": {
          "base_uri": "https://localhost:8080/"
        },
        "id": "DdyatZjRgPWT",
        "outputId": "6ce472d6-7d7e-417b-c1da-4c6cd904eaa8"
      },
      "execution_count": null,
      "outputs": [
        {
          "output_type": "stream",
          "name": "stdout",
          "text": [
            "EL precio es de: 5.0\n"
          ]
        }
      ]
    },
    {
      "cell_type": "markdown",
      "source": [
        "#FOR\n",
        "Es una estructura de control de flujo en python que permite iterar sobre un conjunto de elementos\n",
        "for elemento in conjunto:\n",
        "   codigo a ser ejecutado para cada elemento.\n",
        "El conjunto es posible generarlo con la funcion [range](https://www.datacamp.com/tutorial/python-range-function?utm_source=google&utm_medium=paid_search&utm_campaignid=21057859163&utm_adgroupid=157296744657&utm_device=c&utm_keyword=&utm_matchtype=&utm_network=g&utm_adpostion=&utm_creative=733936255805&utm_targetid=aud-517318242147:dsa-2218886984100&utm_loc_interest_ms=&utm_loc_physical_ms=9216685&utm_content=ps-other~latam-en~dsa~tofu~tutorial-python&accountid=9624585688&utm_campaign=230119_1-ps-other~dsa~tofu_2-b2c_3-latam-en_4-prc_5-na_6-na_7-le_8-pdsh-go_9-nb-e_10-na_11-na&gad_source=1&gbraid=0AAAAADQ9WsFHLNHyEVnjQ06sCnfbITqh4&gclid=Cj0KCQjwh_i_BhCzARIsANimeoE59cQCpt3BrXHPrJhWnf2JYbeLukNhMGkJyU5po7Nhv8SlFdLKULcaAtzNEALw_wcB)()"
      ],
      "metadata": {
        "id": "kZDiBOfHoqSD"
      }
    },
    {
      "cell_type": "code",
      "source": [
        "#Vamos a recrear el mismo contador while con el lazo for.\n",
        "for contador in range(1,11):\n",
        "  print(contador)"
      ],
      "metadata": {
        "colab": {
          "base_uri": "https://localhost:8080/"
        },
        "id": "C6YIZaJYosXV",
        "outputId": "c45ab4b3-8c14-4e36-e4c8-04eb57162172"
      },
      "execution_count": null,
      "outputs": [
        {
          "output_type": "stream",
          "name": "stdout",
          "text": [
            "1\n",
            "2\n",
            "3\n",
            "4\n",
            "5\n",
            "6\n",
            "7\n",
            "8\n",
            "9\n",
            "10\n"
          ]
        }
      ]
    },
    {
      "cell_type": "code",
      "source": [
        "#Haciendo la revision de 3 calificaciones de estudiantes\n",
        "for contador in range(1,4):\n",
        "  calificacion1 = float(input(\"Ingrese la calificacion 1: \"))\n",
        "  calificacion2 = float(input(\"Ingrese la calificacion 2: \"))\n",
        "  calificacion3 = float(input(\"Ingrese la calificacion 3: \"))\n",
        "#Calculamos el promedio en otra\n",
        "  promedio = (calificacion1 + calificacion2 + calificacion3) / 3\n",
        "\n",
        "  print(f\"El promedio es: {round(promedio,2) }\")\n",
        "  contador += 1"
      ],
      "metadata": {
        "colab": {
          "base_uri": "https://localhost:8080/"
        },
        "id": "ewSY8C4Gqh79",
        "outputId": "a766c57e-ed51-4c8b-8032-11da64e181a6"
      },
      "execution_count": null,
      "outputs": [
        {
          "output_type": "stream",
          "name": "stdout",
          "text": [
            "Ingrese la calificacion 1: 8.5\n",
            "Ingrese la calificacion 2: 3.9\n",
            "Ingrese la calificacion 3: 8.0\n",
            "El promedio es: 6.8\n",
            "Ingrese la calificacion 1: 9.0\n",
            "Ingrese la calificacion 2: 10.0\n",
            "Ingrese la calificacion 3: 8.6\n",
            "El promedio es: 9.2\n",
            "Ingrese la calificacion 1: 8.0\n",
            "Ingrese la calificacion 2: 7.0\n",
            "Ingrese la calificacion 3: 9.0\n",
            "El promedio es: 8.0\n"
          ]
        }
      ]
    },
    {
      "cell_type": "code",
      "source": [
        "#Ejemplo practico: Descubrir la cantidad total de propiedades construidas entre los años 2017 y 2022 por una inmobiliaria.\n",
        "total_propiedades = 0 #Inicializamos la variable en cero.\n",
        "for año in range(2023,2024):\n",
        "  cantidad_propiedades = float(input(f'Digite la cantidad de propiedades en el rango de años {año}:'))\n",
        "  total_propiedades += cantidad_propiedades\n",
        "print(f\"La cantidad total de propiedades construidas entre los años 2023 y 2024 es: {total_propiedades}\")"
      ],
      "metadata": {
        "colab": {
          "base_uri": "https://localhost:8080/"
        },
        "id": "D35uYXTVre8z",
        "outputId": "2bbcf8b1-2796-4755-8b3b-9f6bd226cf0a"
      },
      "execution_count": null,
      "outputs": [
        {
          "output_type": "stream",
          "name": "stdout",
          "text": [
            "Digite la cantidad de propiedades en el año 2023:10\n",
            "La cantidad total de propiedades construidas entre los años 2023 y 2024 es: 10.0\n"
          ]
        }
      ]
    },
    {
      "cell_type": "markdown",
      "source": [
        "#Desafio con WHILE y FOR\n"
      ],
      "metadata": {
        "id": "8Z0xAy9QrRKn"
      }
    },
    {
      "cell_type": "code",
      "source": [
        "#1 - Escribe un programa que solicite dos números enteros e imprima todos los números enteros entre ellos.\n",
        "\n",
        "# Solicitar al usuario que ingrese dos números enteros\n",
        "num1 = int(input(\"Ingrese el primer número entero: \"))\n",
        "num2 = int(input(\"Ingrese el segundo número entero: \"))\n",
        "\n",
        "# Determinar el rango de números entre los dos valores ingresados\n",
        "if num1 < num2:\n",
        "    # Si num1 es menor que num2, imprimir en orden ascendente\n",
        "    for i in range(num1, num2 + 1):\n",
        "        print(i)\n",
        "elif num1 > num2:\n",
        "    # Si num1 es mayor que num2, imprimir en orden descendente\n",
        "    for i in range(num1, num2 - 1, -1):\n",
        "        print(i)\n",
        "else:\n",
        "    # Si ambos números son iguales, simplemente imprimir uno de ellos\n",
        "    print(f\"Los números son iguales: {num1}\")\n"
      ],
      "metadata": {
        "colab": {
          "base_uri": "https://localhost:8080/"
        },
        "id": "GKcOkikirHZg",
        "outputId": "e9a0976d-6dde-4caf-ea2c-0b73c54c3b9a"
      },
      "execution_count": null,
      "outputs": [
        {
          "output_type": "stream",
          "name": "stdout",
          "text": [
            "Ingrese el primer número entero: 7\n",
            "Ingrese el segundo número entero: 7\n",
            "Los números son iguales: 7\n"
          ]
        }
      ]
    },
    {
      "cell_type": "code",
      "source": [
        "#2 - Escribe un programa para calcular cuántos días tomará que la colonia de una bacteria A supere o iguale a la colonia de una bacteria B, basado en tasas de crecimiento del 3% y 1.5%, respectivamente. Supón que la colonia A comienza con 4 elementos y B con 10.\n",
        "#Numero inicial de baterias\n",
        "colonia_A = 4\n",
        "colonia_B = 10\n",
        "#Tasas de crecimiento\n",
        "tasa_A = 0.03\n",
        "tasa_B = 0.015\n",
        "#Contador de dias\n",
        "dias = 0\n",
        "# La condición que termina el bucle es cuando\n",
        "# la colonia A supera a la colonia B\n",
        "while colonia_A <= colonia_B:\n",
        "  # Usamos un operador de asignación con multiplicación\n",
        "  colonia_A *= 1 + tasa_A\n",
        "  colonia_B *= 1 + tasa_B\n",
        "  # Contamos los días en cada iteración\n",
        "  dias += 1\n",
        "\n",
        "# Resultado final\n",
        "print(f\"Necesitará {dias} días para que la colonia A supere a la colonia B.\")\n"
      ],
      "metadata": {
        "colab": {
          "base_uri": "https://localhost:8080/"
        },
        "id": "nQBcz_XQyFz2",
        "outputId": "a1b3385b-e056-4f44-b057-f8066d99ea9f"
      },
      "execution_count": null,
      "outputs": [
        {
          "output_type": "stream",
          "name": "stdout",
          "text": [
            "Necesitará 63 días para que la colonia A supere a la colonia B.\n"
          ]
        }
      ]
    },
    {
      "cell_type": "code",
      "source": [
        "#3 - Para procesar una cantidad de 15 datos de evaluaciones de usuarios de un servicio de la empresa, necesitamos verificar si las calificaciones son válidas. Por lo tanto, escribe un programa que recibirá calificaciones del 0 al 5 y verificará si son valores válidos. Si se ingresa una calificación superior a 5 o inferior a 0, se repetirá hasta que el usuario ingrese un valor válido.\n",
        "# Bucle para recopilar las 15 notas\n",
        "for i in range(15):\n",
        "  calificacion =float(input(f\"Ingrese la calificacion del usuario: \"))\n",
        "  # Verifica si la nota está entre 0 y 5\n",
        "  # Si no lo está, el bucle se repetirá hasta que se obtenga un valor válido\n",
        "  while  (calificacion < 0) or (calificacion > 5):\n",
        "    calificacion = float(input(f\"Ingrese la calificacion del usuario nuevamente: \"))\n",
        "\n",
        "  print (f\"Verificacion completa. La calificacion es valida\")\n"
      ],
      "metadata": {
        "colab": {
          "base_uri": "https://localhost:8080/"
        },
        "id": "lmVZwe1e2NYW",
        "outputId": "c4e25941-2abc-418c-c00a-b8909713c1c2"
      },
      "execution_count": null,
      "outputs": [
        {
          "output_type": "stream",
          "name": "stdout",
          "text": [
            "Ingrese la calificacion del usuario: 9\n",
            "Ingrese la calificacion del usuario nuevamente: 2\n",
            "Verificacion completa. La calificacion es valida\n",
            "Ingrese la calificacion del usuario: 1\n",
            "Verificacion completa. La calificacion es valida\n",
            "Ingrese la calificacion del usuario: 3\n",
            "Verificacion completa. La calificacion es valida\n",
            "Ingrese la calificacion del usuario: 9\n",
            "Ingrese la calificacion del usuario nuevamente: 8\n",
            "Ingrese la calificacion del usuario nuevamente: 5\n",
            "Verificacion completa. La calificacion es valida\n",
            "Ingrese la calificacion del usuario: 6\n",
            "Ingrese la calificacion del usuario nuevamente: 4\n",
            "Verificacion completa. La calificacion es valida\n",
            "Ingrese la calificacion del usuario: 2\n",
            "Verificacion completa. La calificacion es valida\n",
            "Ingrese la calificacion del usuario: 1\n",
            "Verificacion completa. La calificacion es valida\n",
            "Ingrese la calificacion del usuario: 3\n",
            "Verificacion completa. La calificacion es valida\n",
            "Ingrese la calificacion del usuario: 7\n",
            "Ingrese la calificacion del usuario nuevamente: 6\n",
            "Ingrese la calificacion del usuario nuevamente: 5\n",
            "Verificacion completa. La calificacion es valida\n",
            "Ingrese la calificacion del usuario: 3\n",
            "Verificacion completa. La calificacion es valida\n",
            "Ingrese la calificacion del usuario: 4\n",
            "Verificacion completa. La calificacion es valida\n",
            "Ingrese la calificacion del usuario: 3\n",
            "Verificacion completa. La calificacion es valida\n",
            "Ingrese la calificacion del usuario: 2\n",
            "Verificacion completa. La calificacion es valida\n",
            "Ingrese la calificacion del usuario: 3\n",
            "Verificacion completa. La calificacion es valida\n",
            "Ingrese la calificacion del usuario: 2\n",
            "Verificacion completa. La calificacion es valida\n"
          ]
        }
      ]
    },
    {
      "cell_type": "code",
      "source": [
        "#4 - Desarrolla un programa que lea un conjunto indefinido de temperaturas en grados Celsius y calcule su promedio. La lectura debe detenerse al ingresar el valor -273°C.\n",
        "#Recopila el dato del usuario.\n",
        "temperatura = float(input(\"Ingrese la temperatura en grados Celsius (ingrese -273 para detener): \"))\n",
        "\n",
        "# Inicializamos un contador y una suma para calcular el promedio\n",
        "contador = 0\n",
        "suma = 0\n",
        "\n",
        "# Bucle para recopilar las temperaturas\n",
        "while temperatura != -273:\n",
        "    # La suma se actualiza sumando la temperatura a la variable suma\n",
        "    suma += temperatura\n",
        "    # Contamos la cantidad de valores recopilados con el contador\n",
        "    contador += 1\n",
        "    # Recopilamos nuevamente la temperatura\n",
        "    temperatura = float(input('Ingresa la temperatura en grados Celsius: '))\n",
        "#Variable del calculo\n",
        "promedio = suma / contador\n",
        "#Vemos el resultado\n",
        "print(f'El promedio de las temperaturas es: {promedio}')\n"
      ],
      "metadata": {
        "colab": {
          "base_uri": "https://localhost:8080/"
        },
        "id": "vPOESwbc33La",
        "outputId": "5cbb3fcf-e351-4380-9b78-de1decc8959c"
      },
      "execution_count": null,
      "outputs": [
        {
          "output_type": "stream",
          "name": "stdout",
          "text": [
            "Ingrese la temperatura en grados Celsius (ingrese -273 para detener): 180\n",
            "Ingresa la temperatura en grados Celsius: 30\n",
            "Ingresa la temperatura en grados Celsius: 30\n",
            "Ingresa la temperatura en grados Celsius: 10\n",
            "Ingresa la temperatura en grados Celsius: 20\n",
            "Ingresa la temperatura en grados Celsius: 10\n",
            "Ingresa la temperatura en grados Celsius: 2\n",
            "Ingresa la temperatura en grados Celsius: 9\n",
            "Ingresa la temperatura en grados Celsius: -235\n",
            "Ingresa la temperatura en grados Celsius: 180\n",
            "Ingresa la temperatura en grados Celsius: -273\n",
            "El promedio de las temperaturas es: 23.6\n"
          ]
        }
      ]
    },
    {
      "cell_type": "code",
      "source": [
        "\"\"\"5 - Escribe un programa que calcule el factorial de un número entero proporcionado por el usuario. Recuerda que el factorial de un\n",
        "número entero es el producto de ese número por todos sus antecesores hasta llegar al número 1. Por ejemplo,\n",
        "el factorial de 5 es 5 x 4 x 3 x 2 x 1 = 120.\"\"\"\n",
        "\n",
        "# Solicita el número\n",
        "num = int(input('Ingresa un número entero: '))\n",
        "\n",
        "# Inicializa el cálculo\n",
        "factorial = 1\n",
        "\n",
        "# Nuestro contador comienza con el número máximo\n",
        "# y se realizará un conteo decreciente con el operador -=\n",
        "i = num\n",
        "while i > 0:\n",
        "    # Queremos multiplicar el valor factorial por el número\n",
        "    # y todos los números por debajo de él hasta 1\n",
        "    factorial *= i\n",
        "    i -= 1\n",
        "\n",
        "# Imprime el cálculo del factorial\n",
        "print(f'El factorial de {num} es {factorial}')"
      ],
      "metadata": {
        "colab": {
          "base_uri": "https://localhost:8080/"
        },
        "id": "q7hT1gUM33KG",
        "outputId": "5c803f19-8cf4-40a1-cde2-d980de8c27b0"
      },
      "execution_count": null,
      "outputs": [
        {
          "output_type": "stream",
          "name": "stdout",
          "text": [
            "Ingresa un número entero: 10\n",
            "El factorial de 10 es 3628800\n"
          ]
        }
      ]
    },
    {
      "cell_type": "markdown",
      "source": [],
      "metadata": {
        "id": "slFO3Ju0oqQ1"
      }
    },
    {
      "cell_type": "code",
      "source": [
        "\"\"\"Momento de los proyectos\n",
        "\n",
        "6 - Escribe un programa que genere la tabla de multiplicar de un número entero del 1 al 10, según la elección del usuario. Como ejemplo,\n",
        "para el número 2, la tabla de multiplicar debe mostrarse en el siguiente formato:\"\"\"\n",
        "\n",
        "# Solicitar al usuario que ingrese un número entre 1 y 10\n",
        "numero = int(input(\"Ingrese un número entero del 1 al 10 para generar su tabla de multiplicar: \"))\n",
        "\n",
        "# Validar que el número esté en el rango correcto\n",
        "if numero < 1 or numero > 10:\n",
        "    print(\"El número ingresado no está en el rango válido (1-10).\")\n",
        "else:\n",
        "    # Mostrar la tabla utilizando un bucle for\n",
        "    print(f\"\\nTabla de multiplicar del {numero} usando FOR:\")\n",
        "    for i in range(1, 11):  # Itera desde 1 hasta 10\n",
        "        print(f\"{numero} x {i} = {numero * i}\")\n",
        "\n",
        "    # Mostrar la tabla utilizando un bucle while\n",
        "    print(f\"\\nTabla de multiplicar del {numero} usando WHILE:\")\n",
        "    contador = 1\n",
        "    while contador <= 10:\n",
        "        print(f\"{numero} x {contador} = {numero * contador}\")\n",
        "        contador += 1"
      ],
      "metadata": {
        "colab": {
          "base_uri": "https://localhost:8080/"
        },
        "id": "ERbFDhFwBA9e",
        "outputId": "c1dca922-8770-457f-9d5a-c53fea33d869"
      },
      "execution_count": null,
      "outputs": [
        {
          "output_type": "stream",
          "name": "stdout",
          "text": [
            "Ingrese un número entero del 1 al 10 para generar su tabla de multiplicar: 3\n",
            "\n",
            "Tabla de multiplicar del 3 usando FOR:\n",
            "3 x 1 = 3\n",
            "3 x 2 = 6\n",
            "3 x 3 = 9\n",
            "3 x 4 = 12\n",
            "3 x 5 = 15\n",
            "3 x 6 = 18\n",
            "3 x 7 = 21\n",
            "3 x 8 = 24\n",
            "3 x 9 = 27\n",
            "3 x 10 = 30\n",
            "\n",
            "Tabla de multiplicar del 3 usando WHILE:\n",
            "3 x 1 = 3\n",
            "3 x 2 = 6\n",
            "3 x 3 = 9\n",
            "3 x 4 = 12\n",
            "3 x 5 = 15\n",
            "3 x 6 = 18\n",
            "3 x 7 = 21\n",
            "3 x 8 = 24\n",
            "3 x 9 = 27\n",
            "3 x 10 = 30\n"
          ]
        }
      ]
    },
    {
      "cell_type": "code",
      "source": [
        "\"\"\"7 - Los números primos tienen diversas aplicaciones en Ciencia de Datos, como en criptografía y seguridad. Un número primo es aquel que es divisible solo por sí mismo y por 1.\n",
        "Por lo tanto, crea un programa que solicite un número entero y determine si es un número primo o no.\"\"\"\n",
        "# Programa para determinar si un número es primo\n",
        "\n",
        "# Solicitar al usuario que ingrese un número entero\n",
        "numero = int(input(\"Ingrese un número entero: \"))\n",
        "\n",
        "# Validar que el número sea mayor o igual a 2 (los números primos son >= 2)\n",
        "if numero < 2:\n",
        "    print(f\"El número {numero} no es primo.\")\n",
        "else:\n",
        "    # Variable para determinar si el número es primo\n",
        "    es_primo = True\n",
        "\n",
        "    # Usar un bucle while para validar divisores\n",
        "    divisor = 2  # Empezamos con el primer divisor posible\n",
        "    while divisor <= int(numero ** 0.5):  # Solo necesitamos verificar hasta la raíz cuadrada del número\n",
        "        # Usar un bucle for para iterar sobre posibles divisores adicionales\n",
        "        for i in range(divisor, divisor + 1):  # Simplemente itera una vez por cada divisor\n",
        "            if numero % i == 0:  # Si el número es divisible por i\n",
        "                es_primo = False\n",
        "                break  # Salir del bucle for si encontramos un divisor\n",
        "        if not es_primo:\n",
        "            break  # Salir del bucle while si ya sabemos que no es primo\n",
        "        divisor += 1  # Incrementar el divisor para seguir verificando\n",
        "\n",
        "    # Mostrar el resultado\n",
        "    if es_primo:\n",
        "        print(f\"El número {numero} es primo.\")\n",
        "    else:\n",
        "        print(f\"El número {numero} no es primo.\")"
      ],
      "metadata": {
        "colab": {
          "base_uri": "https://localhost:8080/"
        },
        "id": "yEcJaxjiEhme",
        "outputId": "feb15283-cf2d-4f52-a179-65efe367551c"
      },
      "execution_count": null,
      "outputs": [
        {
          "output_type": "stream",
          "name": "stdout",
          "text": [
            "Ingrese un número entero: 6\n",
            "El número 6 no es primo.\n"
          ]
        }
      ]
    },
    {
      "cell_type": "code",
      "source": [
        "\"\"\"8 - Vamos a comprender la distribución de edades de los pensionistas de una empresa de seguros. Escribe un programa que lea las edades de una cantidad no informada de clientes y muestre la distribución en los intervalos [0-25], [26-50], [51-75] y [76-100].\n",
        "La entrada de datos se detendrá al ingresar un número negativo.\"\"\"\n",
        "# Recopilamos las edades de los clientes\n",
        "edad = int(input('Ingresa la edad (o un número negativo para finalizar): '))\n",
        "\n",
        "# Inicializamos las variables de conteo\n",
        "contador_0_25 = 0 # contador de edades entre 0 y 25\n",
        "contador_26_50 = 0 # contador de edades entre 26 y 50\n",
        "contador_51_75 = 0 # contador de edades entre 51 y 75\n",
        "contador_76_100 = 0 # contador de edades entre 76 y 100\n",
        "\n",
        "# Nuestro código se ejecuta hasta que el valor de edad sea negativo\n",
        "while edad >= 0:\n",
        "    # Contamos cada caso\n",
        "    if edad >= 0 and edad <= 25:\n",
        "        contador_0_25 += 1\n",
        "    elif edad >= 26 and edad <= 50:\n",
        "        contador_26_50 += 1\n",
        "    elif edad >= 51 and edad <= 75:\n",
        "        contador_51_75 += 1\n",
        "    elif edad >= 76 and edad <= 100:\n",
        "        contador_76_100 += 1\n",
        "\n",
        "    # Repetimos el proceso de entrada de datos hasta que se ingrese un número negativo\n",
        "    edad = int(input('Ingresa la edad (o un número negativo para finalizar): '))\n",
        "\n",
        "# Mostramos los resultados\n",
        "print('Distribución de edades:')\n",
        "print('[0-25]:', contador_0_25)\n",
        "print('[26-50]:', contador_26_50)\n",
        "print('[51-75]:', contador_51_75)\n",
        "print('[76-100]:', contador_76_100)\n"
      ],
      "metadata": {
        "colab": {
          "base_uri": "https://localhost:8080/"
        },
        "id": "s4CtVcb-FT-5",
        "outputId": "caaf8790-f09e-4880-e0e3-d1e4e1491e32"
      },
      "execution_count": null,
      "outputs": [
        {
          "output_type": "stream",
          "name": "stdout",
          "text": [
            "Ingresa la edad (o un número negativo para finalizar): 5\n",
            "Ingresa la edad (o un número negativo para finalizar): 70\n",
            "Ingresa la edad (o un número negativo para finalizar): 25\n",
            "Ingresa la edad (o un número negativo para finalizar): 30\n",
            "Ingresa la edad (o un número negativo para finalizar): 15\n",
            "Ingresa la edad (o un número negativo para finalizar): 7\n",
            "Ingresa la edad (o un número negativo para finalizar): 52\n",
            "Ingresa la edad (o un número negativo para finalizar): 9\n",
            "Ingresa la edad (o un número negativo para finalizar): 10\n",
            "Ingresa la edad (o un número negativo para finalizar): -1\n",
            "Distribución de edades:\n",
            "[0-25]: 6\n",
            "[26-50]: 1\n",
            "[51-75]: 2\n",
            "[76-100]: 0\n"
          ]
        }
      ]
    },
    {
      "cell_type": "code",
      "source": [
        "# Inicializamos las variables contadoras\n",
        "votos_candidato1 = 0\n",
        "votos_candidato2 = 0\n",
        "votos_candidato3 = 0\n",
        "votos_candidato4 = 0\n",
        "votos_nulos = 0\n",
        "votos_blanco = 0\n",
        "\n",
        "# Inicio del bucle para leer los votos\n",
        "for i in range(0, 20):\n",
        "    voto = int(input('Ingresa tu voto: '))\n",
        "    if voto == 1:\n",
        "        votos_candidato1 += 1\n",
        "    elif voto == 2:\n",
        "        votos_candidato2 += 1\n",
        "    elif voto == 3:\n",
        "        votos_candidato3 += 1\n",
        "    elif voto == 4:\n",
        "        votos_candidato4 += 1\n",
        "    elif voto == 5:\n",
        "        votos_nulos += 1\n",
        "    elif voto == 6:\n",
        "        votos_blanco += 1\n",
        "    else:\n",
        "        print(\"Voto inválido.\")\n",
        "\n",
        "print(f'Votos candidato 1: {votos_candidato1}')\n",
        "print(f'Votos candidato 2: {votos_candidato2}')\n",
        "print(f'Votos candidato 3: {votos_candidato3}')\n",
        "print(f'Votos candidato 4: {votos_candidato4}')\n",
        "print(f'Votos nulos: {votos_nulos}')\n",
        "print(f'Votos en blanco: {votos_blanco}')\n",
        "print(f'Porcentaje de votos nulos: {(votos_nulos / 20 * 100)}')\n",
        "print(f'Porcentaje de votos en blanco: {(votos_blanco / 20 * 100)}')"
      ],
      "metadata": {
        "colab": {
          "base_uri": "https://localhost:8080/"
        },
        "id": "Dh_N_8RSGZqn",
        "outputId": "b17a42a8-9484-404e-be75-8cb65805c913"
      },
      "execution_count": null,
      "outputs": [
        {
          "output_type": "stream",
          "name": "stdout",
          "text": [
            "Ingresa tu voto: 8\n",
            "Voto inválido.\n",
            "Ingresa tu voto: 5\n",
            "Ingresa tu voto: 3\n",
            "Ingresa tu voto: 2\n",
            "Ingresa tu voto: 4\n",
            "Ingresa tu voto: 2\n",
            "Ingresa tu voto: 6\n",
            "Ingresa tu voto: 3\n",
            "Ingresa tu voto: 4\n",
            "Ingresa tu voto: 5\n",
            "Ingresa tu voto: 3\n",
            "Ingresa tu voto: 1\n",
            "Ingresa tu voto: 2\n",
            "Ingresa tu voto: 5\n",
            "Ingresa tu voto: 3\n",
            "Ingresa tu voto: 6\n",
            "Ingresa tu voto: 4\n",
            "Ingresa tu voto: 5\n",
            "Ingresa tu voto: 6\n",
            "Ingresa tu voto: 2\n",
            "Votos candidato 1: 1\n",
            "Votos candidato 2: 4\n",
            "Votos candidato 3: 4\n",
            "Votos candidato 4: 3\n",
            "Votos nulos: 4\n",
            "Votos en blanco: 3\n",
            "Porcentaje de votos nulos: 20.0\n",
            "Porcentaje de votos en blanco: 15.0\n"
          ]
        }
      ]
    },
    {
      "cell_type": "markdown",
      "source": [
        "#LISTAS\n"
      ],
      "metadata": {
        "id": "gDJA45JvHWK6"
      }
    },
    {
      "cell_type": "code",
      "source": [
        "lista = [\"Cristian Parada\",9.5,8.4,7.5,True]\n",
        "lista\n"
      ],
      "metadata": {
        "colab": {
          "base_uri": "https://localhost:8080/"
        },
        "id": "zNngGnDrRxG8",
        "outputId": "48417d6e-dd0c-4615-91e3-9b7effc18d9b"
      },
      "execution_count": 2,
      "outputs": [
        {
          "output_type": "execute_result",
          "data": {
            "text/plain": [
              "['Cristian Parada', 9.5, 8.4, 7.5, True]"
            ]
          },
          "metadata": {},
          "execution_count": 2
        }
      ]
    },
    {
      "cell_type": "code",
      "source": [
        "type(lista)"
      ],
      "metadata": {
        "colab": {
          "base_uri": "https://localhost:8080/"
        },
        "id": "7QmuTJKOWHG4",
        "outputId": "6948515f-e2ba-42d4-eb83-23841469df1a"
      },
      "execution_count": 3,
      "outputs": [
        {
          "output_type": "execute_result",
          "data": {
            "text/plain": [
              "list"
            ]
          },
          "metadata": {},
          "execution_count": 3
        }
      ]
    },
    {
      "cell_type": "code",
      "source": [
        "lista[0]"
      ],
      "metadata": {
        "colab": {
          "base_uri": "https://localhost:8080/",
          "height": 35
        },
        "id": "k_bcyfeAXYit",
        "outputId": "8779d22d-1fb2-4aa8-c6f0-2a849fbdbe68"
      },
      "execution_count": 4,
      "outputs": [
        {
          "output_type": "execute_result",
          "data": {
            "text/plain": [
              "'Cristian Parada'"
            ],
            "application/vnd.google.colaboratory.intrinsic+json": {
              "type": "string"
            }
          },
          "metadata": {},
          "execution_count": 4
        }
      ]
    },
    {
      "cell_type": "code",
      "source": [
        "type(lista[0])"
      ],
      "metadata": {
        "colab": {
          "base_uri": "https://localhost:8080/"
        },
        "id": "bydNXvuLYg2Z",
        "outputId": "5a946fff-893e-41dd-fd63-4fc57b491f43"
      },
      "execution_count": null,
      "outputs": [
        {
          "output_type": "execute_result",
          "data": {
            "text/plain": [
              "str"
            ]
          },
          "metadata": {},
          "execution_count": 8
        }
      ]
    },
    {
      "cell_type": "code",
      "source": [
        "#Para leer cada elemento de la lista utilizamos for\n",
        "for elemento in lista:\n",
        "  print(elemento)"
      ],
      "metadata": {
        "colab": {
          "base_uri": "https://localhost:8080/"
        },
        "id": "VK-MB16-YkLN",
        "outputId": "f61a5823-3456-4699-9ca0-5cf660d18308"
      },
      "execution_count": null,
      "outputs": [
        {
          "output_type": "stream",
          "name": "stdout",
          "text": [
            "Cristian Parada\n",
            "9.5\n",
            "8.4\n",
            "7.5\n",
            "True\n"
          ]
        }
      ]
    },
    {
      "cell_type": "code",
      "source": [
        "#Cambiando el valor del indice 2\n",
        "lista[2] = 10.0\n",
        "lista"
      ],
      "metadata": {
        "colab": {
          "base_uri": "https://localhost:8080/"
        },
        "id": "BuCirXmRY5Vr",
        "outputId": "d64fd213-a1e7-4691-b596-191a305955e9"
      },
      "execution_count": 5,
      "outputs": [
        {
          "output_type": "execute_result",
          "data": {
            "text/plain": [
              "['Cristian Parada', 9.5, 10.0, 7.5, True]"
            ]
          },
          "metadata": {},
          "execution_count": 5
        }
      ]
    },
    {
      "cell_type": "code",
      "source": [
        "#Obteniendo promedio con elementos de la lista\n",
        "promedio = (lista[1]+lista[2]+lista[3])/3\n",
        "promedio"
      ],
      "metadata": {
        "colab": {
          "base_uri": "https://localhost:8080/"
        },
        "id": "3uHepO5_ZVl3",
        "outputId": "2ec0d7f4-263d-4aed-c348-c171db841009"
      },
      "execution_count": 6,
      "outputs": [
        {
          "output_type": "execute_result",
          "data": {
            "text/plain": [
              "9.0"
            ]
          },
          "metadata": {},
          "execution_count": 6
        }
      ]
    },
    {
      "cell_type": "markdown",
      "source": [
        "#Manipulacion de listas\n",
        "Las listas son muy utiles en Python porque nos permiten almacenar y acceder a una coleccion de items de manera organizada y rapida.\n",
        "Para visualizar la cantidad de elementos de un conjunto utilizamos la funcion [len](https://docs.python.org/3/library/functions.html#len)()"
      ],
      "metadata": {
        "id": "zvpF5K2SaACv"
      }
    },
    {
      "cell_type": "code",
      "source": [
        "len(lista)"
      ],
      "metadata": {
        "id": "tCCj-DtBZ_CU",
        "colab": {
          "base_uri": "https://localhost:8080/"
        },
        "outputId": "37a38366-c96c-4e20-9b8a-b585a9e91d28"
      },
      "execution_count": 7,
      "outputs": [
        {
          "output_type": "execute_result",
          "data": {
            "text/plain": [
              "5"
            ]
          },
          "metadata": {},
          "execution_count": 7
        }
      ]
    },
    {
      "cell_type": "code",
      "source": [
        "#slice notation o particion de lista\n",
        "lista[1:4]"
      ],
      "metadata": {
        "id": "Heiye8ujTQSq",
        "colab": {
          "base_uri": "https://localhost:8080/"
        },
        "outputId": "8e23be65-5cf9-4de8-a035-b330450a4ddb"
      },
      "execution_count": 9,
      "outputs": [
        {
          "output_type": "execute_result",
          "data": {
            "text/plain": [
              "10.0"
            ]
          },
          "metadata": {},
          "execution_count": 9
        }
      ]
    },
    {
      "cell_type": "code",
      "source": [
        "#ver hasta un elemento de la lista hacia la izquierda\n",
        "lista[:2]"
      ],
      "metadata": {
        "colab": {
          "base_uri": "https://localhost:8080/"
        },
        "id": "MyTMtoJRdk9f",
        "outputId": "40936328-a8bc-41aa-d2d4-0ff49cec43db"
      },
      "execution_count": 12,
      "outputs": [
        {
          "output_type": "execute_result",
          "data": {
            "text/plain": [
              "['Cristian Parada', 9.5]"
            ]
          },
          "metadata": {},
          "execution_count": 12
        }
      ]
    },
    {
      "cell_type": "code",
      "source": [
        "#ver hasta un elemento de la lista hacia la izquierda\n",
        "lista[2:]"
      ],
      "metadata": {
        "colab": {
          "base_uri": "https://localhost:8080/"
        },
        "id": "Nc3gOCtnd2hX",
        "outputId": "7980ef51-24a8-4062-cc61-63050d32adb5"
      },
      "execution_count": 13,
      "outputs": [
        {
          "output_type": "execute_result",
          "data": {
            "text/plain": [
              "[10.0, 7.5, True]"
            ]
          },
          "metadata": {},
          "execution_count": 13
        }
      ]
    },
    {
      "cell_type": "code",
      "source": [
        "lista[:]"
      ],
      "metadata": {
        "colab": {
          "base_uri": "https://localhost:8080/"
        },
        "id": "K1d-ii_Pd2ed",
        "outputId": "a959bd0d-67c3-4f99-adbb-a753bff355b9"
      },
      "execution_count": 14,
      "outputs": [
        {
          "output_type": "execute_result",
          "data": {
            "text/plain": [
              "['Cristian Parada', 9.5, 10.0, 7.5, True]"
            ]
          },
          "metadata": {},
          "execution_count": 14
        }
      ]
    },
    {
      "cell_type": "markdown",
      "source": [
        "Funcion [append](https://www.datacamp.com/tutorial/python-list-methods?utm_source=google&utm_medium=paid_search&utm_campaignid=21057859163&utm_adgroupid=157296744657&utm_device=c&utm_keyword=&utm_matchtype=&utm_network=g&utm_adpostion=&utm_creative=733936255805&utm_targetid=aud-2191467489990:dsa-2218886984100&utm_loc_interest_ms=&utm_loc_physical_ms=9216685&utm_content=ps-other~latam-en~dsa~tofu~tutorial-python&accountid=9624585688&utm_campaign=230119_1-ps-other~dsa~tofu_2-b2c_3-latam-en_4-prc_5-na_6-na_7-le_8-pdsh-go_9-nb-e_10-na_11-na&gad_source=1&gbraid=0AAAAADQ9WsFg3JIibEH822_Oty1MeUCk3&gclid=Cj0KCQjwzYLABhD4ARIsALySuCT1dFVAduQhclpOOwO1a-lRqJqQ3OTHLKM3Ty0HHv4MLfaqGEoCng8aAvvvEALw_wcB)() <br>\n",
        "Añade un elemento al final de la lista."
      ],
      "metadata": {
        "id": "D5cZLr3_fZXM"
      }
    },
    {
      "cell_type": "code",
      "source": [
        "meses = ['enero', 'febrero', 'marzo', 'abril']\n",
        "meses.append('mayo')\n",
        "print(meses)\n"
      ],
      "metadata": {
        "colab": {
          "base_uri": "https://localhost:8080/"
        },
        "id": "A02bnjJafXJj",
        "outputId": "fe5a828f-3fd4-4b60-d8b5-ca1c9d6c2232"
      },
      "execution_count": 15,
      "outputs": [
        {
          "output_type": "stream",
          "name": "stdout",
          "text": [
            "['enero', 'febrero', 'marzo', 'abril', 'mayo']\n"
          ]
        }
      ]
    },
    {
      "cell_type": "markdown",
      "source": [
        "Funcion [extend](https://www.ionos.com/es-us/digitalguide/paginas-web/desarrollo-web/extend-de-python/)() <br>\n",
        "\n",
        "Añade varios elementos al final de la lista."
      ],
      "metadata": {
        "id": "13TmLUjNgNL-"
      }
    },
    {
      "cell_type": "code",
      "source": [
        "lista.extend([10.0,8.0,9.0,7.5])\n",
        "print(lista)"
      ],
      "metadata": {
        "colab": {
          "base_uri": "https://localhost:8080/"
        },
        "id": "Yhn4H0ctgMp8",
        "outputId": "1297c035-83d3-4b70-d96b-bc88633d2501"
      },
      "execution_count": 20,
      "outputs": [
        {
          "output_type": "stream",
          "name": "stdout",
          "text": [
            "['Cristian Parada', 9.5, 10.0, 7.5, True, 10.0, 8.0, 9.0, 7.5, 10.0, 8.0, 9.0, 7.5]\n"
          ]
        }
      ]
    },
    {
      "cell_type": "markdown",
      "source": [
        "Funcion [remove](https://www.datacamp.com/es/tutorial/python-remove-item-from-list)()<br>\n",
        "Remueve un elemento especifico de la lista."
      ],
      "metadata": {
        "id": "5Ur3goLdkz52"
      }
    },
    {
      "cell_type": "code",
      "source": [
        "lista.remove(10.0)\n",
        "print(\"Elemento eliminado!\")"
      ],
      "metadata": {
        "colab": {
          "base_uri": "https://localhost:8080/"
        },
        "id": "uAWzvfFilPDT",
        "outputId": "214ecfdb-e330-49d3-f04f-43a2fe02162b"
      },
      "execution_count": 33,
      "outputs": [
        {
          "output_type": "stream",
          "name": "stdout",
          "text": [
            "Elemento eliminado!\n"
          ]
        }
      ]
    },
    {
      "cell_type": "code",
      "source": [
        "lista"
      ],
      "metadata": {
        "colab": {
          "base_uri": "https://localhost:8080/"
        },
        "id": "AWa37qzGmMGE",
        "outputId": "f3938c76-96e2-421b-eb1d-2ba2a65159cc"
      },
      "execution_count": 34,
      "outputs": [
        {
          "output_type": "execute_result",
          "data": {
            "text/plain": [
              "['Cristian Parada', 9.5, True, 9.0, 7.5, 10.0, 8.0, 9.0, 7.5]"
            ]
          },
          "metadata": {},
          "execution_count": 34
        }
      ]
    },
    {
      "cell_type": "code",
      "source": [
        "#Ejemplo sobre listas\n",
        "razas_de_perros = ['Labrador Retriever',\n",
        "                   'Bulldog Francés',\n",
        "                   'Pastor Alemán',\n",
        "                   'Poodle']"
      ],
      "metadata": {
        "id": "vM71A-wVnJmD"
      },
      "execution_count": 37,
      "outputs": []
    },
    {
      "cell_type": "code",
      "source": [
        "#Utilizando la funcion insert en la lista\n",
        "razas_de_perros.insert(1, 'Golden Retriever')\n",
        "razas_de_perros"
      ],
      "metadata": {
        "colab": {
          "base_uri": "https://localhost:8080/"
        },
        "id": "RRGaZaJwnY3D",
        "outputId": "3c3039fe-b224-4bbd-970d-c004911bf6f0"
      },
      "execution_count": 38,
      "outputs": [
        {
          "output_type": "execute_result",
          "data": {
            "text/plain": [
              "['Labrador Retriever',\n",
              " 'Golden Retriever',\n",
              " 'Bulldog Francés',\n",
              " 'Pastor Alemán',\n",
              " 'Poodle']"
            ]
          },
          "metadata": {},
          "execution_count": 38
        }
      ]
    },
    {
      "cell_type": "code",
      "source": [
        "#El método pop() elimina el elemento en una posición específica de la lista y lo devuelve como salida al ejecutar el método.\n",
        "razas_de_perros.pop(1)"
      ],
      "metadata": {
        "colab": {
          "base_uri": "https://localhost:8080/",
          "height": 35
        },
        "id": "mkV_2nDynbw3",
        "outputId": "e3aaed38-ac71-4ac2-96d9-6fe622b3c22f"
      },
      "execution_count": 39,
      "outputs": [
        {
          "output_type": "execute_result",
          "data": {
            "text/plain": [
              "'Golden Retriever'"
            ],
            "application/vnd.google.colaboratory.intrinsic+json": {
              "type": "string"
            }
          },
          "metadata": {},
          "execution_count": 39
        }
      ]
    },
    {
      "cell_type": "code",
      "source": [
        "#El método index() devuelve el índice de un elemento específico en la lista.\n",
        "razas_de_perros.index('Pastor Alemán')"
      ],
      "metadata": {
        "colab": {
          "base_uri": "https://localhost:8080/"
        },
        "id": "43BYzLb6no27",
        "outputId": "1ca7609d-945b-41ab-85bf-a0e42d3b053f"
      },
      "execution_count": 40,
      "outputs": [
        {
          "output_type": "execute_result",
          "data": {
            "text/plain": [
              "2"
            ]
          },
          "metadata": {},
          "execution_count": 40
        }
      ]
    },
    {
      "cell_type": "code",
      "source": [
        "#El método sort() ordena los elementos de la lista en orden ascendente o descendente.\n",
        "razas_de_perros.sort()\n",
        "razas_de_perros"
      ],
      "metadata": {
        "colab": {
          "base_uri": "https://localhost:8080/"
        },
        "id": "kAl7Cd48nvIw",
        "outputId": "0f38f1b9-981a-42d4-8250-d77c4553be15"
      },
      "execution_count": 41,
      "outputs": [
        {
          "output_type": "execute_result",
          "data": {
            "text/plain": [
              "['Bulldog Francés', 'Labrador Retriever', 'Pastor Alemán', 'Poodle']"
            ]
          },
          "metadata": {},
          "execution_count": 41
        }
      ]
    },
    {
      "cell_type": "markdown",
      "source": [
        "#Diccionarios\n",
        "Son un tipo de estructura de datos que almacenan pares de #llave-valor estos son delimitados por {} y los pares llave-valor delimitados por comas."
      ],
      "metadata": {
        "id": "14Kz_noFm71Z"
      }
    },
    {
      "cell_type": "code",
      "source": [
        "diccionario= {'llave1': 1,\n",
        "              'llave2': 2}\n",
        "\n",
        "print(diccionario)\n",
        "type(diccionario)"
      ],
      "metadata": {
        "colab": {
          "base_uri": "https://localhost:8080/"
        },
        "id": "eyDYdJu7x7bW",
        "outputId": "a4d1aff0-4065-4eb8-fef0-7d5f5d2f387d"
      },
      "execution_count": 44,
      "outputs": [
        {
          "output_type": "stream",
          "name": "stdout",
          "text": [
            "{'llave1': 1, 'llave2': 2}\n"
          ]
        },
        {
          "output_type": "execute_result",
          "data": {
            "text/plain": [
              "dict"
            ]
          },
          "metadata": {},
          "execution_count": 44
        }
      ]
    },
    {
      "cell_type": "markdown",
      "source": [
        "Vamos a crear un conjunto de datos con la informacion de matricula de un\n",
        "estudiante los datos son:\n",
        "\n",
        "*  Matricula: 2000016899\n",
        "*  Dia de registro: 35\n",
        "*  Mes de registro: 10\n",
        "*  Grupo: 2E"
      ],
      "metadata": {
        "id": "VH83-br6zHXb"
      }
    },
    {
      "cell_type": "code",
      "source": [
        "estudiante = {'matricula': 2000016899,\n",
        "'dia_registro': 35,\n",
        "'mes_registro': 10,\n",
        "'grupo': '2E'}\n",
        "\n",
        "estudiante\n"
      ],
      "metadata": {
        "colab": {
          "base_uri": "https://localhost:8080/"
        },
        "id": "DaUFWnR3yyu7",
        "outputId": "204a2263-a06b-4172-f04c-1c383468178a"
      },
      "execution_count": 54,
      "outputs": [
        {
          "output_type": "execute_result",
          "data": {
            "text/plain": [
              "{'matricula': 2000016899,\n",
              " 'dia_registro': 35,\n",
              " 'mes_registro': 10,\n",
              " 'grupo': '2E'}"
            ]
          },
          "metadata": {},
          "execution_count": 54
        }
      ]
    },
    {
      "cell_type": "code",
      "source": [
        "estudiante['matricula']"
      ],
      "metadata": {
        "colab": {
          "base_uri": "https://localhost:8080/"
        },
        "id": "8D_b538z20wj",
        "outputId": "740d0265-cad7-41bf-c55c-b5fb852e6405"
      },
      "execution_count": 55,
      "outputs": [
        {
          "output_type": "execute_result",
          "data": {
            "text/plain": [
              "2000016899"
            ]
          },
          "metadata": {},
          "execution_count": 55
        }
      ]
    },
    {
      "cell_type": "code",
      "source": [
        "estudiante['grupo']='2G'"
      ],
      "metadata": {
        "id": "kHCzmCjh20u9"
      },
      "execution_count": 57,
      "outputs": []
    },
    {
      "cell_type": "code",
      "source": [
        "#Asignando otra llave a nuestro diccionario.\n",
        "estudiante['modalidad']='EAD'"
      ],
      "metadata": {
        "id": "NwNgHXJS30zL"
      },
      "execution_count": 60,
      "outputs": []
    },
    {
      "cell_type": "code",
      "source": [
        "print(estudiante)\n",
        "len(estudiante)"
      ],
      "metadata": {
        "colab": {
          "base_uri": "https://localhost:8080/"
        },
        "id": "DibNGjDF4QYd",
        "outputId": "0eadc913-b4c4-4920-e778-94aebd450b3b"
      },
      "execution_count": 63,
      "outputs": [
        {
          "output_type": "stream",
          "name": "stdout",
          "text": [
            "{'matricula': 2000016899, 'dia_registro': 35, 'mes_registro': 10, 'grupo': '2G', 'modalidad': 'EAD'}\n"
          ]
        },
        {
          "output_type": "execute_result",
          "data": {
            "text/plain": [
              "5"
            ]
          },
          "metadata": {},
          "execution_count": 63
        }
      ]
    },
    {
      "cell_type": "code",
      "source": [
        "#pop()  remueve un item del diccionario.\n",
        "estudiante.pop('grupo')"
      ],
      "metadata": {
        "colab": {
          "base_uri": "https://localhost:8080/",
          "height": 35
        },
        "id": "RBYbWbcX6j0S",
        "outputId": "14a1e253-cad4-42ec-b65f-027a724bce3e"
      },
      "execution_count": 64,
      "outputs": [
        {
          "output_type": "execute_result",
          "data": {
            "text/plain": [
              "'2G'"
            ],
            "application/vnd.google.colaboratory.intrinsic+json": {
              "type": "string"
            }
          },
          "metadata": {},
          "execution_count": 64
        }
      ]
    },
    {
      "cell_type": "code",
      "source": [
        "estudiante"
      ],
      "metadata": {
        "colab": {
          "base_uri": "https://localhost:8080/"
        },
        "id": "ElO1NGVB63tH",
        "outputId": "4c243011-b6e9-41b7-9b11-93f9b221ea39"
      },
      "execution_count": 65,
      "outputs": [
        {
          "output_type": "execute_result",
          "data": {
            "text/plain": [
              "{'matricula': 2000016899,\n",
              " 'dia_registro': 35,\n",
              " 'mes_registro': 10,\n",
              " 'modalidad': 'EAD'}"
            ]
          },
          "metadata": {},
          "execution_count": 65
        }
      ]
    },
    {
      "cell_type": "code",
      "source": [
        "#items() retorna una lista de pares llave-valor del diccionario.\n",
        "estudiante.items()"
      ],
      "metadata": {
        "colab": {
          "base_uri": "https://localhost:8080/"
        },
        "id": "VCp47i_Y63jw",
        "outputId": "563b3583-0096-4757-9851-2476ccd5f311"
      },
      "execution_count": 66,
      "outputs": [
        {
          "output_type": "execute_result",
          "data": {
            "text/plain": [
              "dict_items([('matricula', 2000016899), ('dia_registro', 35), ('mes_registro', 10), ('modalidad', 'EAD')])"
            ]
          },
          "metadata": {},
          "execution_count": 66
        }
      ]
    },
    {
      "cell_type": "code",
      "source": [
        "#keys() retorna una lista de las llaves del diccionario.\n",
        "estudiante.keys()"
      ],
      "metadata": {
        "colab": {
          "base_uri": "https://localhost:8080/"
        },
        "id": "k65829SS-zWL",
        "outputId": "c80f512d-d993-4c88-fce2-9691fe1add9d"
      },
      "execution_count": 67,
      "outputs": [
        {
          "output_type": "execute_result",
          "data": {
            "text/plain": [
              "dict_keys(['matricula', 'dia_registro', 'mes_registro', 'modalidad'])"
            ]
          },
          "metadata": {},
          "execution_count": 67
        }
      ]
    },
    {
      "cell_type": "code",
      "source": [
        "#values() retorna una lista de los valores de un diccionario.\n",
        "estudiante.values()"
      ],
      "metadata": {
        "colab": {
          "base_uri": "https://localhost:8080/"
        },
        "id": "R_ktjXr9_H0e",
        "outputId": "d65253bc-a487-4e9e-99f2-dc7242b87c92"
      },
      "execution_count": 69,
      "outputs": [
        {
          "output_type": "execute_result",
          "data": {
            "text/plain": [
              "dict_values([2000016899, 35, 10, 'EAD'])"
            ]
          },
          "metadata": {},
          "execution_count": 69
        }
      ]
    },
    {
      "cell_type": "markdown",
      "source": [
        "Lectura de valores con el lazo FOR"
      ],
      "metadata": {
        "id": "VEvY94vFDfr4"
      }
    },
    {
      "cell_type": "code",
      "source": [
        "for llave in estudiante.keys():\n",
        "  print(llave)"
      ],
      "metadata": {
        "colab": {
          "base_uri": "https://localhost:8080/"
        },
        "id": "_1nrwiEGD6Pq",
        "outputId": "cf5987ed-9700-4c83-f307-b8297dc9bfaa"
      },
      "execution_count": 72,
      "outputs": [
        {
          "output_type": "stream",
          "name": "stdout",
          "text": [
            "matricula\n",
            "dia_registro\n",
            "mes_registro\n",
            "modalidad\n"
          ]
        }
      ]
    },
    {
      "cell_type": "code",
      "source": [
        "for llave, valor in estudiante.items():\n",
        "  print(f'La llave es: {llave} y el valor es: {valor}')"
      ],
      "metadata": {
        "colab": {
          "base_uri": "https://localhost:8080/"
        },
        "id": "i4JNxUtCDkFv",
        "outputId": "996809c5-d5cd-4d5c-cf06-1e081b129f7d"
      },
      "execution_count": 70,
      "outputs": [
        {
          "output_type": "stream",
          "name": "stdout",
          "text": [
            "La llave es: matricula y el valor es: 2000016899\n",
            "La llave es: dia_registro y el valor es: 35\n",
            "La llave es: mes_registro y el valor es: 10\n",
            "La llave es: modalidad y el valor es: EAD\n"
          ]
        }
      ]
    },
    {
      "cell_type": "markdown",
      "source": [
        "#Desafios con listas y diccionarios."
      ],
      "metadata": {
        "id": "M7Vv-qNNEekP"
      }
    },
    {
      "cell_type": "markdown",
      "source": [
        "1 - Crea un programa que tenga la siguiente lista con los gastos de una empresa de papel [2172.54, 3701.35, 3518.09, 3456.61, 3249.38, 2840.82, 3891.45, 3075.26, 2317.64, 3219.08].\n",
        "Con estos valores, crea un programa que calcule el promedio de gastos. Sugerencia: usa las funciones integradas sum() y len().\n"
      ],
      "metadata": {
        "id": "XLuahCS1EtAZ"
      }
    },
    {
      "cell_type": "code",
      "source": [
        "#Gastos\n",
        "gastos = [2172.54, 3701.35, 3518.09, 3456.61, 3249.38, 2840.82, 3891.45, 3075.26, 2317.64, 3219.08]\n",
        "\n",
        "#Calculando el promedio de gastos\n",
        "total_gastos = sum(gastos)\n",
        "cantidad_compras = len(gastos)\n",
        "promedio_gastos = total_gastos / cantidad_compras\n",
        "\n",
        "media_gastos = round(promedio_gastos,2)\n",
        "\n",
        "#Mostrando el resultado\n",
        "print(f\"El promedio de gastos es: {round(promedio_gastos,2)}\")\n"
      ],
      "metadata": {
        "colab": {
          "base_uri": "https://localhost:8080/"
        },
        "id": "q3sZZQphEi6R",
        "outputId": "4d7a6b28-5beb-4a1e-c31c-0914f3aa9902"
      },
      "execution_count": 76,
      "outputs": [
        {
          "output_type": "stream",
          "name": "stdout",
          "text": [
            "El promedio de gastos es: 3144.22\n"
          ]
        }
      ]
    },
    {
      "cell_type": "markdown",
      "source": [
        "2 - Con los mismos datos de la pregunta anterior, determina cuántas compras se realizaron por encima de 3000 USD y calcula el porcentaje con respecto al total de compras."
      ],
      "metadata": {
        "id": "mdzX6LP7FUUr"
      }
    },
    {
      "cell_type": "code",
      "source": [
        "# Variable que contará cuántas compras se realizaron por encima de 3000\n",
        "contador_mayor_3000 = 0\n",
        "# Usamos un bucle para recorrer la lista de gastos\n",
        "for gasto in gastos:\n",
        "  # Verificamos si el elemento está por encima de 3000\n",
        "  if gasto > 3000:\n",
        "    # Sumamos uno al contador si hay algún valor por encima de 3000\n",
        "    contador_mayor_3000 += 1\n",
        "\n",
        "# Con el conteo podemos calcular el porcentaje de valores por encima de 3000 entre todas las compras\n",
        "porcentaje_arriba_3000 = 100 * contador_mayor_3000 / cantidad_compras\n",
        "\n",
        "# Resultado\n",
        "print(f'{contador_mayor_3000} compras estuvieron por encima de USD $3000,00.')\n",
        "print(f'{porcentaje_arriba_3000}% de los gastos estuvieron por encima de USD $3000,00.')"
      ],
      "metadata": {
        "colab": {
          "base_uri": "https://localhost:8080/"
        },
        "id": "4dhscX1XFSwL",
        "outputId": "b9094f04-9bfc-4296-fac4-6c1488cc030a"
      },
      "execution_count": 77,
      "outputs": [
        {
          "output_type": "stream",
          "name": "stdout",
          "text": [
            "7 compras estuvieron por encima de USD $3000,00.\n",
            "70.0% de los gastos estuvieron por encima de USD $3000,00.\n"
          ]
        }
      ]
    },
    {
      "cell_type": "markdown",
      "source": [
        "3 - Crea un código que recoja en una lista 5 números enteros aleatorios e imprima la lista. Ejemplo: [1, 4, 7, 2, 4]."
      ],
      "metadata": {
        "id": "Rg1lql10Jdyd"
      }
    },
    {
      "cell_type": "code",
      "source": [
        "numeros_aleatorios = []\n",
        "\n",
        "for i in range(0,5):\n",
        "    numero_aleatorio = int(input(f\"Ingrese el número entero: \"))\n",
        "    numeros_aleatorios.append(numero_aleatorio)\n",
        "\n",
        "print(numeros_aleatorios)\n"
      ],
      "metadata": {
        "colab": {
          "base_uri": "https://localhost:8080/"
        },
        "id": "FPj5rk6zJerU",
        "outputId": "e1148d73-4c19-48f6-fe0a-ff8672bc8753"
      },
      "execution_count": 80,
      "outputs": [
        {
          "output_type": "stream",
          "name": "stdout",
          "text": [
            "Ingrese el número entero: 5\n",
            "Ingrese el número entero: 3\n",
            "Ingrese el número entero: 2\n",
            "Ingrese el número entero: 8\n",
            "Ingrese el número entero: 9\n",
            "[5, 3, 2, 8, 9]\n"
          ]
        }
      ]
    },
    {
      "cell_type": "markdown",
      "source": [
        "4- Dado que el objetivo es imprimir la lista de números enteros en orden inverso al ingresado, podemos utilizar la técnica de partición, en la que la lista se recorre desde el último elemento (usando el índice -1) hasta el primero. De esta manera, la lista se imprime en orden inverso al original, de modo que el último elemento es el primero en mostrarse, seguido por el penúltimo elemento y así sucesivamente."
      ],
      "metadata": {
        "id": "qricoVbNKCw0"
      }
    },
    {
      "cell_type": "code",
      "source": [
        "# Lista que almacenará los 5 números enteros\n",
        "lista_numeros = []\n",
        "\n",
        "# Creamos un bucle que iterará 5 veces para recibir los 5 números\n",
        "for i in range(0, 5):\n",
        "  # Recopilamos el valor e lo insertamos en la lista 5 veces\n",
        "  numero = int(input('Ingresa un número entero: '))\n",
        "  lista_numeros.append(numero)\n",
        "# Usamos la técnica de partición para imprimir el resultado\n",
        "print(f'Lista de números invertida: {lista_numeros[::-1]}')"
      ],
      "metadata": {
        "colab": {
          "base_uri": "https://localhost:8080/"
        },
        "id": "aGh_tu-MKE2B",
        "outputId": "d5e02e8e-48ae-43d0-b985-87a250a254ba"
      },
      "execution_count": 81,
      "outputs": [
        {
          "output_type": "stream",
          "name": "stdout",
          "text": [
            "Ingresa un número entero: 8\n",
            "Ingresa un número entero: 4\n",
            "Ingresa un número entero: 9\n",
            "Ingresa un número entero: 3\n",
            "Ingresa un número entero: 2\n",
            "Lista de números invertida: [2, 3, 9, 4, 8]\n"
          ]
        }
      ]
    },
    {
      "cell_type": "markdown",
      "source": [
        "5 - Para este problema, necesitamos verificar si todos los números, por debajo de lo especificado por el usuario, son o no divisibles por otros valores además de sí mismos. Para hacer esto, podemos anidar un bucle dentro de otro. Usamos un bucle para recorrer los números enteros de 2 al número ingresado. Para cada número, otro bucle se utiliza para verificar si es divisible por números más pequeños que él. Si el número no es divisible por ninguno de estos números, se considera un número primo. Esta estructura se puede observar a continuación:"
      ],
      "metadata": {
        "id": "GaD_3HxEKlnW"
      }
    },
    {
      "cell_type": "code",
      "source": [
        "# Recopilamos el número\n",
        "numero = int(input('Ingresa un número entero: '))\n",
        "# Lista para almacenar los números primos\n",
        "lista_primos = []\n",
        "# Bucle que recorre todos los números por debajo del número ingresado\n",
        "for num in range(2, numero):\n",
        "  # Primo es una bandera que nos permite saber si el valor analizado es primo o no.\n",
        "  primo = True\n",
        "  # Probamos si todos los números por debajo del especificado en el primer bucle pueden dar una división exacta.\n",
        "  for prueba_divisibles in range(2, num):\n",
        "    if num % prueba_divisibles == 0:\n",
        "      # Si es divisible por algún número, entendemos que el número no es primo y terminamos el bucle interno con break.\n",
        "      primo = False\n",
        "      break\n",
        "  # La condición se convierte en el resultado booleano de primo: False. Ignoramos la condición True y ejecutamos el bloque del if.\n",
        "  if primo:\n",
        "    lista_primos.append(num)\n",
        "# Resultado\n",
        "print(f'Lista de números primos: {lista_primos}')"
      ],
      "metadata": {
        "colab": {
          "base_uri": "https://localhost:8080/"
        },
        "id": "uf4J2z80LaFK",
        "outputId": "537ec4e7-beca-4ad8-8f91-dd50325400df"
      },
      "execution_count": 82,
      "outputs": [
        {
          "output_type": "stream",
          "name": "stdout",
          "text": [
            "Ingresa un número entero: 8\n",
            "Lista de números primos: [2, 3, 5, 7]\n"
          ]
        }
      ]
    },
    {
      "cell_type": "markdown",
      "source": [
        "6 - Recopilamos el día, mes y año de una fecha y realizamos comprobaciones mes a mes, confirmando si en febrero (sea o no un año bisiesto) el día coincide con lo que es posible. También se analizan los meses que terminan en 31 o 30 días para evitar la existencia de fechas inválidas en los datos."
      ],
      "metadata": {
        "id": "zCvz9uvHLdiq"
      }
    },
    {
      "cell_type": "code",
      "source": [
        "# Recopilamos la fecha\n",
        "dia = int(input('Ingrese el día: '))\n",
        "mes = int(input('Ingrese el mes: '))\n",
        "año = int(input('Ingrese el año: '))\n",
        "\n",
        "# Análisis de febrero\n",
        "if mes == 2:\n",
        "  # Verificamos si es o no un año bisiesto\n",
        "  if año % 4 == 0 and (año % 400 == 0 or año % 100 != 0):\n",
        "    dias_febrero = 29\n",
        "  else:\n",
        "    dias_febrero = 28\n",
        "  # Verificamos si el día ingresado coincide con el máximo de días de febrero\n",
        "  if dia >= 1 and dia <= dias_febrero:\n",
        "    print('Fecha válida')\n",
        "  else:\n",
        "    print('Fecha inválida')\n",
        "# Verificamos meses que terminan en 31 días\n",
        "elif mes in [1, 3, 5, 7, 8, 10, 12]:\n",
        "  if dia >= 1 and dia <= 31:\n",
        "    print('Fecha válida')\n",
        "  else:\n",
        "    print('Fecha inválida')\n",
        "# Verificamos meses que terminan en 30 días\n",
        "elif mes in [4, 6, 9, 11]:\n",
        "  if dia >= 1 and dia <= 30:\n",
        "    print('Fecha válida')\n",
        "  else:\n",
        "    print('Fecha inválida')\n",
        "# Si el mes no está entre 1 y 12\n",
        "else:\n",
        "  print('Fecha inválida')"
      ],
      "metadata": {
        "colab": {
          "base_uri": "https://localhost:8080/"
        },
        "id": "zmcGpqyOLfpY",
        "outputId": "e7613441-f9a3-41f9-f99f-832a2921047b"
      },
      "execution_count": 84,
      "outputs": [
        {
          "output_type": "stream",
          "name": "stdout",
          "text": [
            "Ingrese el día: 9\n",
            "Ingrese el mes: 8\n",
            "Ingrese el año: 1984\n",
            "Fecha válida\n"
          ]
        }
      ]
    },
    {
      "cell_type": "code",
      "source": [
        "# 7 Lista de crecimiento de bacterias\n",
        "bacterias_colonia = [1.2, 2.1, 3.3, 5.0, 7.8, 11.3, 16.6, 25.1, 37.8, 56.9]\n",
        "# Lista que almacenará las tasas de crecimiento\n",
        "porcentaje_crecimiento = []\n",
        "# Recorremos los índices de 1 a 9 para comparar los valores actuales con los anteriores\n",
        "for i in range(1, len(bacterias_colonia)):\n",
        "  # Realizamos el cálculo: 100 * (muestra_actual - muestra_anterior) / (muestra_anterior)\n",
        "  porcentaje = 100 * (bacterias_colonia[i] - bacterias_colonia[i-1]) / (bacterias_colonia[i-1])\n",
        "  # Agregamos el resultado a la lista porcentaje_crecimiento\n",
        "  porcentaje_crecimiento.append(porcentaje)\n",
        "\n",
        "#Redondenado los valores de porcentajes\n",
        "rounded_porcentajes = [round(p, 2) for p in porcentaje_crecimiento]\n",
        "\n",
        "# Resultado en pantalla\n",
        "print(f'Porcentajes de crecimiento:\\n {(rounded_porcentajes)}')"
      ],
      "metadata": {
        "colab": {
          "base_uri": "https://localhost:8080/"
        },
        "id": "G2h8BhxHLvqs",
        "outputId": "8f26dc08-e15b-4f56-a428-49d68b8f1631"
      },
      "execution_count": 89,
      "outputs": [
        {
          "output_type": "stream",
          "name": "stdout",
          "text": [
            "Porcentajes de crecimiento:\n",
            " [75.0, 57.14, 51.52, 56.0, 44.87, 46.9, 51.2, 50.6, 50.53]\n"
          ]
        }
      ]
    },
    {
      "cell_type": "code",
      "source": [
        "# 8 Lista que contendrá los valores de IDs\n",
        "ids = []\n",
        "# Variables contadoras de dulces y amargos\n",
        "dulce = 0\n",
        "amargo = 0\n",
        "\n",
        "# Creamos un bucle que iterará 10 veces para recopilar los 10 IDs\n",
        "for i in range(0,10):\n",
        "  # Recopilamos el ID y lo agregamos a la lista\n",
        "  ids.append(int(input(f'Ingrese el ID {i+1}°: ')))\n",
        "\n",
        "# Leemos todos los elementos de la lista de IDs y los asignamos a id\n",
        "for id in ids:\n",
        "  # Verificamos si los elementos son pares o impares para llevar el conteo\n",
        "  if id % 2 == 0:\n",
        "    dulce += 1\n",
        "  else:\n",
        "    amargo += 1\n",
        "\n",
        "# Resultado\n",
        "print(f'Cantidad de productos dulces: {dulce}')\n",
        "print(f'Cantidad de productos amargos: {amargo}')"
      ],
      "metadata": {
        "colab": {
          "base_uri": "https://localhost:8080/"
        },
        "id": "U5O2bY1DMmWh",
        "outputId": "200921c1-2717-453c-aa4c-a22632fedf6e"
      },
      "execution_count": 91,
      "outputs": [
        {
          "output_type": "stream",
          "name": "stdout",
          "text": [
            "Ingrese el ID 1°: 1\n",
            "Ingrese el ID 2°: 3\n",
            "Ingrese el ID 3°: 7\n",
            "Ingrese el ID 4°: 9\n",
            "Ingrese el ID 5°: 4\n",
            "Ingrese el ID 6°: 3\n",
            "Ingrese el ID 7°: 2\n",
            "Ingrese el ID 8°: 1\n",
            "Ingrese el ID 9°: 0\n",
            "Ingrese el ID 10°: 7\n",
            "Cantidad de productos dulces: 3\n",
            "Cantidad de productos amargos: 7\n"
          ]
        }
      ]
    },
    {
      "cell_type": "code",
      "source": [
        "#9\n",
        "# Inicializamos los datos\n",
        "respuestas = []  # Lista para almacenar las respuestas\n",
        "# Lista de respuestas correctas\n",
        "gabarito = ['D', 'A', 'C', 'B', 'A', 'D', 'C', 'C', 'A', 'B']\n",
        "nota = 0  # Acumulará la nota total\n",
        "\n",
        "# Recopilamos las respuestas del estudiante\n",
        "for i in range(0, 10):\n",
        "  respuestas.append(input(f'Introduzca la respuesta a la pregunta {i + 1}: ').upper())\n",
        "\n",
        "# Verificamos si las respuestas coinciden y las sumamos a la nota\n",
        "for i in range(0, 10):\n",
        "  if respuestas[i] == gabarito[i]:\n",
        "    nota += 1\n",
        "\n",
        "# Mostrando la nota final\n",
        "print(f'Nota final: {nota}')"
      ],
      "metadata": {
        "colab": {
          "base_uri": "https://localhost:8080/"
        },
        "id": "bSDoWGHMMzaL",
        "outputId": "d865d0e4-cd6a-453c-ad5a-f4bb2faf06b6"
      },
      "execution_count": 92,
      "outputs": [
        {
          "output_type": "stream",
          "name": "stdout",
          "text": [
            "Introduzca la respuesta a la pregunta 1: 1\n",
            "Introduzca la respuesta a la pregunta 2: 8\n",
            "Introduzca la respuesta a la pregunta 3: 1\n",
            "Introduzca la respuesta a la pregunta 4: 9\n",
            "Introduzca la respuesta a la pregunta 5: 5\n",
            "Introduzca la respuesta a la pregunta 6: 6\n",
            "Introduzca la respuesta a la pregunta 7: 1\n",
            "Introduzca la respuesta a la pregunta 8: 8\n",
            "Introduzca la respuesta a la pregunta 9: 6\n",
            "Introduzca la respuesta a la pregunta 10: 10\n",
            "Nota final: 0\n"
          ]
        }
      ]
    },
    {
      "cell_type": "code",
      "source": [
        "#10\n",
        "# Recopilamos la lista de temperaturas mensuales\n",
        "temperaturas_mensuales = []\n",
        "for i in range(0, 12):\n",
        "  temperaturas_mensuales.append(float(input(f'Ingrese la temperatura promedio del mes {i+1}: ')))\n",
        "# Creamos una lista auxiliar para los nombres de los meses\n",
        "meses = ['Enero', 'Febrero', 'Marzo', 'Abril', 'Mayo', 'Junio', 'Julio', 'Agosto', 'Septiembre', 'Octubre', 'Noviembre', 'Diciembre']\n",
        "# Calculamos el promedio\n",
        "media_anual = sum(temperaturas_mensuales) / len(temperaturas_mensuales)\n",
        "\n",
        "# Resultado\n",
        "print('Temperaturas por encima del promedio en: ')\n",
        "for i in range(0, 12):\n",
        "  # Verificamos todas las temperaturas en comparación con la media anual\n",
        "  if temperaturas_mensuales[i] > media_anual:\n",
        "    # Dado que los índices de los meses corresponden a las temperaturas,\n",
        "    # podemos imprimirlos con el mismo índice\n",
        "    print(meses[i])"
      ],
      "metadata": {
        "colab": {
          "base_uri": "https://localhost:8080/"
        },
        "id": "ErShoF81NKY8",
        "outputId": "3ca1cce1-7a34-46e2-c2b5-03f57f0cd18a"
      },
      "execution_count": 94,
      "outputs": [
        {
          "output_type": "stream",
          "name": "stdout",
          "text": [
            "Ingrese la temperatura promedio del mes 1: 30.2\n",
            "Ingrese la temperatura promedio del mes 2: 31.3\n",
            "Ingrese la temperatura promedio del mes 3: 30.7\n",
            "Ingrese la temperatura promedio del mes 4: 32.4\n",
            "Ingrese la temperatura promedio del mes 5: 31.5\n",
            "Ingrese la temperatura promedio del mes 6: 31.3\n",
            "Ingrese la temperatura promedio del mes 7: 30.1\n",
            "Ingrese la temperatura promedio del mes 8: 29.7\n",
            "Ingrese la temperatura promedio del mes 9: 29\n",
            "Ingrese la temperatura promedio del mes 10: 28.0\n",
            "Ingrese la temperatura promedio del mes 11: 27.5\n",
            "Ingrese la temperatura promedio del mes 12: 24.9\n",
            "Temperaturas por encima del promedio en: \n",
            "Enero\n",
            "Febrero\n",
            "Marzo\n",
            "Abril\n",
            "Mayo\n",
            "Junio\n",
            "Julio\n"
          ]
        }
      ]
    },
    {
      "cell_type": "code",
      "source": [
        "#11 Diccionario de ventas\n",
        "# Diccionario de ventas\n",
        "datos_ventas = {'Producto A': 300, 'Producto B': 80, 'Producto C': 60, 'Producto D': 200, 'Producto E': 250, 'Producto F': 30}\n",
        "\n",
        "# Inicializamos las variables\n",
        "total_ventas = 0  # Sumará todas las ventas\n",
        "producto_mas_vendido = ''  # Almacenará el nombre del producto más vendido\n",
        "unidades_producto_mas_vendido = 0  # Almacenará la cantidad más alta de ventas\n",
        "\n",
        "# Recorremos las claves y elementos del diccionario\n",
        "for producto in datos_ventas.keys():\n",
        "    # Sumamos el total de ventas\n",
        "    total_ventas += datos_ventas[producto]\n",
        "    # Verificamos si el valor de ventas actual (datos_ventas[producto]) es mayor que el valor almacenado en unidades_producto_mas_vendido\n",
        "    # Cada vez que datos_ventas[producto] supere el valor en unidades_producto_mas_vendido,\n",
        "    # la variable unidades_producto_mas_vendido será igual a datos_ventas[producto], asignando un nuevo valor\n",
        "    # De manera similar, producto_mas_vendido también se actualiza con el producto actual\n",
        "    if datos_ventas[producto] > unidades_producto_mas_vendido:\n",
        "        unidades_producto_mas_vendido = datos_ventas[producto]\n",
        "        producto_mas_vendido = producto\n",
        "# Resultados\n",
        "print(f'Total de ventas es {total_ventas}')\n",
        "print(f'{producto_mas_vendido} es el más vendido')"
      ],
      "metadata": {
        "colab": {
          "base_uri": "https://localhost:8080/"
        },
        "id": "2DtbZ8ZiNdiU",
        "outputId": "0387a443-b2ab-4609-af3b-7cd6f0619394"
      },
      "execution_count": 95,
      "outputs": [
        {
          "output_type": "stream",
          "name": "stdout",
          "text": [
            "Total de ventas es 920\n",
            "Producto A es el más vendido\n"
          ]
        }
      ]
    },
    {
      "cell_type": "code",
      "source": [
        "#12\n",
        "# Diccionario de votos por diseño\n",
        "votos = {'Diseño 1': 1334, 'Diseño 2': 982, 'Diseño 3': 1751, 'Diseño 4': 210, 'Diseño 5': 1811}\n",
        "\n",
        "# Inicializamos las variables\n",
        "total_votos = 0  # Sumará todos los votos\n",
        "ganador = ''  # Almacenará el nombre del diseño ganador\n",
        "voto_ganador = 0  # Almacenará la cantidad ganadora de votos\n",
        "\n",
        "# Recorremos las claves y elementos del diccionario\n",
        "for diseño, voto_diseño in votos.items():\n",
        "    # Sumamos el total de votos\n",
        "    total_votos += voto_diseño\n",
        "    # Verificamos si el voto del diseño actual (voto_diseño) es mayor que el valor almacenado en voto_ganador\n",
        "    # Cada vez que voto_diseño supere el valor en voto_ganador,\n",
        "    # la variable voto_ganador será igual a voto_diseño, asignando un nuevo valor\n",
        "    # De manera similar, el ganador también se actualiza con el diseño actual\n",
        "    if voto_diseño > voto_ganador:\n",
        "        voto_ganador = voto_diseño\n",
        "        ganador = diseño\n",
        "# Calculamos el porcentaje del diseño ganador\n",
        "porcentaje = 100 * (voto_ganador) / (total_votos)\n",
        "\n",
        "# Resultado\n",
        "print(f'{ganador} es el ganador: ')\n",
        "print(f'Porcentaje de votos: {round(porcentaje,2)}%')"
      ],
      "metadata": {
        "colab": {
          "base_uri": "https://localhost:8080/"
        },
        "id": "HLIB7cNWNk2L",
        "outputId": "e4a78fec-ad50-4cfe-a4f9-e12109a54e88"
      },
      "execution_count": 97,
      "outputs": [
        {
          "output_type": "stream",
          "name": "stdout",
          "text": [
            "Diseño 5 es el ganador: \n",
            "Porcentaje de votos: 29.75%\n"
          ]
        }
      ]
    },
    {
      "cell_type": "code",
      "source": [
        "#13\n",
        "# Lista de salarios\n",
        "salarios = [1172, 1644, 2617, 5130, 5532, 6341, 6650, 7238, 7685, 7782, 7903]\n",
        "# Inicializamos las variables\n",
        "diccionario_abonos = {}  # Diccionario de abonos\n",
        "total_abono = 0  # Sumará todos los gastos en abonos\n",
        "abonos_minimo = 0  # Almacenará la cantidad de abonos mínimos\n",
        "mayor_abono = 0  # Almacenará el mayor valor de abono\n",
        "\n",
        "# Recorremos toda la lista de salarios\n",
        "for salario in salarios:\n",
        "    # Calculamos el valor teórico del abono\n",
        "    abono = salario * 0.1\n",
        "    # Si el abono es inferior a 200,\n",
        "    # ajustamos el valor del abono al mínimo (200)\n",
        "    if abono < 200:\n",
        "        abono = 200\n",
        "    # Agregamos un nuevo dato en el diccionario con la clave abono\n",
        "    diccionario_abonos[salario] = abono\n",
        "\n",
        "# Recorremos todos los valores del diccionario de abonos\n",
        "for abono in diccionario_abonos.values():\n",
        "    # Contamos los salarios mínimos\n",
        "    if abono == 200:\n",
        "        abonos_minimo += 1\n",
        "    # Verificamos si el abono leído es mayor que el valor almacenado en mayor_abono\n",
        "    # Cada vez que el abono supere el valor de mayor_abono,\n",
        "    # la variable mayor_abono será igual al abono, asignando un nuevo valor\n",
        "    if abono > mayor_abono:\n",
        "        mayor_abono = abono\n",
        "    # Sumamos los abonos\n",
        "    total_abono += abono\n",
        "# Resultados\n",
        "print(f'Abonos: {diccionario_abonos}')\n",
        "print(f'Total de gastos en abonos: {total_abono}')\n",
        "print(f'Número de empleados que recibieron el abono mínimo: {abonos_minimo}')\n",
        "print(f'Mayor valor de abono: {round(mayor_abono,2)}')"
      ],
      "metadata": {
        "colab": {
          "base_uri": "https://localhost:8080/"
        },
        "id": "jusQSVTyNs9-",
        "outputId": "204a9a56-0975-4018-fd85-5894d6350919"
      },
      "execution_count": 101,
      "outputs": [
        {
          "output_type": "stream",
          "name": "stdout",
          "text": [
            "Abonos: {1172: 200, 1644: 200, 2617: 261.7, 5130: 513.0, 5532: 553.2, 6341: 634.1, 6650: 665.0, 7238: 723.8000000000001, 7685: 768.5, 7782: 778.2, 7903: 790.3000000000001}\n",
            "Total de gastos en abonos: 6087.8\n",
            "Número de empleados que recibieron el abono mínimo: 2\n",
            "Mayor valor de abono: 790.3\n"
          ]
        }
      ]
    },
    {
      "cell_type": "code",
      "source": [
        "#14\n",
        "# Especificamos los datos para un diccionario\n",
        "datos = {'Área Norte': [2819, 7236],\n",
        "         'Área Este': [1440, 9492],\n",
        "         'Área Sur': [5969, 7496],\n",
        "         'Área Oeste': [14446, 49688],\n",
        "         'Área Centro': [22558, 45148]}\n",
        "# Inicializamos las variables\n",
        "suma_media = 0  # Sumará todos los promedios\n",
        "mayor_diversidad = ''  # Almacenará el área con la mayor diversidad\n",
        "mayor_suma = 0  # Almacenará la mayor suma de especies\n",
        "# Recorremos las claves y elementos del diccionario\n",
        "for área, especies in datos.items():\n",
        "    # Sumamos el número de especies en cada área utilizando la función sum\n",
        "    suma_especies = sum(especies)\n",
        "    # Calculamos el promedio dividiendo la suma de las especies entre la cantidad de especies\n",
        "    media = suma_especies / len(especies)\n",
        "    # Imprimimos\n",
        "    print(f'El {área} tiene un promedio de {media} especies')\n",
        "    # Verificamos si la suma de especies es mayor que el valor almacenado de mayor_suma\n",
        "    # Cada vez que suma_especies supere el valor de mayor_suma,\n",
        "    # la variable mayor_suma será igual a suma_especies, asignando un nuevo valor\n",
        "    # De manera similar, mayor_diversidad también se actualiza\n",
        "    if suma_especies > mayor_suma:\n",
        "        mayor_suma = suma_especies\n",
        "        mayor_diversidad = área\n",
        "    # Sumamos los promedios\n",
        "    suma_media += media\n",
        "# La media total será la suma_media dividida por la cantidad de áreas\n",
        "media_total = suma_media / len(datos)\n",
        "print(f'Media general de especies: {media_total}')\n",
        "print(f'Área con la mayor diversidad biológica: {mayor_diversidad}')"
      ],
      "metadata": {
        "colab": {
          "base_uri": "https://localhost:8080/"
        },
        "id": "K489lBrTOaV7",
        "outputId": "0c7502a8-d814-4a23-a729-a19a09ddf81f"
      },
      "execution_count": 102,
      "outputs": [
        {
          "output_type": "stream",
          "name": "stdout",
          "text": [
            "El Área Norte tiene un promedio de 5027.5 especies\n",
            "El Área Este tiene un promedio de 5466.0 especies\n",
            "El Área Sur tiene un promedio de 6732.5 especies\n",
            "El Área Oeste tiene un promedio de 32067.0 especies\n",
            "El Área Centro tiene un promedio de 33853.0 especies\n",
            "Media general de especies: 16629.2\n",
            "Área con la mayor diversidad biológica: Área Centro\n"
          ]
        }
      ]
    },
    {
      "cell_type": "code",
      "source": [
        "#15\n",
        "# Especificamos los datos para un diccionario\n",
        "datos = {'Sector A': [22, 26, 30, 30, 35, 38, 40, 56, 57, 65],\n",
        "        'Sector B': [22, 24, 26, 33, 41, 49, 50, 54, 60, 64],\n",
        "        'Sector C': [23, 26, 26, 29, 34, 35, 36, 41, 52, 56],\n",
        "        'Sector D': [19, 20, 25, 27, 34, 39, 42, 44, 50, 65]}\n",
        "# Inicializamos la variable que sumará todas las edades\n",
        "total_edades = 0\n",
        "# Recorremos las claves y elementos del diccionario\n",
        "for sector, edades in datos.items():\n",
        "  # Calculamos el promedio dividiendo la suma de las edades entre la cantidad de empleados en cada sector\n",
        "  media_edad = sum(edades) / len(edades)\n",
        "  # Imprimimos\n",
        "  print(f'El {sector} tiene un promedio de {media_edad}')\n",
        "  # Sumamos los promedios\n",
        "  total_edades += sum(edades)\n",
        "# La media total será el total_edades dividido por la cantidad de personas totales (sectores * empleados por sector)\n",
        "media_total = total_edades / (len(edades) * len(datos))\n",
        "print(f'La media de edad general es {media_total}')\n",
        "\n",
        "# Inicializamos la variable que contará a todas las personas con edades por encima de la media\n",
        "arriba_media = 0\n",
        "# Recorremos nuevamente las claves y elementos del diccionario\n",
        "for sector, edades in datos.items():\n",
        "  # Leemos los elementos (edades) dentro de cada lista de edades en el diccionario\n",
        "  for edad in edades:\n",
        "    # Verificamos si el valor de la edad es superior a la media total\n",
        "    if edad > media_total:\n",
        "      # En caso de que el valor de la edad sea superior a la media, incrementamos en uno el contador\n",
        "      arriba_media += 1\n",
        "# Resultado\n",
        "print(f'{arriba_media} personas están por encima de la edad media general')"
      ],
      "metadata": {
        "colab": {
          "base_uri": "https://localhost:8080/"
        },
        "id": "vi6pk3S5Ojbs",
        "outputId": "8be4dffc-e7d9-4649-eb76-1b8c1f7c7988"
      },
      "execution_count": 103,
      "outputs": [
        {
          "output_type": "stream",
          "name": "stdout",
          "text": [
            "El Sector A tiene un promedio de 39.9\n",
            "El Sector B tiene un promedio de 42.3\n",
            "El Sector C tiene un promedio de 35.8\n",
            "El Sector D tiene un promedio de 36.5\n",
            "La media de edad general es 38.625\n",
            "18 personas están por encima de la edad media general\n"
          ]
        }
      ]
    }
  ],
  "metadata": {
    "colab": {
      "provenance": [],
      "authorship_tag": "ABX9TyOyRDoY8DXLqxljKtJuEbJG",
      "include_colab_link": true
    },
    "kernelspec": {
      "display_name": "Python 3",
      "name": "python3"
    },
    "language_info": {
      "name": "python"
    }
  },
  "nbformat": 4,
  "nbformat_minor": 0
}